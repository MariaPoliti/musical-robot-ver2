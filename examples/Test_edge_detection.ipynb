{
 "cells": [
  {
   "cell_type": "code",
   "execution_count": 279,
   "metadata": {},
   "outputs": [],
   "source": [
    "import pandas as pd\n",
    "import matplotlib.pyplot as plt\n",
    "from skimage import io\n",
    "import numpy as np\n",
    "import sys\n",
    "import cv2 as cv\n",
    "\n",
    "%matplotlib inline\n",
    "from scipy import ndimage\n",
    "from skimage.color import rgb2gray\n",
    "from skimage.filters import gaussian\n",
    "from skimage.filters import sobel, prewitt, scharr\n",
    "from scipy.ndimage.morphology import binary_fill_holes\n",
    "from skimage.measure import label\n",
    "from skimage.measure import regionprops"
   ]
  },
  {
   "cell_type": "markdown",
   "metadata": {},
   "source": [
    "### Reading the tiff file and selecting everything tenth frame"
   ]
  },
  {
   "cell_type": "code",
   "execution_count": 2,
   "metadata": {},
   "outputs": [
    {
     "data": {
      "text/plain": [
       "'/Users/shrilakshmisbonageri/Desktop/UW/DIRECT/capstone/musical-robot/examples'"
      ]
     },
     "execution_count": 2,
     "metadata": {},
     "output_type": "execute_result"
    }
   ],
   "source": [
    "pwd"
   ]
  },
  {
   "cell_type": "code",
   "execution_count": 3,
   "metadata": {},
   "outputs": [],
   "source": [
    "sys.path.insert(0, '/Users/shrilakshmisbonageri/Desktop/UW/DIRECT/capstone/musical-robot/musicalrobot')"
   ]
  },
  {
   "cell_type": "code",
   "execution_count": 4,
   "metadata": {},
   "outputs": [],
   "source": [
    "import irtemp"
   ]
  },
  {
   "cell_type": "code",
   "execution_count": 5,
   "metadata": {},
   "outputs": [],
   "source": [
    "image = io.imread('../doc/TestVideo.tiff')"
   ]
  },
  {
   "cell_type": "code",
   "execution_count": 475,
   "metadata": {},
   "outputs": [],
   "source": [
    "cap=cv.VideoCapture('../doc/TestVideo.tiff')"
   ]
  },
  {
   "cell_type": "code",
   "execution_count": 478,
   "metadata": {},
   "outputs": [
    {
     "data": {
      "text/plain": [
       "(True, array([[[114, 114, 114],\n",
       "         [114, 114, 114],\n",
       "         [114, 114, 114],\n",
       "         ...,\n",
       "         [114, 114, 114],\n",
       "         [114, 114, 114],\n",
       "         [114, 114, 114]],\n",
       " \n",
       "        [[114, 114, 114],\n",
       "         [114, 114, 114],\n",
       "         [114, 114, 114],\n",
       "         ...,\n",
       "         [114, 114, 114],\n",
       "         [114, 114, 114],\n",
       "         [114, 114, 114]],\n",
       " \n",
       "        [[114, 114, 114],\n",
       "         [114, 114, 114],\n",
       "         [114, 114, 114],\n",
       "         ...,\n",
       "         [115, 115, 115],\n",
       "         [114, 114, 114],\n",
       "         [114, 114, 114]],\n",
       " \n",
       "        ...,\n",
       " \n",
       "        [[115, 115, 115],\n",
       "         [114, 114, 114],\n",
       "         [114, 114, 114],\n",
       "         ...,\n",
       "         [114, 114, 114],\n",
       "         [114, 114, 114],\n",
       "         [114, 114, 114]],\n",
       " \n",
       "        [[114, 114, 114],\n",
       "         [114, 114, 114],\n",
       "         [114, 114, 114],\n",
       "         ...,\n",
       "         [114, 114, 114],\n",
       "         [114, 114, 114],\n",
       "         [114, 114, 114]],\n",
       " \n",
       "        [[114, 114, 114],\n",
       "         [114, 114, 114],\n",
       "         [114, 114, 114],\n",
       "         ...,\n",
       "         [114, 114, 114],\n",
       "         [114, 114, 114],\n",
       "         [114, 114, 114]]], dtype=uint8))"
      ]
     },
     "execution_count": 478,
     "metadata": {},
     "output_type": "execute_result"
    }
   ],
   "source": [
    "cap.read()"
   ]
  },
  {
   "cell_type": "code",
   "execution_count": 6,
   "metadata": {},
   "outputs": [
    {
     "data": {
      "text/plain": [
       "(18352, 120, 160)"
      ]
     },
     "execution_count": 6,
     "metadata": {},
     "output_type": "execute_result"
    }
   ],
   "source": [
    "image.shape"
   ]
  },
  {
   "cell_type": "code",
   "execution_count": null,
   "metadata": {},
   "outputs": [],
   "source": []
  },
  {
   "cell_type": "code",
   "execution_count": 7,
   "metadata": {},
   "outputs": [],
   "source": [
    "selected_frames = image[0::10]"
   ]
  },
  {
   "cell_type": "code",
   "execution_count": 8,
   "metadata": {},
   "outputs": [
    {
     "name": "stdout",
     "output_type": "stream",
     "text": [
      "1836\n",
      "120\n",
      "160\n"
     ]
    }
   ],
   "source": [
    "frames, height, width = selected_frames.shape\n",
    "print(frames)\n",
    "print(height)\n",
    "print(width)"
   ]
  },
  {
   "cell_type": "code",
   "execution_count": 45,
   "metadata": {},
   "outputs": [
    {
     "name": "stderr",
     "output_type": "stream",
     "text": [
      "/Users/shrilakshmisbonageri/miniconda3/envs/image/lib/python3.6/site-packages/skimage/io/_plugins/matplotlib_plugin.py:75: UserWarning: Low image data range; displaying image with stretched contrast.\n",
      "  warn(\"Low image data range; displaying image with \"\n"
     ]
    },
    {
     "data": {
      "text/plain": [
       "<matplotlib.image.AxesImage at 0x120ad1908>"
      ]
     },
     "execution_count": 45,
     "metadata": {},
     "output_type": "execute_result"
    },
    {
     "data": {
      "image/png": "[encoded data removed]",
      "text/plain": [
       "<Figure size 432x288 with 2 Axes>"
      ]
     },
     "metadata": {
      "needs_background": "light"
     },
     "output_type": "display_data"
    }
   ],
   "source": [
    "io.imshow(selected_frames[150])"
   ]
  },
  {
   "cell_type": "code",
   "execution_count": 275,
   "metadata": {},
   "outputs": [],
   "source": [
    "crop = selected_frames[200][30:111,20:140]"
   ]
  },
  {
   "cell_type": "code",
   "execution_count": 82,
   "metadata": {},
   "outputs": [
    {
     "name": "stderr",
     "output_type": "stream",
     "text": [
      "/Users/shrilakshmisbonageri/miniconda3/envs/image/lib/python3.6/site-packages/skimage/io/_io.py:141: UserWarning: crop_well.tiff is a low contrast image\n",
      "  warn('%s is a low contrast image' % fname)\n"
     ]
    }
   ],
   "source": [
    "io.imsave('crop_well.tiff',crop)"
   ]
  },
  {
   "cell_type": "code",
   "execution_count": 473,
   "metadata": {},
   "outputs": [
    {
     "data": {
      "text/plain": [
       "<matplotlib.image.AxesImage at 0x168249668>"
      ]
     },
     "execution_count": 473,
     "metadata": {},
     "output_type": "execute_result"
    },
    {
     "data": {
      "image/png": "[encoded data removed]",
      "text/plain": [
       "<Figure size 432x288 with 2 Axes>"
      ]
     },
     "metadata": {
      "needs_background": "light"
     },
     "output_type": "display_data"
    }
   ],
   "source": [
    "io.imshow(crop,cmap='gray')"
   ]
  },
  {
   "cell_type": "code",
   "execution_count": 277,
   "metadata": {},
   "outputs": [
    {
     "data": {
      "text/plain": [
       "<matplotlib.image.AxesImage at 0x15c23c860>"
      ]
     },
     "execution_count": 277,
     "metadata": {},
     "output_type": "execute_result"
    },
    {
     "data": {
      "image/png": "[encoded data removed]",
      "text/plain": [
       "<Figure size 432x288 with 1 Axes>"
      ]
     },
     "metadata": {
      "needs_background": "light"
     },
     "output_type": "display_data"
    }
   ],
   "source": [
    "io.imshow(irtemp.edge_detection(crop,0))"
   ]
  },
  {
   "cell_type": "code",
   "execution_count": 479,
   "metadata": {},
   "outputs": [
    {
     "name": "stdout",
     "output_type": "stream",
     "text": [
      "[[ 1  1  1]\n",
      " [ 1 -8  1]\n",
      " [ 1  1  1]] is a laplacian kernel\n"
     ]
    }
   ],
   "source": [
    "kernel_laplace = np.array([np.array([1, 1, 1]), np.array([1, -8, 1]), np.array([1, 1, 1])])\n",
    "print(kernel_laplace, 'is a laplacian kernel')"
   ]
  },
  {
   "cell_type": "code",
   "execution_count": 421,
   "metadata": {},
   "outputs": [
    {
     "data": {
      "text/plain": [
       "<matplotlib.image.AxesImage at 0x1657201d0>"
      ]
     },
     "execution_count": 421,
     "metadata": {},
     "output_type": "execute_result"
    },
    {
     "data": {
      "image/png": "[encoded data removed]",
      "text/plain": [
       "<Figure size 432x288 with 1 Axes>"
      ]
     },
     "metadata": {
      "needs_background": "light"
     },
     "output_type": "display_data"
    }
   ],
   "source": [
    "out_l = ndimage.convolve(gray, kernel_laplace, mode='reflect')\n",
    "plt.imshow(out_l, cmap='gray')"
   ]
  },
  {
   "cell_type": "code",
   "execution_count": 427,
   "metadata": {},
   "outputs": [
    {
     "name": "stdout",
     "output_type": "stream",
     "text": [
      "37076.38518518519\n"
     ]
    }
   ],
   "source": [
    "print(np.mean(out_l))"
   ]
  },
  {
   "cell_type": "code",
   "execution_count": 396,
   "metadata": {},
   "outputs": [
    {
     "data": {
      "text/plain": [
       "<matplotlib.image.AxesImage at 0x1642f7080>"
      ]
     },
     "execution_count": 396,
     "metadata": {},
     "output_type": "execute_result"
    },
    {
     "data": {
      "image/png": "[encoded data removed]",
      "text/plain": [
       "<Figure size 432x288 with 1 Axes>"
      ]
     },
     "metadata": {
      "needs_background": "light"
     },
     "output_type": "display_data"
    }
   ],
   "source": [
    "gaus = gaussian(out_l,sigma=0.01)\n",
    "io.imshow(gaus,cmap='gray')"
   ]
  },
  {
   "cell_type": "code",
   "execution_count": 472,
   "metadata": {},
   "outputs": [
    {
     "data": {
      "text/plain": [
       "<matplotlib.image.AxesImage at 0x167fb7c88>"
      ]
     },
     "execution_count": 472,
     "metadata": {},
     "output_type": "execute_result"
    },
    {
     "data": {
      "image/png": "[encoded data removed]",
      "text/plain": [
       "<Figure size 432x288 with 1 Axes>"
      ]
     },
     "metadata": {
      "needs_background": "light"
     },
     "output_type": "display_data"
    }
   ],
   "source": [
    "sob = sobel(gaus)>0.6\n",
    "io.imshow(sob,cmap='gray')"
   ]
  },
  {
   "cell_type": "code",
   "execution_count": null,
   "metadata": {},
   "outputs": [],
   "source": [
    "\n",
    "\n",
    "\n"
   ]
  },
  {
   "cell_type": "code",
   "execution_count": 470,
   "metadata": {},
   "outputs": [
    {
     "data": {
      "text/plain": [
       "<matplotlib.image.AxesImage at 0x167b0c4a8>"
      ]
     },
     "execution_count": 470,
     "metadata": {},
     "output_type": "execute_result"
    },
    {
     "data": {
      "image/png": "[encoded data removed]",
      "text/plain": [
       "<Figure size 432x288 with 1 Axes>"
      ]
     },
     "metadata": {
      "needs_background": "light"
     },
     "output_type": "display_data"
    }
   ],
   "source": [
    "filled_wells = binary_fill_holes(sob)\n",
    "io.imshow(filled_wells)"
   ]
  },
  {
   "cell_type": "code",
   "execution_count": 465,
   "metadata": {},
   "outputs": [
    {
     "data": {
      "text/plain": [
       "(-0.5, 119.5, 80.5, -0.5)"
      ]
     },
     "execution_count": 465,
     "metadata": {},
     "output_type": "execute_result"
    },
    {
     "data": {
      "image/png": "[encoded data removed]",
      "text/plain": [
       "<Figure size 432x288 with 1 Axes>"
      ]
     },
     "metadata": {
      "needs_background": "light"
     },
     "output_type": "display_data"
    }
   ],
   "source": [
    "from skimage.measure import label\n",
    "\n",
    "lab_wells = label(filled_wells)\n",
    "\n",
    "fig, ax = plt.subplots()\n",
    "ax.imshow(lab_wells*10, vmin=0)\n",
    "ax.axis('off')"
   ]
  },
  {
   "cell_type": "code",
   "execution_count": 466,
   "metadata": {},
   "outputs": [],
   "source": [
    "from skimage.measure import regionprops\n",
    "import pandas as pd\n",
    "\n",
    "props = regionprops(lab_wells, intensity_image=crop)\n",
    "x = np.zeros(len(props))\n",
    "y = np.zeros(len(props))\n",
    "area = np.zeros(len(props))\n",
    "perim = np.zeros(len(props))\n",
    "intensity = np.zeros(len(props))\n",
    "\n",
    "counter = 0\n",
    "for prop in props:\n",
    "    x[counter] = prop.centroid[0]\n",
    "    y[counter] = prop.centroid[1]\n",
    "    area[counter] = prop.area\n",
    "    perim[counter] = prop.perimeter\n",
    "    intensity[counter] = prop.mean_intensity\n",
    "    \n",
    "    counter += 1\n",
    "\n",
    "regionprops = pd.DataFrame({'X': x, 'Y': y, 'Area': area,\n",
    "                            'Perim': perim, 'Mean Intensity': intensity})"
   ]
  },
  {
   "cell_type": "code",
   "execution_count": 467,
   "metadata": {},
   "outputs": [
    {
     "data": {
      "text/html": [
       "<div>\n",
       "<style scoped>\n",
       "    .dataframe tbody tr th:only-of-type {\n",
       "        vertical-align: middle;\n",
       "    }\n",
       "\n",
       "    .dataframe tbody tr th {\n",
       "        vertical-align: top;\n",
       "    }\n",
       "\n",
       "    .dataframe thead th {\n",
       "        text-align: right;\n",
       "    }\n",
       "</style>\n",
       "<table border=\"1\" class=\"dataframe\">\n",
       "  <thead>\n",
       "    <tr style=\"text-align: right;\">\n",
       "      <th></th>\n",
       "      <th>X</th>\n",
       "      <th>Y</th>\n",
       "      <th>Area</th>\n",
       "      <th>Perim</th>\n",
       "      <th>Mean Intensity</th>\n",
       "    </tr>\n",
       "  </thead>\n",
       "  <tbody>\n",
       "    <tr>\n",
       "      <th>0</th>\n",
       "      <td>4.880734</td>\n",
       "      <td>29.752294</td>\n",
       "      <td>109.0</td>\n",
       "      <td>51.284271</td>\n",
       "      <td>30104.568807</td>\n",
       "    </tr>\n",
       "    <tr>\n",
       "      <th>1</th>\n",
       "      <td>4.472727</td>\n",
       "      <td>44.072727</td>\n",
       "      <td>55.0</td>\n",
       "      <td>25.313708</td>\n",
       "      <td>30019.545455</td>\n",
       "    </tr>\n",
       "    <tr>\n",
       "      <th>2</th>\n",
       "      <td>4.345455</td>\n",
       "      <td>54.072727</td>\n",
       "      <td>55.0</td>\n",
       "      <td>25.313708</td>\n",
       "      <td>29989.309091</td>\n",
       "    </tr>\n",
       "    <tr>\n",
       "      <th>3</th>\n",
       "      <td>4.345455</td>\n",
       "      <td>64.072727</td>\n",
       "      <td>55.0</td>\n",
       "      <td>25.313708</td>\n",
       "      <td>30010.163636</td>\n",
       "    </tr>\n",
       "    <tr>\n",
       "      <th>4</th>\n",
       "      <td>4.267857</td>\n",
       "      <td>74.250000</td>\n",
       "      <td>56.0</td>\n",
       "      <td>25.313708</td>\n",
       "      <td>30065.500000</td>\n",
       "    </tr>\n",
       "    <tr>\n",
       "      <th>5</th>\n",
       "      <td>4.275862</td>\n",
       "      <td>84.500000</td>\n",
       "      <td>58.0</td>\n",
       "      <td>26.142136</td>\n",
       "      <td>30041.568966</td>\n",
       "    </tr>\n",
       "    <tr>\n",
       "      <th>6</th>\n",
       "      <td>4.655172</td>\n",
       "      <td>94.655172</td>\n",
       "      <td>29.0</td>\n",
       "      <td>28.035534</td>\n",
       "      <td>30331.931034</td>\n",
       "    </tr>\n",
       "    <tr>\n",
       "      <th>7</th>\n",
       "      <td>4.433962</td>\n",
       "      <td>104.452830</td>\n",
       "      <td>53.0</td>\n",
       "      <td>23.899495</td>\n",
       "      <td>29991.962264</td>\n",
       "    </tr>\n",
       "    <tr>\n",
       "      <th>8</th>\n",
       "      <td>4.739130</td>\n",
       "      <td>114.608696</td>\n",
       "      <td>23.0</td>\n",
       "      <td>22.863961</td>\n",
       "      <td>30510.782609</td>\n",
       "    </tr>\n",
       "    <tr>\n",
       "      <th>9</th>\n",
       "      <td>2.000000</td>\n",
       "      <td>1.000000</td>\n",
       "      <td>1.0</td>\n",
       "      <td>0.000000</td>\n",
       "      <td>30931.000000</td>\n",
       "    </tr>\n",
       "    <tr>\n",
       "      <th>10</th>\n",
       "      <td>5.755556</td>\n",
       "      <td>6.888889</td>\n",
       "      <td>45.0</td>\n",
       "      <td>22.727922</td>\n",
       "      <td>30176.511111</td>\n",
       "    </tr>\n",
       "    <tr>\n",
       "      <th>11</th>\n",
       "      <td>5.522727</td>\n",
       "      <td>15.681818</td>\n",
       "      <td>44.0</td>\n",
       "      <td>22.727922</td>\n",
       "      <td>30125.340909</td>\n",
       "    </tr>\n",
       "    <tr>\n",
       "      <th>12</th>\n",
       "      <td>5.000000</td>\n",
       "      <td>1.000000</td>\n",
       "      <td>1.0</td>\n",
       "      <td>0.000000</td>\n",
       "      <td>30928.000000</td>\n",
       "    </tr>\n",
       "    <tr>\n",
       "      <th>13</th>\n",
       "      <td>8.000000</td>\n",
       "      <td>1.000000</td>\n",
       "      <td>1.0</td>\n",
       "      <td>0.000000</td>\n",
       "      <td>30905.000000</td>\n",
       "    </tr>\n",
       "    <tr>\n",
       "      <th>14</th>\n",
       "      <td>9.000000</td>\n",
       "      <td>69.000000</td>\n",
       "      <td>1.0</td>\n",
       "      <td>0.000000</td>\n",
       "      <td>30979.000000</td>\n",
       "    </tr>\n",
       "    <tr>\n",
       "      <th>15</th>\n",
       "      <td>19.672269</td>\n",
       "      <td>43.924370</td>\n",
       "      <td>119.0</td>\n",
       "      <td>52.112698</td>\n",
       "      <td>30011.092437</td>\n",
       "    </tr>\n",
       "    <tr>\n",
       "      <th>16</th>\n",
       "      <td>14.333333</td>\n",
       "      <td>54.035088</td>\n",
       "      <td>57.0</td>\n",
       "      <td>26.142136</td>\n",
       "      <td>29998.035088</td>\n",
       "    </tr>\n",
       "    <tr>\n",
       "      <th>17</th>\n",
       "      <td>14.362069</td>\n",
       "      <td>64.172414</td>\n",
       "      <td>58.0</td>\n",
       "      <td>26.142136</td>\n",
       "      <td>30002.603448</td>\n",
       "    </tr>\n",
       "    <tr>\n",
       "      <th>18</th>\n",
       "      <td>14.193548</td>\n",
       "      <td>74.370968</td>\n",
       "      <td>62.0</td>\n",
       "      <td>27.556349</td>\n",
       "      <td>30072.645161</td>\n",
       "    </tr>\n",
       "    <tr>\n",
       "      <th>19</th>\n",
       "      <td>14.233333</td>\n",
       "      <td>84.766667</td>\n",
       "      <td>60.0</td>\n",
       "      <td>26.727922</td>\n",
       "      <td>30079.266667</td>\n",
       "    </tr>\n",
       "    <tr>\n",
       "      <th>20</th>\n",
       "      <td>19.333333</td>\n",
       "      <td>94.904762</td>\n",
       "      <td>126.0</td>\n",
       "      <td>55.284271</td>\n",
       "      <td>30057.761905</td>\n",
       "    </tr>\n",
       "    <tr>\n",
       "      <th>21</th>\n",
       "      <td>14.474576</td>\n",
       "      <td>104.932203</td>\n",
       "      <td>59.0</td>\n",
       "      <td>26.970563</td>\n",
       "      <td>30042.016949</td>\n",
       "    </tr>\n",
       "    <tr>\n",
       "      <th>22</th>\n",
       "      <td>15.272727</td>\n",
       "      <td>7.681818</td>\n",
       "      <td>22.0</td>\n",
       "      <td>20.414214</td>\n",
       "      <td>30425.454545</td>\n",
       "    </tr>\n",
       "    <tr>\n",
       "      <th>23</th>\n",
       "      <td>15.163265</td>\n",
       "      <td>15.632653</td>\n",
       "      <td>49.0</td>\n",
       "      <td>24.727922</td>\n",
       "      <td>30118.448980</td>\n",
       "    </tr>\n",
       "    <tr>\n",
       "      <th>24</th>\n",
       "      <td>14.750000</td>\n",
       "      <td>24.538462</td>\n",
       "      <td>52.0</td>\n",
       "      <td>24.727922</td>\n",
       "      <td>30097.346154</td>\n",
       "    </tr>\n",
       "    <tr>\n",
       "      <th>25</th>\n",
       "      <td>24.853801</td>\n",
       "      <td>34.081871</td>\n",
       "      <td>171.0</td>\n",
       "      <td>79.669048</td>\n",
       "      <td>30054.409357</td>\n",
       "    </tr>\n",
       "    <tr>\n",
       "      <th>26</th>\n",
       "      <td>14.648148</td>\n",
       "      <td>114.555556</td>\n",
       "      <td>54.0</td>\n",
       "      <td>24.727922</td>\n",
       "      <td>30075.833333</td>\n",
       "    </tr>\n",
       "    <tr>\n",
       "      <th>27</th>\n",
       "      <td>15.000000</td>\n",
       "      <td>3.000000</td>\n",
       "      <td>1.0</td>\n",
       "      <td>0.000000</td>\n",
       "      <td>30729.000000</td>\n",
       "    </tr>\n",
       "    <tr>\n",
       "      <th>28</th>\n",
       "      <td>15.000000</td>\n",
       "      <td>6.000000</td>\n",
       "      <td>1.0</td>\n",
       "      <td>0.000000</td>\n",
       "      <td>29968.000000</td>\n",
       "    </tr>\n",
       "    <tr>\n",
       "      <th>29</th>\n",
       "      <td>17.000000</td>\n",
       "      <td>1.000000</td>\n",
       "      <td>1.0</td>\n",
       "      <td>0.000000</td>\n",
       "      <td>30920.000000</td>\n",
       "    </tr>\n",
       "    <tr>\n",
       "      <th>...</th>\n",
       "      <td>...</td>\n",
       "      <td>...</td>\n",
       "      <td>...</td>\n",
       "      <td>...</td>\n",
       "      <td>...</td>\n",
       "    </tr>\n",
       "    <tr>\n",
       "      <th>92</th>\n",
       "      <td>52.500000</td>\n",
       "      <td>63.000000</td>\n",
       "      <td>2.0</td>\n",
       "      <td>0.000000</td>\n",
       "      <td>30965.000000</td>\n",
       "    </tr>\n",
       "    <tr>\n",
       "      <th>93</th>\n",
       "      <td>54.833333</td>\n",
       "      <td>43.250000</td>\n",
       "      <td>12.0</td>\n",
       "      <td>10.449747</td>\n",
       "      <td>30936.166667</td>\n",
       "    </tr>\n",
       "    <tr>\n",
       "      <th>94</th>\n",
       "      <td>54.333333</td>\n",
       "      <td>65.666667</td>\n",
       "      <td>3.0</td>\n",
       "      <td>3.414214</td>\n",
       "      <td>30927.666667</td>\n",
       "    </tr>\n",
       "    <tr>\n",
       "      <th>95</th>\n",
       "      <td>55.000000</td>\n",
       "      <td>59.000000</td>\n",
       "      <td>1.0</td>\n",
       "      <td>0.000000</td>\n",
       "      <td>31018.000000</td>\n",
       "    </tr>\n",
       "    <tr>\n",
       "      <th>96</th>\n",
       "      <td>56.400000</td>\n",
       "      <td>63.200000</td>\n",
       "      <td>5.0</td>\n",
       "      <td>3.414214</td>\n",
       "      <td>30952.400000</td>\n",
       "    </tr>\n",
       "    <tr>\n",
       "      <th>97</th>\n",
       "      <td>57.500000</td>\n",
       "      <td>48.000000</td>\n",
       "      <td>2.0</td>\n",
       "      <td>0.000000</td>\n",
       "      <td>30960.500000</td>\n",
       "    </tr>\n",
       "    <tr>\n",
       "      <th>98</th>\n",
       "      <td>57.500000</td>\n",
       "      <td>50.000000</td>\n",
       "      <td>2.0</td>\n",
       "      <td>0.000000</td>\n",
       "      <td>30964.500000</td>\n",
       "    </tr>\n",
       "    <tr>\n",
       "      <th>99</th>\n",
       "      <td>62.680851</td>\n",
       "      <td>6.659574</td>\n",
       "      <td>47.0</td>\n",
       "      <td>23.899495</td>\n",
       "      <td>30044.680851</td>\n",
       "    </tr>\n",
       "    <tr>\n",
       "      <th>100</th>\n",
       "      <td>59.500000</td>\n",
       "      <td>68.500000</td>\n",
       "      <td>4.0</td>\n",
       "      <td>4.000000</td>\n",
       "      <td>30560.000000</td>\n",
       "    </tr>\n",
       "    <tr>\n",
       "      <th>101</th>\n",
       "      <td>68.417476</td>\n",
       "      <td>24.436893</td>\n",
       "      <td>103.0</td>\n",
       "      <td>49.834524</td>\n",
       "      <td>29982.116505</td>\n",
       "    </tr>\n",
       "    <tr>\n",
       "      <th>102</th>\n",
       "      <td>64.940171</td>\n",
       "      <td>48.692308</td>\n",
       "      <td>117.0</td>\n",
       "      <td>53.698485</td>\n",
       "      <td>30023.743590</td>\n",
       "    </tr>\n",
       "    <tr>\n",
       "      <th>103</th>\n",
       "      <td>65.147541</td>\n",
       "      <td>63.754098</td>\n",
       "      <td>61.0</td>\n",
       "      <td>27.727922</td>\n",
       "      <td>30044.885246</td>\n",
       "    </tr>\n",
       "    <tr>\n",
       "      <th>104</th>\n",
       "      <td>65.385965</td>\n",
       "      <td>73.894737</td>\n",
       "      <td>57.0</td>\n",
       "      <td>26.142136</td>\n",
       "      <td>29968.456140</td>\n",
       "    </tr>\n",
       "    <tr>\n",
       "      <th>105</th>\n",
       "      <td>65.052632</td>\n",
       "      <td>113.947368</td>\n",
       "      <td>57.0</td>\n",
       "      <td>26.142136</td>\n",
       "      <td>30098.964912</td>\n",
       "    </tr>\n",
       "    <tr>\n",
       "      <th>106</th>\n",
       "      <td>70.368421</td>\n",
       "      <td>84.052632</td>\n",
       "      <td>114.0</td>\n",
       "      <td>51.870058</td>\n",
       "      <td>30002.342105</td>\n",
       "    </tr>\n",
       "    <tr>\n",
       "      <th>107</th>\n",
       "      <td>65.472727</td>\n",
       "      <td>94.145455</td>\n",
       "      <td>55.0</td>\n",
       "      <td>25.313708</td>\n",
       "      <td>30029.381818</td>\n",
       "    </tr>\n",
       "    <tr>\n",
       "      <th>108</th>\n",
       "      <td>65.472727</td>\n",
       "      <td>104.145455</td>\n",
       "      <td>55.0</td>\n",
       "      <td>25.313708</td>\n",
       "      <td>30048.545455</td>\n",
       "    </tr>\n",
       "    <tr>\n",
       "      <th>109</th>\n",
       "      <td>71.787234</td>\n",
       "      <td>6.765957</td>\n",
       "      <td>47.0</td>\n",
       "      <td>24.727922</td>\n",
       "      <td>30086.255319</td>\n",
       "    </tr>\n",
       "    <tr>\n",
       "      <th>110</th>\n",
       "      <td>72.500000</td>\n",
       "      <td>15.500000</td>\n",
       "      <td>48.0</td>\n",
       "      <td>23.313708</td>\n",
       "      <td>30046.000000</td>\n",
       "    </tr>\n",
       "    <tr>\n",
       "      <th>111</th>\n",
       "      <td>73.846154</td>\n",
       "      <td>33.846154</td>\n",
       "      <td>52.0</td>\n",
       "      <td>25.556349</td>\n",
       "      <td>29953.961538</td>\n",
       "    </tr>\n",
       "    <tr>\n",
       "      <th>112</th>\n",
       "      <td>70.000000</td>\n",
       "      <td>79.000000</td>\n",
       "      <td>1.0</td>\n",
       "      <td>0.000000</td>\n",
       "      <td>30960.000000</td>\n",
       "    </tr>\n",
       "    <tr>\n",
       "      <th>113</th>\n",
       "      <td>74.400000</td>\n",
       "      <td>43.600000</td>\n",
       "      <td>50.0</td>\n",
       "      <td>23.313708</td>\n",
       "      <td>29878.560000</td>\n",
       "    </tr>\n",
       "    <tr>\n",
       "      <th>114</th>\n",
       "      <td>74.857143</td>\n",
       "      <td>58.839286</td>\n",
       "      <td>112.0</td>\n",
       "      <td>51.284271</td>\n",
       "      <td>30007.767857</td>\n",
       "    </tr>\n",
       "    <tr>\n",
       "      <th>115</th>\n",
       "      <td>75.298246</td>\n",
       "      <td>73.859649</td>\n",
       "      <td>57.0</td>\n",
       "      <td>26.142136</td>\n",
       "      <td>30009.912281</td>\n",
       "    </tr>\n",
       "    <tr>\n",
       "      <th>116</th>\n",
       "      <td>75.290909</td>\n",
       "      <td>94.000000</td>\n",
       "      <td>55.0</td>\n",
       "      <td>26.142136</td>\n",
       "      <td>29991.381818</td>\n",
       "    </tr>\n",
       "    <tr>\n",
       "      <th>117</th>\n",
       "      <td>75.203704</td>\n",
       "      <td>103.796296</td>\n",
       "      <td>54.0</td>\n",
       "      <td>25.556349</td>\n",
       "      <td>30041.944444</td>\n",
       "    </tr>\n",
       "    <tr>\n",
       "      <th>118</th>\n",
       "      <td>75.037736</td>\n",
       "      <td>113.433962</td>\n",
       "      <td>53.0</td>\n",
       "      <td>25.313708</td>\n",
       "      <td>30126.358491</td>\n",
       "    </tr>\n",
       "    <tr>\n",
       "      <th>119</th>\n",
       "      <td>72.000000</td>\n",
       "      <td>79.000000</td>\n",
       "      <td>1.0</td>\n",
       "      <td>0.000000</td>\n",
       "      <td>30931.000000</td>\n",
       "    </tr>\n",
       "    <tr>\n",
       "      <th>120</th>\n",
       "      <td>79.000000</td>\n",
       "      <td>10.000000</td>\n",
       "      <td>19.0</td>\n",
       "      <td>17.000000</td>\n",
       "      <td>30838.210526</td>\n",
       "    </tr>\n",
       "    <tr>\n",
       "      <th>121</th>\n",
       "      <td>79.000000</td>\n",
       "      <td>24.500000</td>\n",
       "      <td>4.0</td>\n",
       "      <td>2.000000</td>\n",
       "      <td>30883.000000</td>\n",
       "    </tr>\n",
       "  </tbody>\n",
       "</table>\n",
       "<p>122 rows × 5 columns</p>\n",
       "</div>"
      ],
      "text/plain": [
       "             X           Y   Area      Perim  Mean Intensity\n",
       "0     4.880734   29.752294  109.0  51.284271    30104.568807\n",
       "1     4.472727   44.072727   55.0  25.313708    30019.545455\n",
       "2     4.345455   54.072727   55.0  25.313708    29989.309091\n",
       "3     4.345455   64.072727   55.0  25.313708    30010.163636\n",
       "4     4.267857   74.250000   56.0  25.313708    30065.500000\n",
       "5     4.275862   84.500000   58.0  26.142136    30041.568966\n",
       "6     4.655172   94.655172   29.0  28.035534    30331.931034\n",
       "7     4.433962  104.452830   53.0  23.899495    29991.962264\n",
       "8     4.739130  114.608696   23.0  22.863961    30510.782609\n",
       "9     2.000000    1.000000    1.0   0.000000    30931.000000\n",
       "10    5.755556    6.888889   45.0  22.727922    30176.511111\n",
       "11    5.522727   15.681818   44.0  22.727922    30125.340909\n",
       "12    5.000000    1.000000    1.0   0.000000    30928.000000\n",
       "13    8.000000    1.000000    1.0   0.000000    30905.000000\n",
       "14    9.000000   69.000000    1.0   0.000000    30979.000000\n",
       "15   19.672269   43.924370  119.0  52.112698    30011.092437\n",
       "16   14.333333   54.035088   57.0  26.142136    29998.035088\n",
       "17   14.362069   64.172414   58.0  26.142136    30002.603448\n",
       "18   14.193548   74.370968   62.0  27.556349    30072.645161\n",
       "19   14.233333   84.766667   60.0  26.727922    30079.266667\n",
       "20   19.333333   94.904762  126.0  55.284271    30057.761905\n",
       "21   14.474576  104.932203   59.0  26.970563    30042.016949\n",
       "22   15.272727    7.681818   22.0  20.414214    30425.454545\n",
       "23   15.163265   15.632653   49.0  24.727922    30118.448980\n",
       "24   14.750000   24.538462   52.0  24.727922    30097.346154\n",
       "25   24.853801   34.081871  171.0  79.669048    30054.409357\n",
       "26   14.648148  114.555556   54.0  24.727922    30075.833333\n",
       "27   15.000000    3.000000    1.0   0.000000    30729.000000\n",
       "28   15.000000    6.000000    1.0   0.000000    29968.000000\n",
       "29   17.000000    1.000000    1.0   0.000000    30920.000000\n",
       "..         ...         ...    ...        ...             ...\n",
       "92   52.500000   63.000000    2.0   0.000000    30965.000000\n",
       "93   54.833333   43.250000   12.0  10.449747    30936.166667\n",
       "94   54.333333   65.666667    3.0   3.414214    30927.666667\n",
       "95   55.000000   59.000000    1.0   0.000000    31018.000000\n",
       "96   56.400000   63.200000    5.0   3.414214    30952.400000\n",
       "97   57.500000   48.000000    2.0   0.000000    30960.500000\n",
       "98   57.500000   50.000000    2.0   0.000000    30964.500000\n",
       "99   62.680851    6.659574   47.0  23.899495    30044.680851\n",
       "100  59.500000   68.500000    4.0   4.000000    30560.000000\n",
       "101  68.417476   24.436893  103.0  49.834524    29982.116505\n",
       "102  64.940171   48.692308  117.0  53.698485    30023.743590\n",
       "103  65.147541   63.754098   61.0  27.727922    30044.885246\n",
       "104  65.385965   73.894737   57.0  26.142136    29968.456140\n",
       "105  65.052632  113.947368   57.0  26.142136    30098.964912\n",
       "106  70.368421   84.052632  114.0  51.870058    30002.342105\n",
       "107  65.472727   94.145455   55.0  25.313708    30029.381818\n",
       "108  65.472727  104.145455   55.0  25.313708    30048.545455\n",
       "109  71.787234    6.765957   47.0  24.727922    30086.255319\n",
       "110  72.500000   15.500000   48.0  23.313708    30046.000000\n",
       "111  73.846154   33.846154   52.0  25.556349    29953.961538\n",
       "112  70.000000   79.000000    1.0   0.000000    30960.000000\n",
       "113  74.400000   43.600000   50.0  23.313708    29878.560000\n",
       "114  74.857143   58.839286  112.0  51.284271    30007.767857\n",
       "115  75.298246   73.859649   57.0  26.142136    30009.912281\n",
       "116  75.290909   94.000000   55.0  26.142136    29991.381818\n",
       "117  75.203704  103.796296   54.0  25.556349    30041.944444\n",
       "118  75.037736  113.433962   53.0  25.313708    30126.358491\n",
       "119  72.000000   79.000000    1.0   0.000000    30931.000000\n",
       "120  79.000000   10.000000   19.0  17.000000    30838.210526\n",
       "121  79.000000   24.500000    4.0   2.000000    30883.000000\n",
       "\n",
       "[122 rows x 5 columns]"
      ]
     },
     "execution_count": 467,
     "metadata": {},
     "output_type": "execute_result"
    }
   ],
   "source": [
    "regionprops"
   ]
  },
  {
   "cell_type": "markdown",
   "metadata": {},
   "source": [
    "### Edge Detection"
   ]
  },
  {
   "cell_type": "code",
   "execution_count": 13,
   "metadata": {},
   "outputs": [
    {
     "data": {
      "text/plain": [
       "<matplotlib.image.AxesImage at 0x121957630>"
      ]
     },
     "execution_count": 13,
     "metadata": {},
     "output_type": "execute_result"
    },
    {
     "data": {
      "image/png": "[encoded data removed]",
      "text/plain": [
       "<Figure size 432x288 with 1 Axes>"
      ]
     },
     "metadata": {
      "needs_background": "light"
     },
     "output_type": "display_data"
    }
   ],
   "source": [
    "edge = []\n",
    "for frame in selected_frames:\n",
    "    frame = frame[30:111,20:140]\n",
    "    edge.append(irtemp.edge_detection(frame, 0))\n",
    "io.imshow(frame)"
   ]
  },
  {
   "cell_type": "code",
   "execution_count": 32,
   "metadata": {},
   "outputs": [
    {
     "data": {
      "text/plain": [
       "<matplotlib.image.AxesImage at 0x15073bd30>"
      ]
     },
     "execution_count": 32,
     "metadata": {},
     "output_type": "execute_result"
    },
    {
     "data": {
      "image/png": "[encoded data removed]",
      "text/plain": [
       "<Figure size 432x288 with 1 Axes>"
      ]
     },
     "metadata": {
      "needs_background": "light"
     },
     "output_type": "display_data"
    }
   ],
   "source": [
    "io.imshow(edge[0])"
   ]
  },
  {
   "cell_type": "code",
   "execution_count": null,
   "metadata": {},
   "outputs": [],
   "source": []
  }
 ],
 "metadata": {
  "kernelspec": {
   "display_name": "Python 3",
   "language": "python",
   "name": "python3"
  },
  "language_info": {
   "codemirror_mode": {
    "name": "ipython",
    "version": 3
   },
   "file_extension": ".py",
   "mimetype": "text/x-python",
   "name": "python",
   "nbconvert_exporter": "python",
   "pygments_lexer": "ipython3",
   "version": "3.6.8"
  }
 },
 "nbformat": 4,
 "nbformat_minor": 2
}
