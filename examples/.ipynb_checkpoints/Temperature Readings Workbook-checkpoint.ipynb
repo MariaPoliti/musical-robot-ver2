{
 "cells": [
  {
   "cell_type": "code",
   "execution_count": 26,
   "metadata": {},
   "outputs": [],
   "source": [
    "import pandas as pd\n",
    "import matplotlib.pyplot as plt\n",
    "from matplotlib import cm\n",
    "import numpy as np\n",
    "import pims\n",
    "from skimage import io\n",
    "\n",
    "from PIL import Image, ImageFilter"
   ]
  },
  {
   "cell_type": "code",
   "execution_count": 27,
   "metadata": {},
   "outputs": [],
   "source": [
    "image = io.imread('../doc/Lepton_Capture.tiff')"
   ]
  },
  {
   "cell_type": "code",
   "execution_count": 28,
   "metadata": {},
   "outputs": [
    {
     "name": "stdout",
     "output_type": "stream",
     "text": [
      "(196, 120, 160)\n"
     ]
    }
   ],
   "source": [
    "print(image.shape)"
   ]
  },
  {
   "cell_type": "code",
   "execution_count": 29,
   "metadata": {},
   "outputs": [
    {
     "data": {
      "text/html": [
       "<img src=\"data:image/png;base64,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\" style=\"width: 512\" />"
      ],
      "text/plain": [
       "Frame([[29993, 29984, 29966, ..., 29912, 29906, 29914],\n",
       "       [30001, 29976, 29972, ..., 29914, 29923, 29929],\n",
       "       [29982, 29974, 29982, ..., 29916, 29906, 29933],\n",
       "       ...,\n",
       "       [30113, 30062, 30068, ..., 29862, 29891, 29893],\n",
       "       [30093, 30068, 30081, ..., 29875, 29873, 29902],\n",
       "       [30087, 30077, 30066, ..., 29877, 29870, 29896]], dtype=uint16)"
      ]
     },
     "execution_count": 29,
     "metadata": {},
     "output_type": "execute_result"
    }
   ],
   "source": [
    "image1[0]"
   ]
  },
  {
   "cell_type": "code",
   "execution_count": 30,
   "metadata": {},
   "outputs": [
    {
     "name": "stdout",
     "output_type": "stream",
     "text": [
      "196\n"
     ]
    }
   ],
   "source": [
    "frames, height, width = image.shape\n",
    "print(frames)"
   ]
  },
  {
   "cell_type": "markdown",
   "metadata": {},
   "source": [
    "### Import image and read statistics"
   ]
  },
  {
   "cell_type": "code",
   "execution_count": 31,
   "metadata": {},
   "outputs": [],
   "source": [
    "image = io.imread('../doc/Lepton_Capture.tiff')\n",
    "frames, height, width = image.shape"
   ]
  },
  {
   "cell_type": "markdown",
   "metadata": {},
   "source": [
    "###  Choosing specific frames"
   ]
  },
  {
   "cell_type": "code",
   "execution_count": 32,
   "metadata": {},
   "outputs": [],
   "source": [
    "frame = 0\n",
    "factor = 5\n",
    "chosenframes = []\n",
    "\n",
    "while frame <= frames:\n",
    "    if frame % factor == 0:\n",
    "        chosenframes.append(frame)\n",
    "        frame = frame + 1\n",
    "    else:\n",
    "        frame = frame + 1\n"
   ]
  },
  {
   "cell_type": "code",
   "execution_count": 33,
   "metadata": {},
   "outputs": [
    {
     "name": "stdout",
     "output_type": "stream",
     "text": [
      "[0, 5, 10, 15, 20, 25, 30, 35, 40, 45, 50, 55, 60, 65, 70, 75, 80, 85, 90, 95, 100, 105, 110, 115, 120, 125, 130, 135, 140, 145, 150, 155, 160, 165, 170, 175, 180, 185, 190, 195]\n"
     ]
    }
   ],
   "source": [
    "print(chosenframes)"
   ]
  },
  {
   "cell_type": "markdown",
   "metadata": {},
   "source": [
    "### *from video* short array to numpy"
   ]
  },
  {
   "cell_type": "code",
   "execution_count": 36,
   "metadata": {},
   "outputs": [
    {
     "ename": "TypeError",
     "evalue": "data type \"unit16\" not understood",
     "output_type": "error",
     "traceback": [
      "\u001b[1;31m---------------------------------------------------------------------------\u001b[0m",
      "\u001b[1;31mTypeError\u001b[0m                                 Traceback (most recent call last)",
      "\u001b[1;32m<ipython-input-36-1aacb71c6707>\u001b[0m in \u001b[0;36m<module>\u001b[1;34m\u001b[0m\n\u001b[1;32m----> 1\u001b[1;33m \u001b[0mnp\u001b[0m\u001b[1;33m.\u001b[0m\u001b[0mfromiter\u001b[0m\u001b[1;33m(\u001b[0m\u001b[0mframes\u001b[0m\u001b[1;33m,\u001b[0m \u001b[0mdtype\u001b[0m \u001b[1;33m=\u001b[0m \u001b[1;34m\"unit16\"\u001b[0m\u001b[1;33m)\u001b[0m\u001b[1;33m.\u001b[0m\u001b[0mreshape\u001b[0m\u001b[1;33m(\u001b[0m\u001b[0mheight\u001b[0m\u001b[1;33m,\u001b[0m \u001b[0mwidth\u001b[0m\u001b[1;33m)\u001b[0m\u001b[1;33m\u001b[0m\u001b[1;33m\u001b[0m\u001b[0m\n\u001b[0m",
      "\u001b[1;31mTypeError\u001b[0m: data type \"unit16\" not understood"
     ]
    }
   ],
   "source": [
    "np.fromiter(frames, dtype = \"unit16\").reshape(height, width)"
   ]
  },
  {
   "cell_type": "markdown",
   "metadata": {},
   "source": [
    "### Read single temperature in single frame"
   ]
  },
  {
   "cell_type": "code",
   "execution_count": null,
   "metadata": {},
   "outputs": [],
   "source": []
  },
  {
   "cell_type": "markdown",
   "metadata": {},
   "source": [
    "### Loop through multiple frames with single temperature"
   ]
  },
  {
   "cell_type": "code",
   "execution_count": 37,
   "metadata": {},
   "outputs": [],
   "source": [
    "maxlength = len(chosenframes)\n",
    "alltemps = []\n",
    "length = 0\n",
    "\n",
    "while length <= maxlength:\n",
    "    frame = chosenframes[length]\n",
    "    "
   ]
  },
  {
   "cell_type": "markdown",
   "metadata": {},
   "source": [
    "## Temperature readings from video"
   ]
  },
  {
   "cell_type": "code",
   "execution_count": 17,
   "metadata": {},
   "outputs": [
    {
     "name": "stdout",
     "output_type": "stream",
     "text": [
      "this lepton does not support tlinear\n"
     ]
    }
   ],
   "source": [
    "try: \n",
    "    lep.rad.SetTLinearEnableStateChecked(True)\n",
    "    print(\"this lepton supports tlinear\")\n",
    "except:\n",
    "    print(\"this lepton does not support tlinear\")"
   ]
  },
  {
   "cell_type": "code",
   "execution_count": null,
   "metadata": {},
   "outputs": [],
   "source": [
    "height, width, net_array = incoming_frames[-1]\n",
    "arr = short_array_to_numpy(height, width, net_array)\n",
    "\n",
    "def centikelvin_to_celsius(t):\n",
    "    return (t- 27315)/100\n",
    "\n",
    "def to_fahrenheit(ck):\n",
    "    c = centikelvin_to celsius(ck)\n",
    "    return c * 9 / 5 + 32\n",
    "\n",
    "#max temperature\n",
    "    print(\"maxium temp{:}\")"
   ]
  }
 ],
 "metadata": {
  "kernelspec": {
   "display_name": "Python 3",
   "language": "python",
   "name": "python3"
  },
  "language_info": {
   "codemirror_mode": {
    "name": "ipython",
    "version": 3
   },
   "file_extension": ".py",
   "mimetype": "text/x-python",
   "name": "python",
   "nbconvert_exporter": "python",
   "pygments_lexer": "ipython3",
   "version": "3.6.8"
  }
 },
 "nbformat": 4,
 "nbformat_minor": 2
}
