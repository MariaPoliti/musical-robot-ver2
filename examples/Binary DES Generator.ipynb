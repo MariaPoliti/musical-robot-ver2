{
 "cells": [
  {
   "cell_type": "code",
   "execution_count": 1,
   "metadata": {},
   "outputs": [],
   "source": [
    "from sklearn.cluster import KMeans\n",
    "import random\n",
    "import numpy as np\n",
    "import pandas as pd\n",
    "import matplotlib.pyplot as plt\n",
    "from scipy.optimize import fsolve"
   ]
  },
  {
   "cell_type": "markdown",
   "metadata": {},
   "source": [
    "### This code will produce arbitrary samples of binary deep eutectic solvents, taking the minimum and maximum mole fractions of each component, number of samples desired to make, and number of trials for the k-means clustering (should be much greater than the number of samples desired to produce). This can easily be modified for ternary deep eutectic solvents."
   ]
  },
  {
   "cell_type": "code",
   "execution_count": 2,
   "metadata": {},
   "outputs": [],
   "source": [
    "def Binary_DES_Generator(min_QAS, min_HBD, max_QAS, max_HBD, samples, trials):\n",
    "    \n",
    "    #The minimum mole fractions of each component.\n",
    "    lower_bounds = np.array([min_QAS, min_HBD])\n",
    "    \n",
    "    #The maximum mole fractions of each component. \n",
    "    upper_bounds = np.array([max_QAS, max_HBD])\n",
    "\n",
    "    #Generating random DES compositions within the design contraints, mole fractions of each composition must = 1. \n",
    "    DES_trials = np.random.rand(trials*20,2)\n",
    "    DES_trials = DES_trials*(upper_bounds-lower_bounds)+lower_bounds\n",
    "\n",
    "    #Adding mole fractions of each component in the random trial. \n",
    "    mole_sum = np.sum(DES_trials, axis=1)\n",
    "    \n",
    "    #Divide each component by the sum of all components to obtain compositions whose mole fractions =1. \n",
    "    DES_samples = DES_trials/mole_sum[:,None]\n",
    "    \n",
    "    #This normalization may still lead to compositions that do not satisfy the constraint \n",
    "    \n",
    "    #isolating compositions that do not meet upper bound contraints\n",
    "    upper_check = DES_samples>upper_bounds\n",
    "    \n",
    "    #isolating compositions that do not meet upper bound contraints\n",
    "    lower_check = DES_samples<lower_bounds\n",
    "    \n",
    "    #Combine all checks, compositions not meeting constraints will be removed\n",
    "    combined_check = np.append(upper_check, lower_check, axis=1)\n",
    "\n",
    "    #compositions that have no violations are added to SafeList \n",
    "    SafeList = np.any(combined_check, axis=1)\n",
    "\n",
    "    #compositions violating constraints are added to DeleteList\n",
    "    DeleteList = ~SafeList\n",
    "\n",
    "    \n",
    "    Feasible_DES_samples = DES_samples[DeleteList,:]\n",
    "    print(\" \"+str(len(Feasible_DES_samples))+\" feasible DES samples generated, clustered into \"+str(samples)+\" samples\")\n",
    "\n",
    "    #Apply K-means clustering to DES samples\n",
    "    #Number of Clusters = Final desired samples\n",
    "    kmeans = KMeans(n_clusters=samples, random_state=0).fit(Feasible_DES_samples)\n",
    "    \n",
    "    \n",
    "    DES_Centroids = kmeans.cluster_centers_\n",
    "\n",
    "    return(DES_Centroids)\n",
    "\n"
   ]
  },
  {
   "cell_type": "code",
   "execution_count": null,
   "metadata": {},
   "outputs": [],
   "source": []
  }
 ],
 "metadata": {
  "kernelspec": {
   "display_name": "Python 3",
   "language": "python",
   "name": "python3"
  },
  "language_info": {
   "codemirror_mode": {
    "name": "ipython",
    "version": 3
   },
   "file_extension": ".py",
   "mimetype": "text/x-python",
   "name": "python",
   "nbconvert_exporter": "python",
   "pygments_lexer": "ipython3",
   "version": "3.7.1"
  }
 },
 "nbformat": 4,
 "nbformat_minor": 2
}
