{
 "cells": [
  {
   "cell_type": "code",
   "execution_count": null,
   "metadata": {},
   "outputs": [],
   "source": [
    "import sys\n",
    "import matplotlib.pyplot as plt\n",
    "import numpy as np\n",
    "import irtemp\n",
    "import edge_detection as ed\n",
    "import pixel_analysis as pa\n",
    "import pandas as pd"
   ]
  },
  {
   "cell_type": "markdown",
   "metadata": {},
   "source": [
    "## PART A:\n",
    "### The temperature profile of the samples and plate is determined by detecting the edges, filling and labeling them, and monitoring the temperature at their centroids."
   ]
  },
  {
   "cell_type": "markdown",
   "metadata": {},
   "source": [
    "#### Use the function 'edge_detection.input_file' to load the input file"
   ]
  },
  {
   "cell_type": "code",
   "execution_count": null,
   "metadata": {},
   "outputs": [],
   "source": [
    "frames = ed.input_file('../musicalrobot/data/10_17_19_PPA_Shallow_plate.tiff')\n",
    "plt.imshow(frames[0])"
   ]
  },
  {
   "cell_type": "code",
   "execution_count": null,
   "metadata": {},
   "outputs": [],
   "source": [
    "len(frames)"
   ]
  },
  {
   "cell_type": "markdown",
   "metadata": {},
   "source": [
    "#### Crop the input file if required to remove the noise and increase the accuracy of edge detection"
   ]
  },
  {
   "cell_type": "code",
   "execution_count": null,
   "metadata": {},
   "outputs": [],
   "source": [
    "crop_frame = []\n",
    "for frame in frames:\n",
    "    crop_frame.append(frame[30:90,60:110])\n",
    "plt.imshow(crop_frame[0])\n",
    "plt.colorbar()"
   ]
  },
  {
   "cell_type": "markdown",
   "metadata": {},
   "source": [
    "#### Use the wrapping function edge_detection.inflection_temp "
   ]
  },
  {
   "cell_type": "markdown",
   "metadata": {},
   "source": [
    "# sample temperature by multiple pixel calculation"
   ]
  },
  {
   "cell_type": "code",
   "execution_count": null,
   "metadata": {},
   "outputs": [],
   "source": [
    "from scipy.ndimage.morphology import binary_fill_holes\n",
    "from skimage.measure import label\n",
    "from skimage.measure import regionprops\n",
    "from skimage.morphology import remove_small_objects\n",
    "from skimage import feature\n",
    "from skimage.draw import circle"
   ]
  },
  {
   "cell_type": "code",
   "execution_count": null,
   "metadata": {},
   "outputs": [],
   "source": [
    "crop_frame[0]=crop_frame[700]"
   ]
  },
  {
   "cell_type": "code",
   "execution_count": null,
   "metadata": {},
   "outputs": [],
   "source": [
    "for size in range(15, 9, -1):\n",
    "    for thres in range(1500, 900, -100):\n",
    "        edges = feature.canny(crop_frame[0]/thres)\n",
    "        filled_samples = binary_fill_holes(edges)\n",
    "        cl_samples = remove_small_objects(filled_samples, min_size=size)\n",
    "        labeled_samples = label(cl_samples)\n",
    "        props = regionprops(labeled_samples, intensity_image=crop_frame[0])"
   ]
  },
  {
   "cell_type": "code",
   "execution_count": null,
   "metadata": {},
   "outputs": [],
   "source": [
    "props = regionprops(labeled_samples, intensity_image=crop_frame[0])\n",
    "# Initializing arrays for all sample properties obtained from regprops.\n",
    "row = np.zeros(len(props)).astype(int)\n",
    "column = np.zeros(len(props)).astype(int)\n",
    "area = np.zeros(len(props))\n",
    "radius = np.zeros(len(props))\n",
    "perim = np.zeros(len(props))\n",
    "intensity = np.zeros(len(props), dtype=np.float64)\n",
    "plate = np.zeros(len(props), dtype=np.float64)\n",
    "plate_coord = np.zeros(len(props))\n",
    "\n",
    "c = 0\n",
    "for prop in props:\n",
    "    row[c] = int(prop.centroid[0])\n",
    "    column[c] = int(prop.centroid[1])\n",
    "            # print(y[c])\n",
    "    area[c] = prop.area\n",
    "    perim[c] = prop.perimeter\n",
    "    radius[c] = prop.equivalent_diameter/2\n",
    "    rr, cc = circle(row[c], column[c], radius = radius[c]/3)\n",
    "    intensity[c] = np.mean(crop_frame[0][rr,cc])\n",
    "    plate[c] = crop_frame[0][row[c]][column[c]+int(radius[c])+3]\n",
    "    plate_coord[c] = column[c]+radius[c]+3\n",
    "    \n",
    "    c = c + 1"
   ]
  },
  {
   "cell_type": "code",
   "execution_count": null,
   "metadata": {},
   "outputs": [],
   "source": [
    "plt.imshow(labeled_samples)"
   ]
  },
  {
   "cell_type": "markdown",
   "metadata": {},
   "source": [
    "# get the range of the sample by crop_frame"
   ]
  },
  {
   "cell_type": "code",
   "execution_count": null,
   "metadata": {},
   "outputs": [],
   "source": [
    "for sample in range(len(column)):\n",
    "    a=[]\n",
    "    for row in range(len(labeled_samples)):\n",
    "        x=labeled_samples[row]\n",
    "        get_indexes = lambda x, xs: [i for (y, i) in zip(xs, range(len(xs))) if x == y]\n",
    "        number=get_indexes(sample+1,x)\n",
    "        a.append(number)\n",
    "        while [] in a:\n",
    "            a.remove([])\n",
    "        \n",
    "        new_data1=[]\n",
    "        for i in range(len(a)):\n",
    "            new_data1.append(min(a[i]))\n",
    "        \n",
    "        new_data2=[]\n",
    "        for i in range(len(a)):\n",
    "            new_data2.append(max(a[i]))\n",
    "   \n",
    "    \n",
    "    a_2=[]\n",
    "    for dot in range(len(column)):\n",
    "        e=[]\n",
    "        for row in range(len(labeled_samples)):\n",
    "            x=labeled_samples[row].tolist()\n",
    "            get_indexes = lambda x, xs: [i for (y, i) in zip(xs, range(len(xs))) if x == y]\n",
    "            number=np.sum(crop_frame[0][row][get_indexes(dot+1,x)])\n",
    "            e.append(number)\n",
    "        final_sum=np.sum(e)\n",
    "        a_2.append(final_sum)\n",
    "\n",
    "   \n",
    "    b=[]\n",
    "    for row in range(len(labeled_samples)):\n",
    "        o=labeled_samples[row]\n",
    "        get_indexes = lambda o, os: [i for (y, i) in zip(os, range(len(os))) if o == y]\n",
    "        root=get_indexes(sample+1,o)\n",
    "        if root != [] :\n",
    "            b.append(row)\n",
    "    crop_area = (np.max(b)-np.min(b)+1)*(max(new_data2)-min(new_data1)+1)\n",
    "    envir_area = crop_area - area[sample]\n",
    "    \n",
    "    c=[]\n",
    "    for i in range(np.max(b)-np.min(b)+1):\n",
    "        for j in range(max(new_data2)-min(new_data1)+1):\n",
    "            crop_temp = crop_frame[0][np.min(b)+i][min(new_data1)+j]\n",
    "            c.append(crop_temp)\n",
    "    crop_total = sum(c)\n",
    "    envir_total_temp = crop_total - a_2[sample]\n",
    "    envir_average_temp = round(envir_total_temp/envir_area)\n",
    "    print(\"sample\",sample+1,\"  \", \"sample_temperature\",round(a_2[sample]/area[sample]) ,\"row:from\",np.min(b),\"to\",np.max(b),' ',\n",
    "          \"column:from\",min(new_data1)   ,\"to\",max(new_data2),'  ', \"crop_area:\", crop_area,\n",
    "          '  ', \"envir_area:\",envir_area,' ', \"envir_average_temp:\", envir_average_temp)"
   ]
  },
  {
   "cell_type": "markdown",
   "metadata": {},
   "source": [
    "#### Plotting the locations at which the temperature was recorded"
   ]
  },
  {
   "cell_type": "code",
   "execution_count": null,
   "metadata": {},
   "outputs": [],
   "source": [
    "# Plotting the original image with the samples\n",
    "# and centroid and plate location\n",
    "plt.imshow(crop_frame[0])\n",
    "plt.scatter(sorted_regprops[0]['Plate_coord'],sorted_regprops[0]['Row'],c='orange',s=6)\n",
    "plt.scatter(sorted_regprops[0]['Column'],sorted_regprops[0]['Row'],s=6,c='red')#the origin location of the samples\n",
    "plt.title('Sample centroid and plate locations at which the temperature profile is monitored')"
   ]
  },
  {
   "cell_type": "code",
   "execution_count": null,
   "metadata": {},
   "outputs": [],
   "source": [
    "# Plotting the temperature profile of a sample against the temperature profile\n",
    "# of the plate at a location next to the sample.\n",
    "plt.plot(p_temp[5],s_temp[5])\n",
    "plt.ylabel('Temperature of the sample($^\\circ$C)')\n",
    "plt.xlabel('Temperature of the well plate($^\\circ$C)')\n",
    "plt.title('Temperature of the sample against the temperature of the plate')"
   ]
  },
  {
   "cell_type": "markdown",
   "metadata": {},
   "source": [
    "## Part B:\n",
    "* The temperature profile of the samples and the plate is obtained by summing the pixel values over individual rows and columns, finding the troughs in the array of all the column and row sums.\n",
    "* The temperature profile is then obtained by monitoring the temperature value at the intersection of peak values in the column and row sums. "
   ]
  },
  {
   "cell_type": "markdown",
   "metadata": {},
   "source": [
    "#### Load the input file as frames"
   ]
  },
  {
   "cell_type": "markdown",
   "metadata": {},
   "source": [
    "#### Use the function irtemp.pixel_temp to get the temperature of the samples and at plate locations next to the samples in every frame of the input video."
   ]
  },
  {
   "cell_type": "code",
   "execution_count": null,
   "metadata": {},
   "outputs": [],
   "source": [
    "m_df = pa.pixel_temp(crop_frame,len(crop_frame),n_columns = 3, n_rows = 3)"
   ]
  },
  {
   "cell_type": "code",
   "execution_count": null,
   "metadata": {},
   "outputs": [],
   "source": []
  }
 ],
 "metadata": {
  "kernelspec": {
   "display_name": "Python 3",
   "language": "python",
   "name": "python3"
  },
  "language_info": {
   "codemirror_mode": {
    "name": "ipython",
    "version": 3
   },
   "file_extension": ".py",
   "mimetype": "text/x-python",
   "name": "python",
   "nbconvert_exporter": "python",
   "pygments_lexer": "ipython3",
   "version": "3.7.4"
  }
 },
 "nbformat": 4,
 "nbformat_minor": 2
}
