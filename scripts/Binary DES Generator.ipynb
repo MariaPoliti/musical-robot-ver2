{
 "cells": [
  {
   "cell_type": "code",
   "execution_count": 5,
   "metadata": {},
   "outputs": [],
   "source": [
    "from sklearn.cluster import KMeans\n",
    "import random\n",
    "import numpy as np\n",
    "import pandas as pd\n",
    "import matplotlib.pyplot as plt\n",
    "from scipy.optimize import fsolve"
   ]
  },
  {
   "cell_type": "markdown",
   "metadata": {},
   "source": [
    "### This code will produce arbitrary samples of binary deep eutectic solvents, taking the minimum and maximum mole fractions of each component, number of samples desired to make, and number of trials for the k-means clustering (should be much greater than the number of samples desired to produce). This can easily be modified for ternary deep eutectic solvents. "
   ]
  },
  {
   "cell_type": "code",
   "execution_count": 34,
   "metadata": {},
   "outputs": [],
   "source": [
    "def Binary_DES_Generator(min_QAS, min_HBD, max_QAS, max_HBD, samples, trials):\n",
    "    \n",
    "    #The minimum mole fractions of each component.\n",
    "    lower_bounds = np.array([min_QAS, min_HBD])\n",
    "    \n",
    "    #The maximum mole fractions of each component. \n",
    "    upper_bounds = np.array([max_QAS, max_HBD])\n",
    "\n",
    "    #Generating random DES compositions within the design contraints, mole fractions of each composition must = 1. \n",
    "    DES_trials = np.random.rand(trials*20,2)\n",
    "    DES_trials = DES_trials*(upper_bounds-lower_bounds)+lower_bounds\n",
    "\n",
    "    #Adding mole fractions of each component in the random trial. \n",
    "    mole_sum = np.sum(DES_trials, axis=1)\n",
    "    \n",
    "    #Divide each component by the sum of all components to obtain compositions whose mole fractions =1. \n",
    "    DES_samples = DES_trials/mole_sum[:,None]\n",
    "    \n",
    "    #This normalization may still lead to compositions that do not satisfy the constraint \n",
    "    \n",
    "    #isolating compositions that do not meet upper bound contraints\n",
    "    upper_check = DES_samples>upper_bounds\n",
    "    \n",
    "    #isolating compositions that do not meet upper bound contraints\n",
    "    lower_check = DES_samples<lower_bounds\n",
    "    \n",
    "    #Combine all checks, compositions not meeting constraints will be removed\n",
    "    combined_check = np.append(upper_check, lower_check, axis=1)\n",
    "\n",
    "    #compositions that have no violations are added to SafeList \n",
    "    SafeList = np.any(combined_check, axis=1)\n",
    "\n",
    "    #compositions violating constraints are added to DeleteList\n",
    "    DeleteList = ~SafeList\n",
    "\n",
    "    \n",
    "    Feasible_DES_samples = DES_samples[DeleteList,:]\n",
    "    print(\" \"+str(len(Feasible_DES_samples))+\" feasible DES samples generated, clustered into \"+str(samples)+\" samples\")\n",
    "\n",
    "    #Apply K-means clustering to DES samples\n",
    "    #Number of Clusters = Final desired samples\n",
    "    kmeans = KMeans(n_clusters=samples, random_state=0).fit(Feasible_DES_samples)\n",
    "    \n",
    "    \n",
    "    DES_Centroids = kmeans.cluster_centers_\n",
    "\n",
    "    return(DES_Centroids)\n",
    "\n"
   ]
  },
  {
   "cell_type": "markdown",
   "metadata": {},
   "source": [
    "## Generalized"
   ]
  },
  {
   "cell_type": "code",
   "execution_count": 4,
   "metadata": {},
   "outputs": [],
   "source": [
    "def Gen_Binary_DES_Generator(min_comps, max_comps, samples, trials):\n",
    "    \n",
    "    #The minimum mole fractions of each component.\n",
    "    lower_bounds = np.array(min_comps)\n",
    "    \n",
    "    #The maximum mole fractions of each component. \n",
    "    upper_bounds = np.array(max_comps)\n",
    "\n",
    "    #Generating random DES compositions within the design contraints, mole fractions of each composition must = 1. \n",
    "    DES_trials = np.random.rand(trials*20,2)\n",
    "    DES_trials = DES_trials*(upper_bounds-lower_bounds)+lower_bounds\n",
    "\n",
    "    #Adding mole fractions of each component in the random trial. \n",
    "    mole_sum = np.sum(DES_trials, axis=1)\n",
    "    \n",
    "    #Divide each component by the sum of all components to obtain compositions whose mole fractions =1. \n",
    "    DES_samples = DES_trials/mole_sum[:,None]\n",
    "    \n",
    "    #This normalization may still lead to compositions that do not satisfy the constraint \n",
    "    \n",
    "    #isolating compositions that do not meet upper bound contraints\n",
    "    upper_check = DES_samples>upper_bounds\n",
    "    \n",
    "    #isolating compositions that do not meet upper bound contraints\n",
    "    lower_check = DES_samples<lower_bounds\n",
    "    \n",
    "    #Combine all checks, compositions not meeting constraints will be removed\n",
    "    combined_check = np.append(upper_check, lower_check, axis=1)\n",
    "\n",
    "    #compositions that have no violations are added to SafeList \n",
    "    SafeList = np.any(combined_check, axis=1)\n",
    "\n",
    "    #compositions violating constraints are added to DeleteList\n",
    "    DeleteList = ~SafeList\n",
    "\n",
    "    \n",
    "    Feasible_DES_samples = DES_samples[DeleteList,:]\n",
    "    print(\" \"+str(len(Feasible_DES_samples))+\" feasible DES samples generated, clustered into \"+str(samples)+\" samples\")\n",
    "\n",
    "    #Apply K-means clustering to DES samples\n",
    "    #Number of Clusters = Final desired samples\n",
    "    kmeans = KMeans(n_clusters=samples, random_state=0).fit(Feasible_DES_samples)\n",
    "    \n",
    "    \n",
    "    DES_Centroids = kmeans.cluster_centers_\n",
    "\n",
    "    return(DES_Centroids)"
   ]
  },
  {
   "cell_type": "markdown",
   "metadata": {},
   "source": [
    "### Generate binary DES with lower mole fractions of 0.2, 0.3 (QAS, HBD) and upper mole fractions of 0.7, 0.8 (QAS, HBD). Produce 96 samples with 192 trials for the clustering."
   ]
  },
  {
   "cell_type": "code",
   "execution_count": 15,
   "metadata": {},
   "outputs": [
    {
     "name": "stdout",
     "output_type": "stream",
     "text": [
      " 3840 feasible DES samples generated, clustered into 96 samples\n"
     ]
    }
   ],
   "source": [
    "DES_molfrac= Binary_DES_Generator(0.2, 0.3, 0.7, 0.8, 96, 192)"
   ]
  },
  {
   "cell_type": "markdown",
   "metadata": {},
   "source": [
    "### May also save the output as a variable. Note you will get different mole fractions each time so be sure to keep track if you need them."
   ]
  },
  {
   "cell_type": "code",
   "execution_count": 6,
   "metadata": {},
   "outputs": [
    {
     "name": "stdout",
     "output_type": "stream",
     "text": [
      " 3798 feasible DES samples generated, clustered into 96 samples\n"
     ]
    }
   ],
   "source": [
    "A = Binary_DES_Generator(0.3, 0.3, 0.7, 0.8, 96, 192)\n",
    "# A "
   ]
  },
  {
   "cell_type": "markdown",
   "metadata": {},
   "source": [
    "### The next function will combine the previous function with code to convert mole fractions to a list of lists of volumes that can be directly inputed into code for sample preparation in a pipetting robot (OT-2)."
   ]
  },
  {
   "cell_type": "code",
   "execution_count": 7,
   "metadata": {},
   "outputs": [],
   "source": [
    "def convert_mole_fractions_to_volumes(stock_QAS, stock_HBD, min_QAS, min_HBD, max_QAS, max_HBD, samples, trials):\n",
    "    QAS = [] # empty list to append calculated volumes in microL\n",
    "    HBD = []\n",
    "    DES_mole_fractions = Binary_DES_Generator(min_QAS, min_HBD, max_QAS, max_HBD, samples, trials)\n",
    "    for row in DES_mole_fractions: \n",
    "        def f(x) :\n",
    "            y = np.zeros(np.size(x))                                                                           \n",
    "            y[0] = x[0] + x[1] - 125  #input desired volume                                                                   \n",
    "            y[1] = ((stock_QAS*x[0])/((stock_QAS*x[0]) + (stock_HBD*x[1]))) - row[0]\n",
    "            y[2] = ((stock_HBD*x[1])/((stock_QAS*x[0]) + (stock_HBD*x[1]))) - row[1]\n",
    "            return y\n",
    "        x0 = np.array([100.0, 100.0, 100.0])  \n",
    "        x = fsolve(f, x0)\n",
    "        QAS.append(x[0])\n",
    "        HBD.append(x[1])\n",
    "        volumes = [QAS,HBD]\n",
    "\n",
    "    return(volumes)"
   ]
  },
  {
   "cell_type": "code",
   "execution_count": 39,
   "metadata": {},
   "outputs": [
    {
     "name": "stdout",
     "output_type": "stream",
     "text": [
      " 200 feasible DES samples generated, clustered into 96 samples\n"
     ]
    }
   ],
   "source": [
    "    DES_molfrac = Binary_DES_Generator(.2, .2, .8, .8, 96, 10)\n"
   ]
  },
  {
   "cell_type": "markdown",
   "metadata": {},
   "source": [
    "## Generalized conversion to volumes"
   ]
  },
  {
   "cell_type": "code",
   "execution_count": 41,
   "metadata": {},
   "outputs": [
    {
     "name": "stdout",
     "output_type": "stream",
     "text": [
      "[[0.75065191 0.24934809]\n",
      " [0.36791297 0.63208703]\n",
      " [0.52417857 0.47582143]\n",
      " [0.62567579 0.37432421]\n",
      " [0.44108315 0.55891685]\n",
      " [0.29988323 0.70011677]\n",
      " [0.69269626 0.30730374]\n",
      " [0.56731269 0.43268731]\n",
      " [0.4715866  0.5284134 ]\n",
      " [0.2518089  0.7481911 ]\n",
      " [0.40776108 0.59223892]\n",
      " [0.33196621 0.66803379]\n",
      " [0.58673917 0.41326083]\n",
      " [0.65428542 0.34571458]\n",
      " [0.4906495  0.5093505 ]\n",
      " [0.5456631  0.4543369 ]\n",
      " [0.4549097  0.5450903 ]\n",
      " [0.42310675 0.57689325]\n",
      " [0.77322352 0.22677648]\n",
      " [0.37339667 0.62660333]\n",
      " [0.66747494 0.33252506]\n",
      " [0.72295726 0.27704274]\n",
      " [0.50518316 0.49481684]\n",
      " [0.35010784 0.64989216]\n",
      " [0.26926333 0.73073667]\n",
      " [0.60743414 0.39256586]\n",
      " [0.38680342 0.61319658]\n",
      " [0.28430705 0.71569295]\n",
      " [0.31243416 0.68756584]\n",
      " [0.68304991 0.31695009]\n",
      " [0.56062208 0.43937792]\n",
      " [0.59421955 0.40578045]\n",
      " [0.58030786 0.41969214]\n",
      " [0.35914616 0.64085384]\n",
      " [0.70665682 0.29334318]\n",
      " [0.54272137 0.45727863]\n",
      " [0.39729839 0.60270161]\n",
      " [0.64542232 0.35457768]\n",
      " [0.55354232 0.44645768]\n",
      " [0.76563261 0.23436739]\n",
      " [0.43346565 0.56653435]\n",
      " [0.24707624 0.75292376]\n",
      " [0.51767419 0.48232581]\n",
      " [0.44766386 0.55233614]\n",
      " [0.32508585 0.67491415]\n",
      " [0.53587261 0.46412739]\n",
      " [0.49671749 0.50328251]\n",
      " [0.51081305 0.48918695]\n",
      " [0.69924989 0.30075011]\n",
      " [0.47774177 0.52225823]\n",
      " [0.37709106 0.62290894]\n",
      " [0.67316677 0.32683323]\n",
      " [0.65102814 0.34897186]\n",
      " [0.46028855 0.53971145]\n",
      " [0.4119625  0.5880375 ]\n",
      " [0.52760941 0.47239059]\n",
      " [0.34177252 0.65822748]\n",
      " [0.4184449  0.5815551 ]\n",
      " [0.75610999 0.24389001]\n",
      " [0.48316346 0.51683654]\n",
      " [0.66254257 0.33745743]\n",
      " [0.29265404 0.70734596]\n",
      " [0.42739765 0.57260235]\n",
      " [0.26359147 0.73640853]\n",
      " [0.43780666 0.56219334]\n",
      " [0.56962899 0.43037101]\n",
      " [0.31744966 0.68255034]\n",
      " [0.45779757 0.54220243]\n",
      " [0.24273251 0.75726749]\n",
      " [0.46745586 0.53254414]\n",
      " [0.30805012 0.69194988]\n",
      " [0.61221701 0.38778299]\n",
      " [0.72786539 0.27213461]\n",
      " [0.48799756 0.51200244]\n",
      " [0.67863331 0.32136669]\n",
      " [0.50055108 0.49944892]\n",
      " [0.38177801 0.61822199]\n",
      " [0.45318551 0.54681449]\n",
      " [0.62257365 0.37742635]\n",
      " [0.43010653 0.56989347]\n",
      " [0.69548312 0.30451688]\n",
      " [0.36558089 0.63441911]\n",
      " [0.54098182 0.45901818]\n",
      " [0.52093251 0.47906749]\n",
      " [0.60382883 0.39617117]\n",
      " [0.3344495  0.6655505 ]\n",
      " [0.57211827 0.42788173]\n",
      " [0.53084645 0.46915355]\n",
      " [0.47457658 0.52542342]\n",
      " [0.69724009 0.30275991]\n",
      " [0.44384152 0.55615848]\n",
      " [0.3563218  0.6436782 ]\n",
      " [0.57699194 0.42300806]\n",
      " [0.68555239 0.31444761]\n",
      " [0.55597628 0.44402372]\n",
      " [0.40095685 0.59904315]]\n"
     ]
    }
   ],
   "source": [
    "len(DES_molfrac)\n",
    "print(DES_molfrac)"
   ]
  },
  {
   "cell_type": "code",
   "execution_count": 3,
   "metadata": {},
   "outputs": [
    {
     "name": "stdout",
     "output_type": "stream",
     "text": [
      "[0, 0, 0, 0, 0, 0, 0, 0, 0, 0, 0, 0, 0, 0, 0, 0, 0, 0, 0, 0, 0, 0, 0, 0, 0, 0, 0, 0, 0, 0, 0, 0, 0, 0, 0, 0, 0, 0, 0, 0, 0, 0, 0, 0, 0, 0, 0, 0, 0, 0, 0, 0, 0, 0, 0, 0, 0, 0, 0, 0, 0, 0, 0, 0, 0, 0, 0, 0, 0, 0, 0, 0, 0, 0, 0, 0, 0, 0, 0, 0, 0, 0, 0, 0, 0, 0, 0, 0, 0, 0, 0, 0, 0, 0, 0, 0]\n"
     ]
    }
   ],
   "source": [
    "list =[0] * 96\n",
    "print(list)"
   ]
  },
  {
   "cell_type": "code",
   "execution_count": 11,
   "metadata": {},
   "outputs": [
    {
     "name": "stdout",
     "output_type": "stream",
     "text": [
      "[[0. 0. 0. 0. 0. 0. 0. 0. 0. 0. 0. 0.]\n",
      " [0. 0. 0. 0. 0. 0. 0. 0. 0. 0. 0. 0.]\n",
      " [0. 0. 0. 0. 0. 0. 0. 0. 0. 0. 0. 0.]\n",
      " [0. 0. 0. 0. 0. 0. 0. 0. 0. 0. 0. 0.]\n",
      " [0. 0. 0. 0. 0. 0. 0. 0. 0. 0. 0. 0.]\n",
      " [0. 0. 0. 0. 0. 0. 0. 0. 0. 0. 0. 0.]\n",
      " [0. 0. 0. 0. 0. 0. 0. 0. 0. 0. 0. 0.]\n",
      " [0. 0. 0. 0. 0. 0. 0. 0. 0. 0. 0. 0.]]\n"
     ]
    }
   ],
   "source": [
    "array = np.zeros((8,12))\n",
    "print(array)"
   ]
  },
  {
   "cell_type": "code",
   "execution_count": 15,
   "metadata": {},
   "outputs": [
    {
     "data": {
      "text/plain": [
       "12"
      ]
     },
     "execution_count": 15,
     "metadata": {},
     "output_type": "execute_result"
    }
   ],
   "source": [
    "len(array[0])"
   ]
  },
  {
   "cell_type": "code",
   "execution_count": 43,
   "metadata": {},
   "outputs": [
    {
     "data": {
      "text/plain": [
       "array([0.75065191, 0.24934809])"
      ]
     },
     "execution_count": 43,
     "metadata": {},
     "output_type": "execute_result"
    }
   ],
   "source": [
    "DES_molfrac[0]"
   ]
  },
  {
   "cell_type": "code",
   "execution_count": 51,
   "metadata": {},
   "outputs": [
    {
     "name": "stdout",
     "output_type": "stream",
     "text": [
      "[0, 1, 2, 3, 4, 5, 6, 7, 8, 9, 10, 11, 12, 13, 14, 15, 16, 17, 18, 19, 20, 21, 22, 23, 24, 25, 26, 27, 28, 29, 30, 31, 32, 33, 34, 35, 36, 37, 38, 39, 40, 41, 42, 43, 44, 45, 46, 47, 48, 49, 50, 51, 52, 53, 54, 55, 56, 57, 58, 59, 60, 61, 62, 63, 64, 65, 66, 67, 68, 69, 70, 71, 72, 73, 74, 75, 76, 77, 78, 79, 80, 81, 82, 83, 84, 85, 86, 87, 88, 89, 90, 91, 92, 93, 94, 95]\n"
     ]
    }
   ],
   "source": [
    "all_samples = []\n",
    "for i in range(96):\n",
    "    all_samples.append(i)\n",
    "    \n",
    "print(all_samples)"
   ]
  },
  {
   "cell_type": "code",
   "execution_count": 70,
   "metadata": {},
   "outputs": [
    {
     "name": "stdout",
     "output_type": "stream",
     "text": [
      "[[0.75065191 0.4715866  0.4549097  0.26926333 0.58030786 0.43346565\n",
      "  0.69924989 0.34177252 0.43780666 0.72786539 0.69548312 0.47457658]\n",
      " [0.36791297 0.2518089  0.42310675 0.60743414 0.35914616 0.24707624\n",
      "  0.47774177 0.4184449  0.56962899 0.48799756 0.36558089 0.69724009]\n",
      " [0.52417857 0.40776108 0.77322352 0.38680342 0.70665682 0.51767419\n",
      "  0.37709106 0.75610999 0.31744966 0.67863331 0.54098182 0.44384152]\n",
      " [0.62567579 0.33196621 0.37339667 0.28430705 0.54272137 0.44766386\n",
      "  0.67316677 0.48316346 0.45779757 0.50055108 0.52093251 0.3563218 ]\n",
      " [0.44108315 0.58673917 0.66747494 0.31243416 0.39729839 0.32508585\n",
      "  0.65102814 0.66254257 0.24273251 0.38177801 0.60382883 0.57699194]\n",
      " [0.29988323 0.65428542 0.72295726 0.68304991 0.64542232 0.53587261\n",
      "  0.46028855 0.29265404 0.46745586 0.45318551 0.3344495  0.68555239]\n",
      " [0.69269626 0.4906495  0.50518316 0.56062208 0.55354232 0.49671749\n",
      "  0.4119625  0.42739765 0.30805012 0.62257365 0.57211827 0.55597628]\n",
      " [0.56731269 0.5456631  0.35010784 0.59421955 0.76563261 0.51081305\n",
      "  0.52760941 0.26359147 0.61221701 0.43010653 0.53084645 0.40095685]]\n"
     ]
    }
   ],
   "source": [
    "index=0\n",
    "array = np.zeros((8,12))\n",
    "\n",
    "\n",
    "for i in range(len(array[0])):\n",
    "    for j in range(len(array)):\n",
    "        array[j, i] = comp1[index] \n",
    "        index = index +1\n",
    "        \n",
    "print(array)"
   ]
  },
  {
   "cell_type": "code",
   "execution_count": 71,
   "metadata": {},
   "outputs": [
    {
     "name": "stdout",
     "output_type": "stream",
     "text": [
      "[0.7506519120055682, 0.4715865983322038, 0.45490970261466435, 0.269263325124163, 0.580307858760063, 0.43346564725017395, 0.6992498852671155, 0.341772524260123, 0.4378066600473607, 0.7278653876459271, 0.6954831237299075, 0.47457658022310223, 0.36791296887462466, 0.2518088988460535, 0.42310674599295583, 0.6074341383970799, 0.3591461618766185, 0.24707624461173144, 0.4777417707230687, 0.4184449015825262, 0.5696289898734429, 0.4879975649618306, 0.36558088561319324, 0.697240091045177, 0.5241785694462062, 0.40776107805949874, 0.7732235181128915, 0.38680342384254485, 0.7066568169931434, 0.5176741861695549, 0.3770910560797914, 0.7561099901269652, 0.31744965818488924, 0.6786333106304895, 0.5409818207512473, 0.4438415153317072, 0.6256757894811007, 0.33196621078815547, 0.3733966742705455, 0.2843070466360036, 0.5427213653788738, 0.4476638551171744, 0.6731667747016513, 0.4831634620345979, 0.45779756887912615, 0.5005510759258127, 0.5209325052498803, 0.3563217950106742, 0.4410831515325249, 0.5867391740767356, 0.6674749387255294, 0.3124341616309452, 0.3972983916665697, 0.3250858454189476, 0.6510281351887222, 0.6625425651527013, 0.24273251496753506, 0.3817780099834549, 0.6038288319844826, 0.5769919368094817, 0.2998832270640001, 0.6542854172940505, 0.7229572607685595, 0.6830499099096764, 0.6454223206225669, 0.5358726125693919, 0.46028855000967095, 0.29265403739220447, 0.46745586238658454, 0.4531855147628505, 0.3344495029397336, 0.6855523926502143, 0.6926962564928324, 0.49064950352627534, 0.5051831551921917, 0.5606220769579866, 0.5535423226043389, 0.4967174856193487, 0.4119625014234008, 0.4273976520658589, 0.30805012212201294, 0.6225736495408343, 0.5721182686699778, 0.5559762841149518, 0.5673126945507219, 0.5456631022326226, 0.3501078420761851, 0.59421954938463, 0.7656326104003235, 0.5108130471869893, 0.5276094070525804, 0.26359147294941765, 0.6122170063887633, 0.43010652810036776, 0.5308464518702548, 0.400956848142311]\n"
     ]
    }
   ],
   "source": [
    "ordered = []\n",
    "for i in range(len(array)):\n",
    "    hold = array[i]\n",
    "    #print(hold)\n",
    "    ordered.extend(hold)\n",
    "\n",
    "print(ordered)"
   ]
  },
  {
   "cell_type": "code",
   "execution_count": 54,
   "metadata": {},
   "outputs": [
    {
     "data": {
      "text/plain": [
       "96"
      ]
     },
     "execution_count": 54,
     "metadata": {},
     "output_type": "execute_result"
    }
   ],
   "source": [
    "len(DES_molfrac)"
   ]
  },
  {
   "cell_type": "code",
   "execution_count": 62,
   "metadata": {},
   "outputs": [],
   "source": [
    "number = len(DES_molfrac[0])\n",
    "comp1 = []\n",
    "comp2 = []\n",
    "\n",
    "\n",
    "for i in range(number):\n",
    "    if i == 0:\n",
    "        for row in DES_molfrac:\n",
    "            hold = row[i]\n",
    "            comp1.append(hold)\n",
    "    elif i == 1:\n",
    "        for row in DES_molfrac:\n",
    "            hold = row[i]\n",
    "            comp2.append(hold)       \n",
    "    else:\n",
    "        pass\n",
    "        \n"
   ]
  },
  {
   "cell_type": "code",
   "execution_count": 63,
   "metadata": {},
   "outputs": [
    {
     "name": "stdout",
     "output_type": "stream",
     "text": [
      "[0.7506519120055682, 0.36791296887462466, 0.5241785694462062, 0.6256757894811007, 0.4410831515325249, 0.2998832270640001, 0.6926962564928324, 0.5673126945507219, 0.4715865983322038, 0.2518088988460535, 0.40776107805949874, 0.33196621078815547, 0.5867391740767356, 0.6542854172940505, 0.49064950352627534, 0.5456631022326226, 0.45490970261466435, 0.42310674599295583, 0.7732235181128915, 0.3733966742705455, 0.6674749387255294, 0.7229572607685595, 0.5051831551921917, 0.3501078420761851, 0.269263325124163, 0.6074341383970799, 0.38680342384254485, 0.2843070466360036, 0.3124341616309452, 0.6830499099096764, 0.5606220769579866, 0.59421954938463, 0.580307858760063, 0.3591461618766185, 0.7066568169931434, 0.5427213653788738, 0.3972983916665697, 0.6454223206225669, 0.5535423226043389, 0.7656326104003235, 0.43346564725017395, 0.24707624461173144, 0.5176741861695549, 0.4476638551171744, 0.3250858454189476, 0.5358726125693919, 0.4967174856193487, 0.5108130471869893, 0.6992498852671155, 0.4777417707230687, 0.3770910560797914, 0.6731667747016513, 0.6510281351887222, 0.46028855000967095, 0.4119625014234008, 0.5276094070525804, 0.341772524260123, 0.4184449015825262, 0.7561099901269652, 0.4831634620345979, 0.6625425651527013, 0.29265403739220447, 0.4273976520658589, 0.26359147294941765, 0.4378066600473607, 0.5696289898734429, 0.31744965818488924, 0.45779756887912615, 0.24273251496753506, 0.46745586238658454, 0.30805012212201294, 0.6122170063887633, 0.7278653876459271, 0.4879975649618306, 0.6786333106304895, 0.5005510759258127, 0.3817780099834549, 0.4531855147628505, 0.6225736495408343, 0.43010652810036776, 0.6954831237299075, 0.36558088561319324, 0.5409818207512473, 0.5209325052498803, 0.6038288319844826, 0.3344495029397336, 0.5721182686699778, 0.5308464518702548, 0.47457658022310223, 0.697240091045177, 0.4438415153317072, 0.3563217950106742, 0.5769919368094817, 0.6855523926502143, 0.5559762841149518, 0.400956848142311]\n"
     ]
    }
   ],
   "source": [
    "print(comp1)"
   ]
  },
  {
   "cell_type": "code",
   "execution_count": null,
   "metadata": {},
   "outputs": [],
   "source": []
  },
  {
   "cell_type": "code",
   "execution_count": 21,
   "metadata": {},
   "outputs": [
    {
     "name": "stdout",
     "output_type": "stream",
     "text": [
      " 4000 feasible DES samples generated, clustered into 10 samples\n",
      "finvol is [[73.60190978 76.39809022]\n",
      " [86.39044416 63.60955584]\n",
      " [59.16303714 90.83696286]\n",
      " [80.30776567 69.69223433]\n",
      " [65.03933234 84.96066766]\n",
      " [69.46016573 80.53983427]\n",
      " [89.56735151 60.43264849]\n",
      " [51.32643411 98.67356589]\n",
      " [83.40563463 66.59436537]\n",
      " [77.08195637 72.91804363]]\n",
      "2\n"
     ]
    }
   ],
   "source": [
    "samples = 10\n",
    "volume = 150 \n",
    "stock = [2,4]\n",
    "number = len(stock)\n",
    "\n",
    "\n",
    "size = (samples, number)\n",
    "finvol = np.zeros(size)\n",
    "\n",
    "stock_QAS = 2\n",
    "stock_HBD = 4\n",
    "DES_mole_fractions = Binary_DES_Generator(.2, .2, .8, .8, samples, 200)\n",
    "\n",
    "count = 0\n",
    "for row in DES_mole_fractions: \n",
    "    def f(x):\n",
    "        for i in range(number):\n",
    "            total = []\n",
    "            place = stock[i]*x[i]\n",
    "            total.append(place)\n",
    "        total = sum(total)\n",
    "        y = np.zeros(np.size(x))                                                                           \n",
    "        y[0] = x[0] + x[1] - volume                                                                   \n",
    "        for i in range(number-1):\n",
    "            y[i+1] = (((stock[i])*x[i])/(total)) - row[i]\n",
    "        return y\n",
    "    x0 = np.array([100.0, 100.0, 100.0])  \n",
    "    x = fsolve(f, x0)\n",
    "    for i in range(number):\n",
    "        finvol[count, i] = x[i]\n",
    "    count = count + 1\n",
    "\n",
    "print(\"finvol is\", finvol)\n",
    "number = len(finvol[0])\n",
    "print(number)"
   ]
  },
  {
   "cell_type": "markdown",
   "metadata": {},
   "source": [
    "### Generalized"
   ]
  },
  {
   "cell_type": "markdown",
   "metadata": {},
   "source": [
    "## Converting to Opentrons copyable"
   ]
  },
  {
   "cell_type": "code",
   "execution_count": 22,
   "metadata": {},
   "outputs": [
    {
     "ename": "AttributeError",
     "evalue": "'list' object has no attribute 'type'",
     "output_type": "error",
     "traceback": [
      "\u001b[1;31m---------------------------------------------------------------------------\u001b[0m",
      "\u001b[1;31mAttributeError\u001b[0m                            Traceback (most recent call last)",
      "\u001b[1;32m<ipython-input-22-14ee63b02c68>\u001b[0m in \u001b[0;36m<module>\u001b[1;34m\u001b[0m\n\u001b[0;32m      9\u001b[0m     \u001b[0msepvol\u001b[0m\u001b[1;33m.\u001b[0m\u001b[0mappend\u001b[0m\u001b[1;33m(\u001b[0m\u001b[0mstring\u001b[0m\u001b[1;33m)\u001b[0m\u001b[1;33m\u001b[0m\u001b[1;33m\u001b[0m\u001b[0m\n\u001b[0;32m     10\u001b[0m \u001b[1;33m\u001b[0m\u001b[0m\n\u001b[1;32m---> 11\u001b[1;33m \u001b[0msepvol\u001b[0m\u001b[1;33m.\u001b[0m\u001b[0mtype\u001b[0m\u001b[1;33m(\u001b[0m\u001b[1;33m)\u001b[0m\u001b[1;33m\u001b[0m\u001b[1;33m\u001b[0m\u001b[0m\n\u001b[0m",
      "\u001b[1;31mAttributeError\u001b[0m: 'list' object has no attribute 'type'"
     ]
    }
   ],
   "source": [
    "sepvol = []\n",
    "\n",
    "for i in range(number):\n",
    "    string = \"comp\" + str(i)\n",
    "    string = []\n",
    "    for row in finvol:\n",
    "        hold = row[i]\n",
    "        string.append(hold)\n",
    "    sepvol.append(string)\n",
    "\n",
    "sepvol.type()"
   ]
  },
  {
   "cell_type": "markdown",
   "metadata": {},
   "source": [
    "### Alternatively, you could use this next function if you already have a list you want to convert (as before when we saved the output of the des mole fractions)"
   ]
  },
  {
   "cell_type": "code",
   "execution_count": 11,
   "metadata": {},
   "outputs": [],
   "source": [
    "def convert_mole_fractions_to_volumes_2(DES_mole_fractions, stock_QAS, stock_HBD):\n",
    "    QAS = [] # empty list to append calculated volumes in microL\n",
    "    HBD = []\n",
    "    for row in DES_mole_fractions: \n",
    "        def f(x) :\n",
    "            y = np.zeros(np.size(x))                                                                           \n",
    "            y[0] = x[0] + x[1] - 150  #input desired volume                                                                   \n",
    "            y[1] = ((stock_QAS*x[0])/((stock_QAS*x[0]) + (stock_HBD*x[1]))) - row[0]\n",
    "            y[2] = ((stock_HBD*x[1])/((stock_QAS*x[0]) + (stock_HBD*x[1]))) - row[1]\n",
    "            return y\n",
    "        x0 = np.array([100.0, 100.0, 100.0])                                        \n",
    "        x = fsolve(f, x0)\n",
    "        QAS.append(x[0])\n",
    "        HBD.append(x[1])\n",
    "        volumes = [QAS,HBD]\n",
    "\n",
    "    return(volumes)"
   ]
  },
  {
   "cell_type": "code",
   "execution_count": 12,
   "metadata": {},
   "outputs": [
    {
     "data": {
      "text/plain": [
       "[[50.37813191068493,\n",
       "  69.8743078602248,\n",
       "  38.8337827761865,\n",
       "  58.93897614454336,\n",
       "  80.48455343512126,\n",
       "  44.15645306941992,\n",
       "  63.04142567854789,\n",
       "  54.43997097718037,\n",
       "  84.64882277069829,\n",
       "  74.94087560275959,\n",
       "  34.90974621258966,\n",
       "  47.41323894896303,\n",
       "  66.05067004968399,\n",
       "  41.39644819398069,\n",
       "  56.330013058789774,\n",
       "  77.5871318135321,\n",
       "  61.211996595146076,\n",
       "  52.1597834935777,\n",
       "  89.3508409827377,\n",
       "  36.999788552109294,\n",
       "  67.85769672228446,\n",
       "  48.17121583667832,\n",
       "  72.92446587921062,\n",
       "  45.07251170141245,\n",
       "  46.36132502314877,\n",
       "  64.39463694552583,\n",
       "  57.466482270832905,\n",
       "  42.94560134923387,\n",
       "  52.967361461769855,\n",
       "  81.78623271753477,\n",
       "  40.31645960367188,\n",
       "  60.03094335339014,\n",
       "  78.92870155469258,\n",
       "  71.44919290222474,\n",
       "  34.26440692694148,\n",
       "  55.350452392555816,\n",
       "  62.442061971394416,\n",
       "  49.05377350402926,\n",
       "  53.989395547798324,\n",
       "  76.25958585567928,\n",
       "  85.7899115297591,\n",
       "  65.47074950213768,\n",
       "  51.26830506720621,\n",
       "  68.40707017600195,\n",
       "  37.90070017935406,\n",
       "  36.110559806212045,\n",
       "  73.536271953554,\n",
       "  70.668637145587,\n",
       "  46.8778728845147,\n",
       "  41.8760781937268,\n",
       "  66.56884192513333,\n",
       "  63.490944205996314,\n",
       "  83.50029548391026,\n",
       "  45.968054945938334,\n",
       "  88.31186398665336,\n",
       "  78.25049512895853,\n",
       "  40.881831767880506,\n",
       "  53.433060646318566,\n",
       "  58.459688563547644,\n",
       "  69.13953767707042,\n",
       "  39.51603785392975,\n",
       "  76.90541764575518,\n",
       "  72.18911936636827,\n",
       "  60.65832780712783,\n",
       "  59.45257066938875,\n",
       "  50.911481499980624,\n",
       "  43.66224083268919,\n",
       "  67.12588761706174,\n",
       "  49.97642873461992,\n",
       "  56.98292652881503,\n",
       "  90.5230137851345,\n",
       "  64.89242900048602,\n",
       "  33.6863004732737,\n",
       "  79.69636825733261,\n",
       "  48.60826743805612,\n",
       "  45.5411695165059,\n",
       "  61.78661984989975,\n",
       "  55.81822971426333,\n",
       "  51.717124099030485,\n",
       "  44.56875709925201,\n",
       "  87.09263989485525,\n",
       "  81.12084432230482,\n",
       "  75.59812676653877,\n",
       "  42.41339298433682,\n",
       "  47.814626212369745,\n",
       "  58.027444351123016,\n",
       "  38.26040642962343,\n",
       "  54.90135925555554,\n",
       "  49.48391645430552,\n",
       "  52.54588710048379,\n",
       "  36.56970171625216,\n",
       "  82.57101088609667,\n",
       "  37.49312843390132,\n",
       "  63.92928757638122,\n",
       "  74.22211185990398,\n",
       "  35.590297347205514],\n",
       " [99.62186808931509,\n",
       "  80.12569213977521,\n",
       "  111.1662172238135,\n",
       "  91.06102385545665,\n",
       "  69.51544656487876,\n",
       "  105.84354693058008,\n",
       "  86.9585743214521,\n",
       "  95.56002902281962,\n",
       "  65.3511772293017,\n",
       "  75.05912439724041,\n",
       "  115.09025378741033,\n",
       "  102.58676105103696,\n",
       "  83.949329950316,\n",
       "  108.60355180601933,\n",
       "  93.66998694121024,\n",
       "  72.4128681864679,\n",
       "  88.78800340485391,\n",
       "  97.84021650642228,\n",
       "  60.6491590172623,\n",
       "  113.00021144789072,\n",
       "  82.14230327771556,\n",
       "  101.82878416332169,\n",
       "  77.0755341207894,\n",
       "  104.92748829858755,\n",
       "  103.63867497685123,\n",
       "  85.60536305447418,\n",
       "  92.53351772916709,\n",
       "  107.05439865076613,\n",
       "  97.03263853823015,\n",
       "  68.21376728246523,\n",
       "  109.68354039632811,\n",
       "  89.96905664660984,\n",
       "  71.07129844530742,\n",
       "  78.55080709777526,\n",
       "  115.73559307305854,\n",
       "  94.64954760744419,\n",
       "  87.55793802860558,\n",
       "  100.94622649597073,\n",
       "  96.01060445220169,\n",
       "  73.74041414432072,\n",
       "  64.2100884702409,\n",
       "  84.52925049786234,\n",
       "  98.73169493279377,\n",
       "  81.59292982399805,\n",
       "  112.09929982064595,\n",
       "  113.88944019378795,\n",
       "  76.463728046446,\n",
       "  79.331362854413,\n",
       "  103.1221271154853,\n",
       "  108.12392180627322,\n",
       "  83.43115807486667,\n",
       "  86.50905579400367,\n",
       "  66.49970451608974,\n",
       "  104.03194505406168,\n",
       "  61.68813601334662,\n",
       "  71.74950487104145,\n",
       "  109.1181682321195,\n",
       "  96.56693935368143,\n",
       "  91.54031143645237,\n",
       "  80.86046232292958,\n",
       "  110.48396214607024,\n",
       "  73.09458235424484,\n",
       "  77.81088063363174,\n",
       "  89.34167219287215,\n",
       "  90.54742933061124,\n",
       "  99.08851850001938,\n",
       "  106.3377591673108,\n",
       "  82.87411238293825,\n",
       "  100.02357126538008,\n",
       "  93.01707347118497,\n",
       "  59.47698621486549,\n",
       "  85.10757099951397,\n",
       "  116.3136995267263,\n",
       "  70.30363174266738,\n",
       "  101.39173256194388,\n",
       "  104.45883048349411,\n",
       "  88.21338015010025,\n",
       "  94.18177028573666,\n",
       "  98.2828759009695,\n",
       "  105.43124290074799,\n",
       "  62.907360105144754,\n",
       "  68.87915567769518,\n",
       "  74.40187323346123,\n",
       "  107.58660701566316,\n",
       "  102.18537378763025,\n",
       "  91.97255564887698,\n",
       "  111.73959357037656,\n",
       "  95.09864074444445,\n",
       "  100.5160835456945,\n",
       "  97.45411289951622,\n",
       "  113.43029828374783,\n",
       "  67.42898911390334,\n",
       "  112.50687156609868,\n",
       "  86.07071242361877,\n",
       "  75.77788814009601,\n",
       "  114.40970265279446]]"
      ]
     },
     "execution_count": 12,
     "metadata": {},
     "output_type": "execute_result"
    }
   ],
   "source": [
    "convert_mole_fractions_to_volumes_2(A, 3, 2)"
   ]
  },
  {
   "cell_type": "markdown",
   "metadata": {},
   "source": [
    "### This code can be used to produce binary DES from the list of volumes and cocnentrated stock solutions of your components. Capable of switching between two different pipettes, but modify as necessary. Code is originally from Newcastle IGEM at Newcastle University, github can be found here https://github.com/jbird1223/Newcastle-iGEM"
   ]
  },
  {
   "cell_type": "code",
   "execution_count": 13,
   "metadata": {},
   "outputs": [
    {
     "ename": "ModuleNotFoundError",
     "evalue": "No module named 'opentrons'",
     "output_type": "error",
     "traceback": [
      "\u001b[1;31m---------------------------------------------------------------------------\u001b[0m",
      "\u001b[1;31mModuleNotFoundError\u001b[0m                       Traceback (most recent call last)",
      "\u001b[1;32m<ipython-input-13-dc87e5573b82>\u001b[0m in \u001b[0;36m<module>\u001b[1;34m\u001b[0m\n\u001b[1;32m----> 1\u001b[1;33m \u001b[1;32mfrom\u001b[0m \u001b[0mopentrons\u001b[0m \u001b[1;32mimport\u001b[0m \u001b[0mlabware\u001b[0m\u001b[1;33m,\u001b[0m \u001b[0minstruments\u001b[0m\u001b[1;33m,\u001b[0m \u001b[0mrobot\u001b[0m\u001b[1;33m\u001b[0m\u001b[1;33m\u001b[0m\u001b[0m\n\u001b[0m\u001b[0;32m      2\u001b[0m \u001b[1;32mfrom\u001b[0m \u001b[0msqlite3\u001b[0m \u001b[1;32mimport\u001b[0m \u001b[0mIntegrityError\u001b[0m\u001b[1;33m\u001b[0m\u001b[1;33m\u001b[0m\u001b[0m\n\u001b[0;32m      3\u001b[0m \u001b[0mrobot\u001b[0m\u001b[1;33m.\u001b[0m\u001b[0mreset\u001b[0m\u001b[1;33m(\u001b[0m\u001b[1;33m)\u001b[0m \u001b[1;31m#remove this when uplaoding code to robot\u001b[0m\u001b[1;33m\u001b[0m\u001b[1;33m\u001b[0m\u001b[0m\n\u001b[0;32m      4\u001b[0m \u001b[1;33m\u001b[0m\u001b[0m\n\u001b[0;32m      5\u001b[0m \u001b[1;31m#####################################################################################################################################################\u001b[0m\u001b[1;33m\u001b[0m\u001b[1;33m\u001b[0m\u001b[1;33m\u001b[0m\u001b[0m\n",
      "\u001b[1;31mModuleNotFoundError\u001b[0m: No module named 'opentrons'"
     ]
    }
   ],
   "source": [
    "from opentrons import labware, instruments, robot\n",
    "from sqlite3 import IntegrityError\n",
    "robot.reset() #remove this when uplaoding code to robot\n",
    "\n",
    "#####################################################################################################################################################\n",
    "#####################################################################################################################################################\t\t\n",
    "\n",
    "# Import Labware\n",
    "\n",
    "tiprack_300 = labware.load(\"opentrons-tiprack-300ul\", '1')      \n",
    "tiprack_1000 = labware.load(\"tiprack-1000ul\", '4')                \n",
    "Stock1 = labware.load(\"opentrons-tuberack-15ml\", '2')                                           \n",
    "wellplate_96 = labware.load(\"96-flat\", '3')\n",
    "trash = robot.fixed_trash\n",
    "\n",
    "#####################################################################################################################################################\n",
    "#####################################################################################################################################################\n",
    "\n",
    "# Import Pipettes\n",
    "\n",
    "P1000 = instruments.P1000_Single(\n",
    "    mount = 'right',\n",
    "    tip_racks = [tiprack_1000],\n",
    "    trash_container = trash\n",
    ")\n",
    "\n",
    "P300 = instruments.P300_Single(\n",
    "    mount='left',\n",
    "    tip_racks=[tiprack_300],\n",
    "    trash_container=trash \n",
    ")\n",
    "\n",
    "#####################################################################################################################################################\n",
    "#####################################################################################################################################################\n",
    "\n",
    "#Insert DES Generator here. \n",
    "\n",
    "reagents1 = convert_mole_fractions_to_volumes(3, 4, 0.3, 0.2, 0.8, 0.7, 96, 192 )\n",
    "\n",
    "reagent_pos1 = ['A1', 'A3']\n",
    "\n",
    "\n",
    "\n",
    "#####################################################################################################################################################\n",
    "#####################################################################################################################################################\n",
    "# STOCK LABWARE 1\n",
    "\n",
    "robot.home()                                                    # Homes robot and prevents any pipette bugs \n",
    "for counter, reagent in enumerate(reagents1,0):\n",
    "                                                                # These objects are temporary and will only exist within this loop\n",
    "    source      = reagent_pos1[counter]                         # Counter is use to index an independent list (e.g. reagent_pos)\n",
    "    P1000list   = [source]                                      # This is then added to both list - used in testing \t\t\t\t\n",
    "    P300listn   = [source]\n",
    "\n",
    "\n",
    "    P300.pick_up_tip()                                          # Picks up pipette tip for both P10 and P300 to allow to alternate\n",
    "    P1000.pick_up_tip()\n",
    "    for well_counter, values in enumerate(reagent):             # Specifies the well position and the volume of reagent being \n",
    "        if values == float(0):                                  # If volume is 0, well is skipped  \n",
    "            pass\n",
    "        elif values < float(300):\n",
    "            P300.distribute(                                     # If volume below 300, P300 used not p1000. Greater than 300 P1000 is used.\n",
    "                values, \n",
    "                Stock1(source), \n",
    "                wellplate_96(well_counter).top(0.5),          # Prevents submerging tip in solution, not completely sterile, but beneficial\n",
    "                blow_out=True,                                  # Removes excess from tip\n",
    "                rate=1,                                         # How quick it aspirates/dispenses, lower (ie 0.5) if stock viscous\n",
    "                new_tip='never')\n",
    "            P300.touch_tip(wellplate_96(well_counter))         # Touches tip to remove any droplets\n",
    "            P300.blow_out(wellplate_96(well_counter))\n",
    "        else: \n",
    "            P1000.distribute(\n",
    "                values, \n",
    "                Stock1(source), \n",
    "                wellplate_96(well_counter).top(0.5),\n",
    "                blow_out=True,\n",
    "                rate=1,\n",
    "                new_tip='never')\n",
    "            P1000.touch_tip(wellplate_96(well_counter))\n",
    "            P1000.blow_out(wellplate_96(well_counter))\n",
    "    P1000.drop_tip()\n",
    "    P300.drop_tip()\n",
    "\n",
    "for c in robot.commands(): # remove this when uploading code to robot\n",
    "     print(c)\n"
   ]
  },
  {
   "cell_type": "code",
   "execution_count": null,
   "metadata": {},
   "outputs": [],
   "source": []
  },
  {
   "cell_type": "code",
   "execution_count": null,
   "metadata": {},
   "outputs": [],
   "source": []
  },
  {
   "cell_type": "code",
   "execution_count": null,
   "metadata": {},
   "outputs": [],
   "source": []
  },
  {
   "cell_type": "code",
   "execution_count": null,
   "metadata": {},
   "outputs": [],
   "source": []
  }
 ],
 "metadata": {
  "kernelspec": {
   "display_name": "Python 3",
   "language": "python",
   "name": "python3"
  },
  "language_info": {
   "codemirror_mode": {
    "name": "ipython",
    "version": 3
   },
   "file_extension": ".py",
   "mimetype": "text/x-python",
   "name": "python",
   "nbconvert_exporter": "python",
   "pygments_lexer": "ipython3",
   "version": "3.6.8"
  }
 },
 "nbformat": 4,
 "nbformat_minor": 2
}
