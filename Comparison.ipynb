{
 "cells": [
  {
   "cell_type": "code",
   "execution_count": 1,
   "metadata": {},
   "outputs": [],
   "source": [
    "import sys\n",
    "import matplotlib.pyplot as plt\n",
    "import numpy as np\n",
    "from musicalrobot import irtemp\n",
    "from musicalrobot import edge_detection as ed\n",
    "from musicalrobot import edge_detection_MN as ednew"
   ]
  },
  {
   "cell_type": "markdown",
   "metadata": {},
   "source": [
    "# Load bolometry images"
   ]
  },
  {
   "cell_type": "code",
   "execution_count": null,
   "metadata": {},
   "outputs": [],
   "source": [
    "crop_frames = ednew.square_crop_the_file('musicalrobot/data/10_17_19_PPA_Shallow_plate.tiff')\n",
    "crop_frames2 = ednew.fixed_crop_the_file('musicalrobot/data/10_17_19_DDA_shallow_plate.tiff')\n",
    "crop_frames3 = ednew.not_crop_the_file('musicalrobot/data/8_15_19_Dodecanoic_acid.tiff')"
   ]
  },
  {
   "cell_type": "code",
   "execution_count": null,
   "metadata": {
    "scrolled": true
   },
   "outputs": [],
   "source": [
    "sorted_regprops, s_temp, p_temp, inf_temp, m_df = ed.inflection_temp(crop_frames, 3, 3)\n",
    "sorted_regprops2, s_temp2, p_temp2, inf_temp2, m_df2 = ed.inflection_temp(crop_frames2, 3, 3)\n",
    "sorted_regprops3, s_temp3, p_temp3, inf_temp3, m_df3 = ed.inflection_temp(crop_frames3, 3, 4)"
   ]
  },
  {
   "cell_type": "code",
   "execution_count": null,
   "metadata": {
    "scrolled": false
   },
   "outputs": [],
   "source": [
    "#sorted_regprops_v2, s_temp_v2, p_temp_v2, inf_temp_v2, m_df_v2 = ednew.inflection_temp(crop_frames, 3, 3, ver=2)\n",
    "sorted_regprops_v2_2, s_temp_v2_2, p_temp_v2_2, inf_temp_v2_2, m_df_v2_2 = ednew.inflection_temp(crop_frames2, 3, 3, 2)\n",
    "#sorted_regprops_v2_3, s_temp_v2_3, p_temp_v2_3, inf_temp_v2_3, m_df_v2_3 = ednew.inflection_temp(crop_frames3, 3, 4, 2)"
   ]
  },
  {
   "cell_type": "code",
   "execution_count": null,
   "metadata": {},
   "outputs": [],
   "source": [
    "inf_temp"
   ]
  },
  {
   "cell_type": "markdown",
   "metadata": {},
   "source": [
    "### Part A: Original version\n",
    "#### Calculate and plot std of sample temperatures at each frame"
   ]
  },
  {
   "cell_type": "code",
   "execution_count": null,
   "metadata": {},
   "outputs": [],
   "source": [
    "std = []\n",
    "for i in range(len(s_temp[0])):\n",
    "    total = 0\n",
    "    for x in range(len(s_temp)):\n",
    "        total += s_temp[x][i]\n",
    "    mean = total/len(s_temp)\n",
    "    for x in range(len(s_temp)):\n",
    "        mean_square = np.mean(np.abs(s_temp[x][i] - mean)**2)\n",
    "    std.append(np.sqrt(mean_square))\n",
    "sample_temp = plt.figure(figsize=(18,10))\n",
    "ax1 = sample_temp.add_subplot()\n",
    "ax1.plot(range(320), std)\n",
    "ax1.set_title(\"$Standard$ $deviation$ $of$ $sample$ $temperatures$ $at$ $each$ $frame$\", fontsize=32)\n",
    "ax1.set_xlabel(\"$Time$ $interval$ $(frames)$\", fontsize=24)\n",
    "ax1.set_ylabel(\"$Standard$ $deviation$ $of$ $sample$ $temperatures$\", fontsize=24)\n",
    "plt.show()"
   ]
  },
  {
   "cell_type": "markdown",
   "metadata": {},
   "source": [
    "#### Temperature at inflection points (melting temperature)"
   ]
  },
  {
   "cell_type": "code",
   "execution_count": null,
   "metadata": {},
   "outputs": [],
   "source": [
    "std_melt_temp = np.std(inf_temp)\n",
    "mean_melt_temp = np.mean(inf_temp)\n",
    "print(\"standard deviation of melting temperature: \" + str(std_melt_temp))\n",
    "print(\"mean of melting temperature: \" + str(mean_melt_temp))"
   ]
  },
  {
   "cell_type": "markdown",
   "metadata": {},
   "source": [
    "### Part B: New version\n",
    "#### Calculate and plot std of sample temperatures at each frame"
   ]
  },
  {
   "cell_type": "code",
   "execution_count": null,
   "metadata": {},
   "outputs": [],
   "source": []
  },
  {
   "cell_type": "markdown",
   "metadata": {},
   "source": [
    "#### Temperature at inflection points (melting temperature)"
   ]
  },
  {
   "cell_type": "code",
   "execution_count": null,
   "metadata": {},
   "outputs": [],
   "source": []
  }
 ],
 "metadata": {
  "kernelspec": {
   "display_name": "Python 3",
   "language": "python",
   "name": "python3"
  },
  "language_info": {
   "codemirror_mode": {
    "name": "ipython",
    "version": 3
   },
   "file_extension": ".py",
   "mimetype": "text/x-python",
   "name": "python",
   "nbconvert_exporter": "python",
   "pygments_lexer": "ipython3",
   "version": "3.7.4"
  }
 },
 "nbformat": 4,
 "nbformat_minor": 4
}
