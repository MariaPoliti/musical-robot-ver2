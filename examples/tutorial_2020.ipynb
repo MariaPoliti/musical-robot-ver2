{
 "cells": [
  {
   "cell_type": "markdown",
   "metadata": {},
   "source": [
    "<h1>Tutorial and result documentation for future implementation</h1>\n",
    "    \n",
    "This document comprises of the new implemented features in Spring 2020, about their pros, cons and suggested further enhancements"
   ]
  },
  {
   "cell_type": "markdown",
   "metadata": {},
   "source": [
    "<h2>Background</h2>\n",
    "\n",
    "2019 version's method was to identify the samples based on the inital locations as fixed reference, then compute the temperature of a circular region around the centroid location. However the locations are not updated thoughout the videos since it was unable to detect the samples later on. Furthermore, the pixel region is fixed as a circle, which is not accurate in real cases. in addition, there are some cases that samples are not indentifiable with the edge detection method.\n",
    "\n",
    "In 2020 version, there are new implementations as follow:\n",
    "1. Improve edge detection function to capture the samples throughout the video\n",
    "2. Make use of the new edge detection function to improve the pixel calculation techniques\n",
    "\n",
    "\n",
    "<h2>Improve edge detection function</h2>\n",
    "New aproach uses sobel edge detection algorithm combined with background reduction. Background reduction is made as to self-adjust linearly as a function of time, combined with progressive background reduction usally used for real-time camera. So in total there are two backgorund reduction implemented at the same time.\n",
    "\n",
    "Once through the sobel algorithm, the image is then binarized at a chosen intensity threshold $\\alpha$ (currently set as 2). Finally, the image goes through loop processed to erode and clean excessive edges and object.\n",
    "\n",
    "<h2>New pixel calculation</h2>\n",
    "Instead of a circular region centered at the object's centroid, the new method recognize the sample shape as it is. The temperature of the sample is taken as average of all of the sample's pixels.\n",
    "\n",
    "Previously, the environment temperature was taken from a singular pixel 3 unit away from the sample edges. In 2020 version, all of the pixels surrounding the sample in a rectangle region are used to measure the environmental temperature. The increase in pixel amount increase the precision of the reading.\n",
    "\n",
    "<h2>Suggestion for future improvements</h2>\n",
    "\n",
    "1. The new pixel calculation's quality is now completely dependent on the edge detection. Better detection makes better temperature reading.\n",
    "2. Sobel detection algorithm implementation is very basic and can be enhanced further if wanted (ie. combine with canny, varied thresholds).\n",
    "3. Within the edge detection function, the masking option for background is already set up. Future masking of a clean background can be used.\n",
    "4. Background reduction using real-time camera principle is implemented. Therefore, implementation of real-time reading is possible.\n",
    "5. The new module is meant to work with both 2019 and 2020 version. However, connection to ver=1 (2019) is still not complete.\n",
    "6. 2019 version used only 50 frames of the videos, while 2020 uses all. The amount of frames in 2020 version can be adjusted to increase computation speed\n",
    "7. New edge detection method still cannot detect about 5% of the the frames. Thus, there are still room for improvement.\n",
    "8. Complete automate the cropping process\n",
    "9. The high deviation in temperature reading at pre- and post-melting point can be improved (refer to the poster pdf result section)\n",
    "10. The new version should still be tested on more sample videos.\n"
   ]
  },
  {
   "cell_type": "code",
   "execution_count": 4,
   "metadata": {},
   "outputs": [
    {
     "name": "stderr",
     "output_type": "stream",
     "text": [
      "/mnt/d/wsl/DIRECT/musical-robot-ver2/musicalrobot/edge_detection_ver2.py:531: RuntimeWarning: invalid value encountered in true_divide\n",
      "  derivative = gradient[:,1]/gradient[:,0]\n",
      "/mnt/d/wsl/DIRECT/musical-robot-ver2/musicalrobot/edge_detection.py:293: RuntimeWarning: invalid value encountered in true_divide\n",
      "  derivative = gradient[:,1]/gradient[:,0]\n"
     ]
    }
   ],
   "source": [
    "import sys\n",
    "import matplotlib.pyplot as plt\n",
    "import numpy as np\n",
    "\n",
    "import edge_detection_ver2 as ed\n",
    "import edge_detection as ed_og\n",
    "\n",
    "frames = ed.input_file('../musicalrobot/data/10_17_19_PPA_Shallow_plate.tiff')  # default\n",
    "crop_frame = []\n",
    "for frame in frames:\n",
    "    crop_frame.append(frame[35:85, 40:120])\n",
    "    \n",
    "sorted_regprops, s_temp, p_temp, inf_temp, m_df = ed.inflection_temp(crop_frame, 3, 3)\n",
    "sorted_regprops_og, s_temp_og, p_temp_og, inf_temp_og, m_df_og = ed_og.inflection_temp(crop_frame, 3, 3)"
   ]
  }
 ],
 "metadata": {
  "kernelspec": {
   "display_name": "Python 3",
   "language": "python",
   "name": "python3"
  },
  "language_info": {
   "codemirror_mode": {
    "name": "ipython",
    "version": 3
   },
   "file_extension": ".py",
   "mimetype": "text/x-python",
   "name": "python",
   "nbconvert_exporter": "python",
   "pygments_lexer": "ipython3",
   "version": "3.7.3"
  }
 },
 "nbformat": 4,
 "nbformat_minor": 4
}
