{
 "cells": [
  {
   "cell_type": "code",
   "execution_count": 3,
   "metadata": {},
   "outputs": [],
   "source": [
    "import pandas as pd\n",
    "import matplotlib.pyplot as plt\n",
    "from matplotlib import cm\n",
    "import numpy as np\n",
    "from skimage import io\n",
    "import math\n",
    "\n",
    "from PIL import Image, ImageFilter"
   ]
  },
  {
   "cell_type": "code",
   "execution_count": 4,
   "metadata": {},
   "outputs": [],
   "source": [
    "image = io.imread('../doc/Lepton_Capture.tiff')"
   ]
  },
  {
   "cell_type": "code",
   "execution_count": 5,
   "metadata": {},
   "outputs": [
    {
     "name": "stdout",
     "output_type": "stream",
     "text": [
      "(196, 120, 160)\n"
     ]
    }
   ],
   "source": [
    "print(image.shape)"
   ]
  },
  {
   "cell_type": "code",
   "execution_count": 6,
   "metadata": {},
   "outputs": [
    {
     "data": {
      "text/plain": [
       "array([[29993, 29984, 29966, ..., 29912, 29906, 29914],\n",
       "       [30001, 29976, 29972, ..., 29914, 29923, 29929],\n",
       "       [29982, 29974, 29982, ..., 29916, 29906, 29933],\n",
       "       ...,\n",
       "       [30113, 30062, 30068, ..., 29862, 29891, 29893],\n",
       "       [30093, 30068, 30081, ..., 29875, 29873, 29902],\n",
       "       [30087, 30077, 30066, ..., 29877, 29870, 29896]], dtype=uint16)"
      ]
     },
     "execution_count": 6,
     "metadata": {},
     "output_type": "execute_result"
    }
   ],
   "source": [
    "image[0]"
   ]
  },
  {
   "cell_type": "code",
   "execution_count": 7,
   "metadata": {},
   "outputs": [
    {
     "name": "stdout",
     "output_type": "stream",
     "text": [
      "196\n"
     ]
    }
   ],
   "source": [
    "frames, height, width = image.shape\n",
    "print(frames)"
   ]
  },
  {
   "cell_type": "markdown",
   "metadata": {},
   "source": [
    "### Import image and read statistics"
   ]
  },
  {
   "cell_type": "code",
   "execution_count": 8,
   "metadata": {},
   "outputs": [],
   "source": [
    "image = io.imread('../doc/Lepton_Capture.tiff')\n",
    "frames, height, width = image.shape"
   ]
  },
  {
   "cell_type": "markdown",
   "metadata": {},
   "source": [
    "### Determining dimensions - find origion"
   ]
  },
  {
   "cell_type": "code",
   "execution_count": 9,
   "metadata": {},
   "outputs": [],
   "source": [
    "frames, height, width = image.shape\n",
    "rowmid = int(width / 2)\n",
    "colmid = int(height / 2)\n"
   ]
  },
  {
   "cell_type": "markdown",
   "metadata": {},
   "source": [
    "###  Choosing specific frames"
   ]
  },
  {
   "cell_type": "code",
   "execution_count": 21,
   "metadata": {},
   "outputs": [],
   "source": [
    "frame = 0\n",
    "factor = 15\n",
    "chosenframes = []\n",
    "\n",
    "while frame <= frames:\n",
    "    if frame % factor == 0:\n",
    "        chosenframes.append(frame)\n",
    "        frame = frame + 1\n",
    "    else:\n",
    "        frame = frame + 1"
   ]
  },
  {
   "cell_type": "code",
   "execution_count": 22,
   "metadata": {},
   "outputs": [
    {
     "name": "stdout",
     "output_type": "stream",
     "text": [
      "[0, 15, 30, 45, 60, 75, 90, 105, 120, 135, 150, 165, 180, 195]\n"
     ]
    }
   ],
   "source": [
    "print(chosenframes)"
   ]
  },
  {
   "cell_type": "code",
   "execution_count": 33,
   "metadata": {},
   "outputs": [
    {
     "data": {
      "text/plain": [
       "45"
      ]
     },
     "execution_count": 33,
     "metadata": {},
     "output_type": "execute_result"
    }
   ],
   "source": [
    "chosenframes[3]"
   ]
  },
  {
   "cell_type": "markdown",
   "metadata": {},
   "source": [
    "### Read single temperature in single frame"
   ]
  },
  {
   "cell_type": "code",
   "execution_count": 13,
   "metadata": {},
   "outputs": [
    {
     "data": {
      "text/plain": [
       "(196, 120, 160)"
      ]
     },
     "execution_count": 13,
     "metadata": {},
     "output_type": "execute_result"
    }
   ],
   "source": [
    "imarray = np.array(image)\n",
    "imarray.shape"
   ]
  },
  {
   "cell_type": "code",
   "execution_count": 14,
   "metadata": {},
   "outputs": [
    {
     "data": {
      "text/plain": [
       "array([[29993, 29984, 29966, ..., 29912, 29906, 29914],\n",
       "       [30001, 29976, 29972, ..., 29914, 29923, 29929],\n",
       "       [29982, 29974, 29982, ..., 29916, 29906, 29933],\n",
       "       ...,\n",
       "       [30113, 30062, 30068, ..., 29862, 29891, 29893],\n",
       "       [30093, 30068, 30081, ..., 29875, 29873, 29902],\n",
       "       [30087, 30077, 30066, ..., 29877, 29870, 29896]], dtype=uint16)"
      ]
     },
     "execution_count": 14,
     "metadata": {},
     "output_type": "execute_result"
    }
   ],
   "source": [
    "imarray[0]"
   ]
  },
  {
   "cell_type": "code",
   "execution_count": 15,
   "metadata": {},
   "outputs": [
    {
     "data": {
      "text/plain": [
       "(196, 120, 160)"
      ]
     },
     "execution_count": 15,
     "metadata": {},
     "output_type": "execute_result"
    }
   ],
   "source": [
    "image.shape"
   ]
  },
  {
   "cell_type": "markdown",
   "metadata": {},
   "source": [
    "Celsius - max - frame 0"
   ]
  },
  {
   "cell_type": "code",
   "execution_count": 17,
   "metadata": {},
   "outputs": [
    {
     "data": {
      "text/plain": [
       "37.91"
      ]
     },
     "execution_count": 17,
     "metadata": {},
     "output_type": "execute_result"
    }
   ],
   "source": [
    "framearray = imarray[56]\n",
    "C = (framearray.max() - 27315) / 100 \n",
    "C"
   ]
  },
  {
   "cell_type": "markdown",
   "metadata": {},
   "source": [
    "Fahrenheit - max - frame 0"
   ]
  },
  {
   "cell_type": "code",
   "execution_count": 18,
   "metadata": {},
   "outputs": [
    {
     "data": {
      "text/plain": [
       "100.022"
      ]
     },
     "execution_count": 18,
     "metadata": {},
     "output_type": "execute_result"
    }
   ],
   "source": [
    "framearray = imarray[0]\n",
    "C = (framearray.max() - 27315) / 100 \n",
    "F = C * 9 / 5 + 32\n",
    "F"
   ]
  },
  {
   "cell_type": "code",
   "execution_count": 23,
   "metadata": {},
   "outputs": [],
   "source": [
    "def centikelvin_to_celsius(temp):\n",
    "    cels = (temp - 27315)/100\n",
    "    return cels\n",
    "\n",
    "def to_fahrenheit(temp):\n",
    "    cels = centikelvin_to_celsius(temp)\n",
    "    fahr = cels * 9 / 5 + 32\n",
    "    return fahr\n",
    "\n",
    "def to_temperature(temp):\n",
    "    cels = centikelvin_to_celsius(temp)\n",
    "    fahr = cels * 9 / 5 + 32\n",
    "    return cels, fahr\n"
   ]
  },
  {
   "cell_type": "code",
   "execution_count": 24,
   "metadata": {},
   "outputs": [
    {
     "name": "stdout",
     "output_type": "stream",
     "text": [
      "36.01\n",
      "celsius:  36.01  , fahrenheit:  96.818\n"
     ]
    }
   ],
   "source": [
    "framearray = imarray[0]\n",
    "temp = framearray[colmid,rowmid]\n",
    "\n",
    "cels, fahr = to_temperature(temp)\n",
    "fahr = to_fahrenheit(temp)\n",
    "\n",
    "print(\"celsius: \", cels, \" , fahrenheit: \",fahr)"
   ]
  },
  {
   "cell_type": "markdown",
   "metadata": {},
   "source": [
    "Possible temperatures:\n",
    "* Min\n",
    "* Max\n",
    "* Mean\n",
    "* Any predetermined point - center"
   ]
  },
  {
   "cell_type": "markdown",
   "metadata": {},
   "source": [
    "### Loop through multiple chosen frames with single temperature"
   ]
  },
  {
   "cell_type": "code",
   "execution_count": 42,
   "metadata": {},
   "outputs": [
    {
     "name": "stdout",
     "output_type": "stream",
     "text": [
      "14\n"
     ]
    }
   ],
   "source": [
    "maxlength = len(chosenframes)\n",
    "alltempc = []\n",
    "alltempf = []\n",
    "index = 0\n",
    "print(maxlength)"
   ]
  },
  {
   "cell_type": "code",
   "execution_count": 56,
   "metadata": {},
   "outputs": [],
   "source": [
    "while index < maxlength:\n",
    "    frame = chosenframes[index]\n",
    "    framearray = imarray[frame]\n",
    "    temp = framearray[colmid,rowmid]\n",
    "    cels, fahr = to_temperature(temp)\n",
    "    alltempc.append(cels)\n",
    "    alltempf.append(fahr)\n",
    "    index = index + 1"
   ]
  },
  {
   "cell_type": "code",
   "execution_count": 57,
   "metadata": {},
   "outputs": [
    {
     "name": "stdout",
     "output_type": "stream",
     "text": [
      "[36.01, 28.21, 35.49, 34.12, 34.68, 35.16, 35.73, 35.66, 36.22, 35.41, 31.03, 32.13, 32.25, 31.37]\n"
     ]
    }
   ],
   "source": [
    "print(alltempc)"
   ]
  },
  {
   "cell_type": "markdown",
   "metadata": {},
   "source": [
    "### Indexing time over frames for a single temperature\n",
    "Assumptions: frame per a second is 27 - from Lepton FLIR manual talking about one frame video data being in 1/27th of a second. "
   ]
  },
  {
   "cell_type": "code",
   "execution_count": 64,
   "metadata": {},
   "outputs": [],
   "source": [
    "alltime = []\n",
    "maxlength = len(chosenframes)\n",
    "index = 0\n",
    "\n",
    "while index < maxlength:\n",
    "    frame = chosenframes[index]\n",
    "    time = frame / 27\n",
    "    alltime.append(round(time, 2))\n",
    "    index = index + 1"
   ]
  },
  {
   "cell_type": "code",
   "execution_count": 65,
   "metadata": {},
   "outputs": [
    {
     "name": "stdout",
     "output_type": "stream",
     "text": [
      "[0.0, 0.56, 1.11, 1.67, 2.22, 2.78, 3.33, 3.89, 4.44, 5.0, 5.56, 6.11, 6.67, 7.22]\n"
     ]
    }
   ],
   "source": [
    "print(alltime)"
   ]
  },
  {
   "cell_type": "markdown",
   "metadata": {},
   "source": [
    "### Create dataframe of all data"
   ]
  },
  {
   "cell_type": "code",
   "execution_count": 66,
   "metadata": {},
   "outputs": [
    {
     "data": {
      "text/html": [
       "<div>\n",
       "<style scoped>\n",
       "    .dataframe tbody tr th:only-of-type {\n",
       "        vertical-align: middle;\n",
       "    }\n",
       "\n",
       "    .dataframe tbody tr th {\n",
       "        vertical-align: top;\n",
       "    }\n",
       "\n",
       "    .dataframe thead th {\n",
       "        text-align: right;\n",
       "    }\n",
       "</style>\n",
       "<table border=\"1\" class=\"dataframe\">\n",
       "  <thead>\n",
       "    <tr style=\"text-align: right;\">\n",
       "      <th></th>\n",
       "      <th>Frame</th>\n",
       "      <th>Time</th>\n",
       "      <th>Temp (C)</th>\n",
       "      <th>Temp (F)</th>\n",
       "    </tr>\n",
       "  </thead>\n",
       "  <tbody>\n",
       "    <tr>\n",
       "      <th>0</th>\n",
       "      <td>0</td>\n",
       "      <td>0.00</td>\n",
       "      <td>36.01</td>\n",
       "      <td>96.818</td>\n",
       "    </tr>\n",
       "    <tr>\n",
       "      <th>1</th>\n",
       "      <td>15</td>\n",
       "      <td>0.56</td>\n",
       "      <td>28.21</td>\n",
       "      <td>82.778</td>\n",
       "    </tr>\n",
       "    <tr>\n",
       "      <th>2</th>\n",
       "      <td>30</td>\n",
       "      <td>1.11</td>\n",
       "      <td>35.49</td>\n",
       "      <td>95.882</td>\n",
       "    </tr>\n",
       "    <tr>\n",
       "      <th>3</th>\n",
       "      <td>45</td>\n",
       "      <td>1.67</td>\n",
       "      <td>34.12</td>\n",
       "      <td>93.416</td>\n",
       "    </tr>\n",
       "    <tr>\n",
       "      <th>4</th>\n",
       "      <td>60</td>\n",
       "      <td>2.22</td>\n",
       "      <td>34.68</td>\n",
       "      <td>94.424</td>\n",
       "    </tr>\n",
       "    <tr>\n",
       "      <th>5</th>\n",
       "      <td>75</td>\n",
       "      <td>2.78</td>\n",
       "      <td>35.16</td>\n",
       "      <td>95.288</td>\n",
       "    </tr>\n",
       "    <tr>\n",
       "      <th>6</th>\n",
       "      <td>90</td>\n",
       "      <td>3.33</td>\n",
       "      <td>35.73</td>\n",
       "      <td>96.314</td>\n",
       "    </tr>\n",
       "    <tr>\n",
       "      <th>7</th>\n",
       "      <td>105</td>\n",
       "      <td>3.89</td>\n",
       "      <td>35.66</td>\n",
       "      <td>96.188</td>\n",
       "    </tr>\n",
       "    <tr>\n",
       "      <th>8</th>\n",
       "      <td>120</td>\n",
       "      <td>4.44</td>\n",
       "      <td>36.22</td>\n",
       "      <td>97.196</td>\n",
       "    </tr>\n",
       "    <tr>\n",
       "      <th>9</th>\n",
       "      <td>135</td>\n",
       "      <td>5.00</td>\n",
       "      <td>35.41</td>\n",
       "      <td>95.738</td>\n",
       "    </tr>\n",
       "    <tr>\n",
       "      <th>10</th>\n",
       "      <td>150</td>\n",
       "      <td>5.56</td>\n",
       "      <td>31.03</td>\n",
       "      <td>87.854</td>\n",
       "    </tr>\n",
       "    <tr>\n",
       "      <th>11</th>\n",
       "      <td>165</td>\n",
       "      <td>6.11</td>\n",
       "      <td>32.13</td>\n",
       "      <td>89.834</td>\n",
       "    </tr>\n",
       "    <tr>\n",
       "      <th>12</th>\n",
       "      <td>180</td>\n",
       "      <td>6.67</td>\n",
       "      <td>32.25</td>\n",
       "      <td>90.050</td>\n",
       "    </tr>\n",
       "    <tr>\n",
       "      <th>13</th>\n",
       "      <td>195</td>\n",
       "      <td>7.22</td>\n",
       "      <td>31.37</td>\n",
       "      <td>88.466</td>\n",
       "    </tr>\n",
       "  </tbody>\n",
       "</table>\n",
       "</div>"
      ],
      "text/plain": [
       "    Frame  Time  Temp (C)  Temp (F)\n",
       "0       0  0.00     36.01    96.818\n",
       "1      15  0.56     28.21    82.778\n",
       "2      30  1.11     35.49    95.882\n",
       "3      45  1.67     34.12    93.416\n",
       "4      60  2.22     34.68    94.424\n",
       "5      75  2.78     35.16    95.288\n",
       "6      90  3.33     35.73    96.314\n",
       "7     105  3.89     35.66    96.188\n",
       "8     120  4.44     36.22    97.196\n",
       "9     135  5.00     35.41    95.738\n",
       "10    150  5.56     31.03    87.854\n",
       "11    165  6.11     32.13    89.834\n",
       "12    180  6.67     32.25    90.050\n",
       "13    195  7.22     31.37    88.466"
      ]
     },
     "execution_count": 66,
     "metadata": {},
     "output_type": "execute_result"
    }
   ],
   "source": [
    "data = pd.DataFrame()\n",
    "data['Frame'] = chosenframes\n",
    "data['Time'] = alltime\n",
    "data['Temp (C)'] = alltempc\n",
    "data['Temp (F)'] = alltempf\n",
    "data"
   ]
  },
  {
   "cell_type": "markdown",
   "metadata": {},
   "source": [
    "### Graphing change of temperature over time "
   ]
  },
  {
   "cell_type": "code",
   "execution_count": 86,
   "metadata": {},
   "outputs": [
    {
     "data": {
      "text/plain": [
       "[<matplotlib.lines.Line2D at 0x1de5a0469e8>]"
      ]
     },
     "execution_count": 86,
     "metadata": {},
     "output_type": "execute_result"
    },
    {
     "data": {
      "image/png": "[encoded data removed]",
      "text/plain": [
       "<Figure size 432x288 with 1 Axes>"
      ]
     },
     "metadata": {
      "needs_background": "light"
     },
     "output_type": "display_data"
    }
   ],
   "source": [
    "plt.plot(data['Time'], data['Temp (F)'])"
   ]
  },
  {
   "cell_type": "markdown",
   "metadata": {},
   "source": [
    "### Reading all temperature in single frame"
   ]
  },
  {
   "cell_type": "code",
   "execution_count": 78,
   "metadata": {},
   "outputs": [],
   "source": [
    "framearray = imarray[0]\n",
    "alltempall = np.zeros((height, width))\n",
    "row = 0\n",
    "col = 0\n",
    "\n",
    "while col < height :\n",
    "    row = 0\n",
    "    while row < width:\n",
    "        temp = framearray[col, row]\n",
    "        cels, fahr = to_temperature(temp)\n",
    "        alltempall[col, row] = cels\n",
    "        row += 1\n",
    "    col += 1"
   ]
  },
  {
   "cell_type": "code",
   "execution_count": 79,
   "metadata": {},
   "outputs": [
    {
     "name": "stdout",
     "output_type": "stream",
     "text": [
      "[[26.78 26.69 26.51 ... 25.97 25.91 25.99]\n",
      " [26.86 26.61 26.57 ... 25.99 26.08 26.14]\n",
      " [26.67 26.59 26.67 ... 26.01 25.91 26.18]\n",
      " ...\n",
      " [27.98 27.47 27.53 ... 25.47 25.76 25.78]\n",
      " [27.78 27.53 27.66 ... 25.6  25.58 25.87]\n",
      " [27.72 27.62 27.51 ... 25.62 25.55 25.81]]\n"
     ]
    }
   ],
   "source": [
    "print(alltempall)"
   ]
  },
  {
   "cell_type": "code",
   "execution_count": null,
   "metadata": {},
   "outputs": [],
   "source": []
  }
 ],
 "metadata": {
  "kernelspec": {
   "display_name": "Python 3",
   "language": "python",
   "name": "python3"
  }
 },
 "nbformat": 4,
 "nbformat_minor": 2
}
