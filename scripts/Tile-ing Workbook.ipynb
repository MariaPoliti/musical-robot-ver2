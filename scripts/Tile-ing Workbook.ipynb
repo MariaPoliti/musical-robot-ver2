{
 "cells": [
  {
   "cell_type": "code",
   "execution_count": 2,
   "metadata": {},
   "outputs": [],
   "source": [
    "import pandas as pd\n",
    "import matplotlib.pyplot as plt\n",
    "from skimage import io\n",
    "import numpy as np"
   ]
  },
  {
   "cell_type": "markdown",
   "metadata": {},
   "source": [
    "# Preprocessing Functions\n",
    "These functions will modify the frames of the video image in order to separate each well into a different image that can be investigated and not cause interference between reading each well. \n",
    "\n",
    "# Try using the test lepton images - convert to array and section off there \n",
    "    * forced to lock in postiton to ensure that it doesn't move"
   ]
  },
  {
   "cell_type": "markdown",
   "metadata": {},
   "source": [
    "# Inputs for all functions\n",
    "\n",
    "* until we obtain a frame from a video as a test image - I will be using a set of drawn well plates with varying degrees of tilt to test the boundry definition and tiling. "
   ]
  },
  {
   "cell_type": "code",
   "execution_count": 23,
   "metadata": {},
   "outputs": [
    {
     "data": {
      "text/plain": [
       "(1536, 2048, 4)"
      ]
     },
     "execution_count": 23,
     "metadata": {},
     "output_type": "execute_result"
    },
    {
     "data": {
      "image/png": "[encoded data removed]",
      "text/plain": [
       "<Figure size 432x288 with 1 Axes>"
      ]
     },
     "metadata": {
      "needs_background": "light"
     },
     "output_type": "display_data"
    }
   ],
   "source": [
    "image = io.imread('../musicalrobot/data/Wellplatedrawn.png') \n",
    "image2 = io.imread('../musicalrobot/data/Lepton_Capture.tiff')\n",
    "io.imshow(image)\n",
    "type(image)\n",
    "image.shape"
   ]
  },
  {
   "cell_type": "markdown",
   "metadata": {},
   "source": [
    "## Preprocessing 1: Boundry definition\n",
    "This will cut out the well plate from the background of the frame - the well plate dimensions should not change so no further modifications will be needed to ensure the cuts are in the correct places. "
   ]
  },
  {
   "cell_type": "code",
   "execution_count": null,
   "metadata": {},
   "outputs": [],
   "source": []
  },
  {
   "cell_type": "markdown",
   "metadata": {},
   "source": [
    "## Preprocessing 2: Tiling each well into a seperate image\n",
    "In order to ensure that there is not temperature spill over from other frames we will tile the single frame in to 96 separate images - this will allow each frame to be read as 96 individual temperatures. "
   ]
  },
  {
   "cell_type": "markdown",
   "metadata": {},
   "source": [
    "#### Steps\n",
    "* Assign data to each image (image number running left to right then wrapping to begining/ frame data (if available)/ temp (when recieved))\n",
    "* Stack images into an array that describes the entire frame\n",
    "* Loads stacked images into arrays (?)\n",
    "* Wrapper for all functions"
   ]
  },
  {
   "cell_type": "markdown",
   "metadata": {},
   "source": [
    "### Finding data about the image"
   ]
  },
  {
   "cell_type": "code",
   "execution_count": 3,
   "metadata": {},
   "outputs": [],
   "source": [
    "frames, height, width = image2.shape"
   ]
  },
  {
   "cell_type": "code",
   "execution_count": 4,
   "metadata": {},
   "outputs": [
    {
     "name": "stdout",
     "output_type": "stream",
     "text": [
      "[13.333333333333334, 15.0]\n"
     ]
    }
   ],
   "source": [
    "tilewidth = width/12\n",
    "tileheight = height / 8\n",
    "tilesize = [tilewidth, tileheight]\n",
    "print(tilesize)"
   ]
  },
  {
   "cell_type": "markdown",
   "metadata": {},
   "source": [
    "### Cropping a single image into 96 sections"
   ]
  },
  {
   "cell_type": "code",
   "execution_count": 7,
   "metadata": {},
   "outputs": [],
   "source": [
    "chosen = image2[0]\n",
    "imarray = np.array(chosen)\n",
    "height, width = chosen.shape"
   ]
  },
  {
   "cell_type": "code",
   "execution_count": 8,
   "metadata": {},
   "outputs": [
    {
     "name": "stdout",
     "output_type": "stream",
     "text": [
      "15 13\n"
     ]
    }
   ],
   "source": [
    "divh = int(height/8) #height of tile \n",
    "divw = int(width/12) #width of tile\n",
    "\n",
    "print(divh, divw)\n",
    "wellh = 8 #number of wells height in 96 well plate\n",
    "wellw = 12 #number of wells width in 96 well plate"
   ]
  },
  {
   "cell_type": "code",
   "execution_count": 9,
   "metadata": {},
   "outputs": [
    {
     "name": "stdout",
     "output_type": "stream",
     "text": [
      "range(0, 8)\n"
     ]
    }
   ],
   "source": [
    "print(range(wellh))"
   ]
  },
  {
   "cell_type": "code",
   "execution_count": null,
   "metadata": {},
   "outputs": [],
   "source": [
    "allsplice = np.zeros((wellh, wellw), dtype = object)\n",
    "splice = np.zeros((divh, divw), dtype = object)\n",
    "\n",
    "for i in range(wellh):\n",
    "    for j in range(wellw):\n",
    "        xbeg = divh * j\n",
    "        ybeg = divw * i\n",
    "        for k in range(divh):\n",
    "            for m in range(divw):\n",
    "                rowin = xbeg + k\n",
    "                colin = ybeg + m\n",
    "                #print(rowin, colin)\n",
    "                if rowin >= height:\n",
    "                    rowin = height - 1\n",
    "                else:\n",
    "                    pass\n",
    "                if colin >= width:\n",
    "                    colin = width - 1\n",
    "                else:\n",
    "                    pass\n",
    "                value = imarray[rowin][colin]\n",
    "                splice[k][m] = value\n",
    "        allsplice[i][j] = splice\n",
    "    print(allsplice.shape)"
   ]
  },
  {
   "cell_type": "code",
   "execution_count": null,
   "metadata": {},
   "outputs": [],
   "source": [
    "allsplice[5][5]"
   ]
  },
  {
   "cell_type": "code",
   "execution_count": null,
   "metadata": {},
   "outputs": [],
   "source": [
    "diff = allsplice[5][5] - allsplice[1][5]\n",
    "diff"
   ]
  },
  {
   "cell_type": "code",
   "execution_count": null,
   "metadata": {},
   "outputs": [],
   "source": [
    "allsplice = np.zeros((wellh, wellw), dtype = object)\n",
    "splice = np.zeros((divh, divw), dtype = object)\n",
    "\n",
    "for i in range(wellh):\n",
    "    for j in range(wellw):\n",
    "        xbeg = divh * j\n",
    "        ybeg = divw * i\n",
    "        yend = divh * i\n",
    "        xend = divw * j\n",
    "        splice = imarray[ybeg:yend, xbeg:xend]\n",
    "        #print(splice)\n",
    "        allsplice[i][j] = splice\n",
    "    #print(allsplice.shape)"
   ]
  },
  {
   "cell_type": "code",
   "execution_count": null,
   "metadata": {},
   "outputs": [],
   "source": [
    "allsplice = np.zeros((wellh, wellw), dtype = object)\n",
    "splice = []\n",
    "splice = np.zeros((divh, divw), dtype = object)\n",
    "xbeg = 0\n",
    "ybeg = 0\n",
    "\n",
    "for k in range(divh):\n",
    "    #print(k)\n",
    "    #print(xbeg, ybeg)\n",
    "    for m in range(divw):\n",
    "        #print(m)\n",
    "        rowin = ybeg + k\n",
    "        colin = xbeg + m\n",
    "        #print(rowin, colin)\n",
    "        value = imarray[rowin][colin]\n",
    "        splice[k][m] = value\n"
   ]
  },
  {
   "cell_type": "code",
   "execution_count": null,
   "metadata": {},
   "outputs": [],
   "source": []
  },
  {
   "cell_type": "code",
   "execution_count": null,
   "metadata": {},
   "outputs": [],
   "source": []
  },
  {
   "cell_type": "code",
   "execution_count": null,
   "metadata": {},
   "outputs": [],
   "source": [
    "allsplice = np.zeros((wellh, wellw), dtype = object)\n"
   ]
  },
  {
   "cell_type": "code",
   "execution_count": null,
   "metadata": {},
   "outputs": [],
   "source": [
    "splice = np.zeros((divh, divw))\n",
    "splice[3,3] = 5"
   ]
  },
  {
   "cell_type": "code",
   "execution_count": null,
   "metadata": {},
   "outputs": [],
   "source": [
    "allsplice[0,0] = splice[:]"
   ]
  },
  {
   "cell_type": "code",
   "execution_count": null,
   "metadata": {},
   "outputs": [],
   "source": [
    "allsplice[0,0]"
   ]
  },
  {
   "cell_type": "code",
   "execution_count": null,
   "metadata": {},
   "outputs": [],
   "source": [
    "array =([[12,  5,  2,  4],\n",
    "       [ 7,  6,  8,  8],\n",
    "       [ 1,  6,  7,  7]])"
   ]
  },
  {
   "cell_type": "code",
   "execution_count": null,
   "metadata": {},
   "outputs": [],
   "source": [
    "array[1][2]"
   ]
  },
  {
   "cell_type": "code",
   "execution_count": null,
   "metadata": {},
   "outputs": [],
   "source": [
    "array[:2][:1]"
   ]
  },
  {
   "cell_type": "markdown",
   "metadata": {},
   "source": [
    "## More"
   ]
  },
  {
   "cell_type": "code",
   "execution_count": 24,
   "metadata": {},
   "outputs": [
    {
     "name": "stdout",
     "output_type": "stream",
     "text": [
      "1536 2048\n"
     ]
    }
   ],
   "source": [
    "chosen = image\n",
    "\n",
    "height, width, trash = image.shape\n",
    "print(height,width)"
   ]
  },
  {
   "cell_type": "code",
   "execution_count": 25,
   "metadata": {},
   "outputs": [
    {
     "name": "stdout",
     "output_type": "stream",
     "text": [
      "192 170\n"
     ]
    }
   ],
   "source": [
    "divx = int(height/8)\n",
    "divy = int(width/12)\n",
    "print(divx,divy)\n",
    "wellx = 8 #number of wells height in 96 well plate\n",
    "welly = 12 #number of wells width in 96 well plate"
   ]
  },
  {
   "cell_type": "code",
   "execution_count": 30,
   "metadata": {},
   "outputs": [
    {
     "name": "stdout",
     "output_type": "stream",
     "text": [
      "(8, 12)\n"
     ]
    }
   ],
   "source": [
    "allsplice = np.zeros((wellx,welly),dtype=object)\n",
    "i =0 \n",
    "\n",
    "for x in range(wellx):\n",
    "    for y in range(welly):\n",
    "        ybeg = divx * (x)\n",
    "        yend = divx * (x+1)\n",
    "        xbeg = divy * (y)\n",
    "        xend = divy * (y+1)\n",
    "        allsplice[x,y] = image[ybeg:yend,xbeg:xend]\n",
    "print(allsplice.shape)"
   ]
  },
  {
   "cell_type": "code",
   "execution_count": 31,
   "metadata": {},
   "outputs": [
    {
     "data": {
      "text/plain": [
       "array([[[255, 255, 255, 255],\n",
       "        [255, 255, 255, 255],\n",
       "        [255, 255, 255, 255],\n",
       "        ...,\n",
       "        [255, 255, 255, 255],\n",
       "        [255, 255, 255, 255],\n",
       "        [255, 255, 255, 255]],\n",
       "\n",
       "       [[255, 255, 255, 255],\n",
       "        [255, 255, 255, 255],\n",
       "        [255, 255, 255, 255],\n",
       "        ...,\n",
       "        [255, 255, 255, 255],\n",
       "        [255, 255, 255, 255],\n",
       "        [255, 255, 255, 255]],\n",
       "\n",
       "       [[255, 255, 255, 255],\n",
       "        [255, 255, 255, 255],\n",
       "        [255, 255, 255, 255],\n",
       "        ...,\n",
       "        [255, 255, 255, 255],\n",
       "        [255, 255, 255, 255],\n",
       "        [255, 255, 255, 255]],\n",
       "\n",
       "       ...,\n",
       "\n",
       "       [[255, 255, 255, 255],\n",
       "        [255, 255, 255, 255],\n",
       "        [255, 255, 255, 255],\n",
       "        ...,\n",
       "        [255, 255, 255, 255],\n",
       "        [255, 255, 255, 255],\n",
       "        [255, 255, 255, 255]],\n",
       "\n",
       "       [[255, 255, 255, 255],\n",
       "        [255, 255, 255, 255],\n",
       "        [255, 255, 255, 255],\n",
       "        ...,\n",
       "        [255, 255, 255, 255],\n",
       "        [255, 255, 255, 255],\n",
       "        [255, 255, 255, 255]],\n",
       "\n",
       "       [[255, 255, 255, 255],\n",
       "        [255, 255, 255, 255],\n",
       "        [255, 255, 255, 255],\n",
       "        ...,\n",
       "        [255, 255, 255, 255],\n",
       "        [255, 255, 255, 255],\n",
       "        [255, 255, 255, 255]]], dtype=uint8)"
      ]
     },
     "execution_count": 31,
     "metadata": {},
     "output_type": "execute_result"
    }
   ],
   "source": [
    "allsplice[5][1]"
   ]
  },
  {
   "cell_type": "code",
   "execution_count": 32,
   "metadata": {},
   "outputs": [
    {
     "data": {
      "text/plain": [
       "array([[[0, 0, 0, 0],\n",
       "        [0, 0, 0, 0],\n",
       "        [0, 0, 0, 0],\n",
       "        ...,\n",
       "        [0, 0, 0, 0],\n",
       "        [0, 0, 0, 0],\n",
       "        [0, 0, 0, 0]],\n",
       "\n",
       "       [[0, 0, 0, 0],\n",
       "        [0, 0, 0, 0],\n",
       "        [0, 0, 0, 0],\n",
       "        ...,\n",
       "        [0, 0, 0, 0],\n",
       "        [0, 0, 0, 0],\n",
       "        [0, 0, 0, 0]],\n",
       "\n",
       "       [[0, 0, 0, 0],\n",
       "        [0, 0, 0, 0],\n",
       "        [0, 0, 0, 0],\n",
       "        ...,\n",
       "        [0, 0, 0, 0],\n",
       "        [0, 0, 0, 0],\n",
       "        [0, 0, 0, 0]],\n",
       "\n",
       "       ...,\n",
       "\n",
       "       [[0, 0, 0, 0],\n",
       "        [0, 0, 0, 0],\n",
       "        [0, 0, 0, 0],\n",
       "        ...,\n",
       "        [0, 0, 0, 0],\n",
       "        [0, 0, 0, 0],\n",
       "        [0, 0, 0, 0]],\n",
       "\n",
       "       [[0, 0, 0, 0],\n",
       "        [0, 0, 0, 0],\n",
       "        [0, 0, 0, 0],\n",
       "        ...,\n",
       "        [0, 0, 0, 0],\n",
       "        [0, 0, 0, 0],\n",
       "        [0, 0, 0, 0]],\n",
       "\n",
       "       [[0, 0, 0, 0],\n",
       "        [0, 0, 0, 0],\n",
       "        [0, 0, 0, 0],\n",
       "        ...,\n",
       "        [0, 0, 0, 0],\n",
       "        [0, 0, 0, 0],\n",
       "        [0, 0, 0, 0]]], dtype=uint8)"
      ]
     },
     "execution_count": 32,
     "metadata": {},
     "output_type": "execute_result"
    }
   ],
   "source": [
    "diff = allsplice[5][5] - allsplice[1][5]\n",
    "diff"
   ]
  },
  {
   "cell_type": "markdown",
   "metadata": {},
   "source": [
    "### "
   ]
  },
  {
   "cell_type": "markdown",
   "metadata": {},
   "source": [
    "### Flooding single cell"
   ]
  },
  {
   "cell_type": "code",
   "execution_count": 10,
   "metadata": {},
   "outputs": [
    {
     "name": "stdout",
     "output_type": "stream",
     "text": [
      "(8, 12)\n",
      "(8, 12)\n",
      "(8, 12)\n",
      "(8, 12)\n",
      "(8, 12)\n",
      "(8, 12)\n",
      "(8, 12)\n",
      "(8, 12)\n"
     ]
    }
   ],
   "source": [
    "allsplice = np.zeros((wellh, wellw), dtype = object)\n",
    "splice = np.zeros((divh, divw), dtype = object)\n",
    "\n",
    "for i in range(wellh):\n",
    "    for j in range(wellw):\n",
    "        xbeg = divh * j\n",
    "        ybeg = divw * i\n",
    "        for k in range(divh):\n",
    "            for m in range(divw):\n",
    "                rowin = xbeg + k\n",
    "                colin = ybeg + m\n",
    "                #print(rowin, colin)\n",
    "                if rowin >= height:\n",
    "                    rowin = height - 1\n",
    "                else:\n",
    "                    pass\n",
    "                if colin >= width:\n",
    "                    colin = width - 1\n",
    "                else:\n",
    "                    pass\n",
    "                value = image[rowin][colin]\n",
    "                splice[k][m] = value\n",
    "        allsplice[i][j] = splice\n",
    "    print(allsplice.shape)"
   ]
  },
  {
   "cell_type": "code",
   "execution_count": 13,
   "metadata": {},
   "outputs": [
    {
     "data": {
      "text/plain": [
       "array([[array([255, 255, 255, 255], dtype=uint8),\n",
       "        array([255, 255, 255, 255], dtype=uint8),\n",
       "        array([255, 255, 255, 255], dtype=uint8),\n",
       "        array([255, 255, 255, 255], dtype=uint8),\n",
       "        array([255, 255, 255, 255], dtype=uint8),\n",
       "        array([255, 255, 255, 255], dtype=uint8),\n",
       "        array([255, 255, 255, 255], dtype=uint8),\n",
       "        array([255, 255, 255, 255], dtype=uint8),\n",
       "        array([255, 255, 255, 255], dtype=uint8),\n",
       "        array([255, 255, 255, 255], dtype=uint8),\n",
       "        array([255, 255, 255, 255], dtype=uint8),\n",
       "        array([255, 255, 255, 255], dtype=uint8),\n",
       "        array([255, 255, 255, 255], dtype=uint8)],\n",
       "       [array([255, 255, 255, 255], dtype=uint8),\n",
       "        array([255, 255, 255, 255], dtype=uint8),\n",
       "        array([255, 255, 255, 255], dtype=uint8),\n",
       "        array([255, 255, 255, 255], dtype=uint8),\n",
       "        array([255, 255, 255, 255], dtype=uint8),\n",
       "        array([255, 255, 255, 255], dtype=uint8),\n",
       "        array([255, 255, 255, 255], dtype=uint8),\n",
       "        array([255, 255, 255, 255], dtype=uint8),\n",
       "        array([255, 255, 255, 255], dtype=uint8),\n",
       "        array([255, 255, 255, 255], dtype=uint8),\n",
       "        array([255, 255, 255, 255], dtype=uint8),\n",
       "        array([255, 255, 255, 255], dtype=uint8),\n",
       "        array([255, 255, 255, 255], dtype=uint8)],\n",
       "       [array([255, 255, 255, 255], dtype=uint8),\n",
       "        array([255, 255, 255, 255], dtype=uint8),\n",
       "        array([255, 255, 255, 255], dtype=uint8),\n",
       "        array([255, 255, 255, 255], dtype=uint8),\n",
       "        array([255, 255, 255, 255], dtype=uint8),\n",
       "        array([255, 255, 255, 255], dtype=uint8),\n",
       "        array([255, 255, 255, 255], dtype=uint8),\n",
       "        array([255, 255, 255, 255], dtype=uint8),\n",
       "        array([255, 255, 255, 255], dtype=uint8),\n",
       "        array([255, 255, 255, 255], dtype=uint8),\n",
       "        array([255, 255, 255, 255], dtype=uint8),\n",
       "        array([255, 255, 255, 255], dtype=uint8),\n",
       "        array([255, 255, 255, 255], dtype=uint8)],\n",
       "       [array([255, 255, 255, 255], dtype=uint8),\n",
       "        array([255, 255, 255, 255], dtype=uint8),\n",
       "        array([255, 255, 255, 255], dtype=uint8),\n",
       "        array([255, 255, 255, 255], dtype=uint8),\n",
       "        array([255, 255, 255, 255], dtype=uint8),\n",
       "        array([255, 255, 255, 255], dtype=uint8),\n",
       "        array([255, 255, 255, 255], dtype=uint8),\n",
       "        array([255, 255, 255, 255], dtype=uint8),\n",
       "        array([255, 255, 255, 255], dtype=uint8),\n",
       "        array([255, 255, 255, 255], dtype=uint8),\n",
       "        array([255, 255, 255, 255], dtype=uint8),\n",
       "        array([255, 255, 255, 255], dtype=uint8),\n",
       "        array([255, 255, 255, 255], dtype=uint8)],\n",
       "       [array([255, 255, 255, 255], dtype=uint8),\n",
       "        array([255, 255, 255, 255], dtype=uint8),\n",
       "        array([255, 255, 255, 255], dtype=uint8),\n",
       "        array([255, 255, 255, 255], dtype=uint8),\n",
       "        array([255, 255, 255, 255], dtype=uint8),\n",
       "        array([255, 255, 255, 255], dtype=uint8),\n",
       "        array([255, 255, 255, 255], dtype=uint8),\n",
       "        array([255, 255, 255, 255], dtype=uint8),\n",
       "        array([255, 255, 255, 255], dtype=uint8),\n",
       "        array([255, 255, 255, 255], dtype=uint8),\n",
       "        array([255, 255, 255, 255], dtype=uint8),\n",
       "        array([255, 255, 255, 255], dtype=uint8),\n",
       "        array([255, 255, 255, 255], dtype=uint8)],\n",
       "       [array([255, 255, 255, 255], dtype=uint8),\n",
       "        array([255, 255, 255, 255], dtype=uint8),\n",
       "        array([255, 255, 255, 255], dtype=uint8),\n",
       "        array([255, 255, 255, 255], dtype=uint8),\n",
       "        array([255, 255, 255, 255], dtype=uint8),\n",
       "        array([255, 255, 255, 255], dtype=uint8),\n",
       "        array([255, 255, 255, 255], dtype=uint8),\n",
       "        array([255, 255, 255, 255], dtype=uint8),\n",
       "        array([255, 255, 255, 255], dtype=uint8),\n",
       "        array([255, 255, 255, 255], dtype=uint8),\n",
       "        array([255, 255, 255, 255], dtype=uint8),\n",
       "        array([255, 255, 255, 255], dtype=uint8),\n",
       "        array([255, 255, 255, 255], dtype=uint8)],\n",
       "       [array([255, 255, 255, 255], dtype=uint8),\n",
       "        array([255, 255, 255, 255], dtype=uint8),\n",
       "        array([255, 255, 255, 255], dtype=uint8),\n",
       "        array([255, 255, 255, 255], dtype=uint8),\n",
       "        array([255, 255, 255, 255], dtype=uint8),\n",
       "        array([255, 255, 255, 255], dtype=uint8),\n",
       "        array([255, 255, 255, 255], dtype=uint8),\n",
       "        array([255, 255, 255, 255], dtype=uint8),\n",
       "        array([255, 255, 255, 255], dtype=uint8),\n",
       "        array([255, 255, 255, 255], dtype=uint8),\n",
       "        array([255, 255, 255, 255], dtype=uint8),\n",
       "        array([255, 255, 255, 255], dtype=uint8),\n",
       "        array([255, 255, 255, 255], dtype=uint8)],\n",
       "       [array([255, 255, 255, 255], dtype=uint8),\n",
       "        array([255, 255, 255, 255], dtype=uint8),\n",
       "        array([255, 255, 255, 255], dtype=uint8),\n",
       "        array([255, 255, 255, 255], dtype=uint8),\n",
       "        array([255, 255, 255, 255], dtype=uint8),\n",
       "        array([255, 255, 255, 255], dtype=uint8),\n",
       "        array([255, 255, 255, 255], dtype=uint8),\n",
       "        array([255, 255, 255, 255], dtype=uint8),\n",
       "        array([255, 255, 255, 255], dtype=uint8),\n",
       "        array([255, 255, 255, 255], dtype=uint8),\n",
       "        array([255, 255, 255, 255], dtype=uint8),\n",
       "        array([255, 255, 255, 255], dtype=uint8),\n",
       "        array([255, 255, 255, 255], dtype=uint8)],\n",
       "       [array([255, 255, 255, 255], dtype=uint8),\n",
       "        array([255, 255, 255, 255], dtype=uint8),\n",
       "        array([255, 255, 255, 255], dtype=uint8),\n",
       "        array([255, 255, 255, 255], dtype=uint8),\n",
       "        array([255, 255, 255, 255], dtype=uint8),\n",
       "        array([255, 255, 255, 255], dtype=uint8),\n",
       "        array([255, 255, 255, 255], dtype=uint8),\n",
       "        array([255, 255, 255, 255], dtype=uint8),\n",
       "        array([255, 255, 255, 255], dtype=uint8),\n",
       "        array([255, 255, 255, 255], dtype=uint8),\n",
       "        array([255, 255, 255, 255], dtype=uint8),\n",
       "        array([255, 255, 255, 255], dtype=uint8),\n",
       "        array([255, 255, 255, 255], dtype=uint8)],\n",
       "       [array([255, 255, 255, 255], dtype=uint8),\n",
       "        array([255, 255, 255, 255], dtype=uint8),\n",
       "        array([255, 255, 255, 255], dtype=uint8),\n",
       "        array([255, 255, 255, 255], dtype=uint8),\n",
       "        array([255, 255, 255, 255], dtype=uint8),\n",
       "        array([255, 255, 255, 255], dtype=uint8),\n",
       "        array([255, 255, 255, 255], dtype=uint8),\n",
       "        array([255, 255, 255, 255], dtype=uint8),\n",
       "        array([255, 255, 255, 255], dtype=uint8),\n",
       "        array([255, 255, 255, 255], dtype=uint8),\n",
       "        array([255, 255, 255, 255], dtype=uint8),\n",
       "        array([255, 255, 255, 255], dtype=uint8),\n",
       "        array([255, 255, 255, 255], dtype=uint8)],\n",
       "       [array([255, 255, 255, 255], dtype=uint8),\n",
       "        array([255, 255, 255, 255], dtype=uint8),\n",
       "        array([255, 255, 255, 255], dtype=uint8),\n",
       "        array([255, 255, 255, 255], dtype=uint8),\n",
       "        array([255, 255, 255, 255], dtype=uint8),\n",
       "        array([255, 255, 255, 255], dtype=uint8),\n",
       "        array([255, 255, 255, 255], dtype=uint8),\n",
       "        array([255, 255, 255, 255], dtype=uint8),\n",
       "        array([255, 255, 255, 255], dtype=uint8),\n",
       "        array([255, 255, 255, 255], dtype=uint8),\n",
       "        array([255, 255, 255, 255], dtype=uint8),\n",
       "        array([255, 255, 255, 255], dtype=uint8),\n",
       "        array([255, 255, 255, 255], dtype=uint8)],\n",
       "       [array([255, 255, 255, 255], dtype=uint8),\n",
       "        array([255, 255, 255, 255], dtype=uint8),\n",
       "        array([255, 255, 255, 255], dtype=uint8),\n",
       "        array([255, 255, 255, 255], dtype=uint8),\n",
       "        array([255, 255, 255, 255], dtype=uint8),\n",
       "        array([255, 255, 255, 255], dtype=uint8),\n",
       "        array([255, 255, 255, 255], dtype=uint8),\n",
       "        array([255, 255, 255, 255], dtype=uint8),\n",
       "        array([255, 255, 255, 255], dtype=uint8),\n",
       "        array([255, 255, 255, 255], dtype=uint8),\n",
       "        array([255, 255, 255, 255], dtype=uint8),\n",
       "        array([255, 255, 255, 255], dtype=uint8),\n",
       "        array([255, 255, 255, 255], dtype=uint8)],\n",
       "       [array([255, 255, 255, 255], dtype=uint8),\n",
       "        array([255, 255, 255, 255], dtype=uint8),\n",
       "        array([255, 255, 255, 255], dtype=uint8),\n",
       "        array([255, 255, 255, 255], dtype=uint8),\n",
       "        array([255, 255, 255, 255], dtype=uint8),\n",
       "        array([255, 255, 255, 255], dtype=uint8),\n",
       "        array([255, 255, 255, 255], dtype=uint8),\n",
       "        array([255, 255, 255, 255], dtype=uint8),\n",
       "        array([255, 255, 255, 255], dtype=uint8),\n",
       "        array([255, 255, 255, 255], dtype=uint8),\n",
       "        array([255, 255, 255, 255], dtype=uint8),\n",
       "        array([255, 255, 255, 255], dtype=uint8),\n",
       "        array([255, 255, 255, 255], dtype=uint8)],\n",
       "       [array([255, 255, 255, 255], dtype=uint8),\n",
       "        array([255, 255, 255, 255], dtype=uint8),\n",
       "        array([255, 255, 255, 255], dtype=uint8),\n",
       "        array([255, 255, 255, 255], dtype=uint8),\n",
       "        array([255, 255, 255, 255], dtype=uint8),\n",
       "        array([255, 255, 255, 255], dtype=uint8),\n",
       "        array([255, 255, 255, 255], dtype=uint8),\n",
       "        array([255, 255, 255, 255], dtype=uint8),\n",
       "        array([255, 255, 255, 255], dtype=uint8),\n",
       "        array([255, 255, 255, 255], dtype=uint8),\n",
       "        array([255, 255, 255, 255], dtype=uint8),\n",
       "        array([255, 255, 255, 255], dtype=uint8),\n",
       "        array([255, 255, 255, 255], dtype=uint8)],\n",
       "       [array([255, 255, 255, 255], dtype=uint8),\n",
       "        array([255, 255, 255, 255], dtype=uint8),\n",
       "        array([255, 255, 255, 255], dtype=uint8),\n",
       "        array([255, 255, 255, 255], dtype=uint8),\n",
       "        array([255, 255, 255, 255], dtype=uint8),\n",
       "        array([255, 255, 255, 255], dtype=uint8),\n",
       "        array([255, 255, 255, 255], dtype=uint8),\n",
       "        array([255, 255, 255, 255], dtype=uint8),\n",
       "        array([255, 255, 255, 255], dtype=uint8),\n",
       "        array([255, 255, 255, 255], dtype=uint8),\n",
       "        array([255, 255, 255, 255], dtype=uint8),\n",
       "        array([255, 255, 255, 255], dtype=uint8),\n",
       "        array([255, 255, 255, 255], dtype=uint8)]], dtype=object)"
      ]
     },
     "execution_count": 13,
     "metadata": {},
     "output_type": "execute_result"
    }
   ],
   "source": [
    "single = allsplice[0,1]\n",
    "single"
   ]
  },
  {
   "cell_type": "markdown",
   "metadata": {},
   "source": [
    "### Soft: User modiciations\n",
    "While we are using the 96 well plates for this experiment, there are many different sizes of well plates that will need to be accounted for. This will change the tiling and the sizes of the tiles in order to accomodate the change in wells. Our specific robot is designed with 96 well plates in mind although custom containers can be added with different specificiations. \n",
    "\n",
    "#### Common well plate specifications\n",
    "* 96 well plate (2:3 rectangular mix - 8x12)\n",
    "* 384 well plate (2:3 rectanguar mix - 16x24)\n",
    "* 24 well plate (3x6)\n"
   ]
  },
  {
   "cell_type": "code",
   "execution_count": null,
   "metadata": {},
   "outputs": [],
   "source": []
  }
 ],
 "metadata": {
  "kernelspec": {
   "display_name": "Python 3",
   "language": "python",
   "name": "python3"
  },
  "language_info": {
   "codemirror_mode": {
    "name": "ipython",
    "version": 3
   },
   "file_extension": ".py",
   "mimetype": "text/x-python",
   "name": "python",
   "nbconvert_exporter": "python",
   "pygments_lexer": "ipython3",
   "version": "3.6.8"
  }
 },
 "nbformat": 4,
 "nbformat_minor": 2
}
