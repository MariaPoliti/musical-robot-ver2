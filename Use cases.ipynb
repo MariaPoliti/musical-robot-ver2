{
 "cells": [
  {
   "cell_type": "markdown",
   "metadata": {},
   "source": [
    "# Use Cases\n",
    "\n",
    "### Experienced programmer\n",
    "\n",
    "Jenny is a scientist who will be using the package to determine the melting points of deep eutectic solvents through infrared images. She can use the package to:\n",
    "* Analyze high contrast and minimal noise images from infrared imaging bolometers through edge detection technique.\n",
    "* Analyze low contrast images from infrared imaging bolometers through pixel value analysis.\n",
    "\n",
    "### New programmer\n",
    "\n",
    "Allen is a student who is new to programming. He makes high throughput measurement of melting points of deep eutectic solvents through IR bolometry. He can use the package to:\n",
    "* Automatically extract the melting point from a large amount of IR images without solid background in python.\n"
   ]
  },
  {
   "cell_type": "code",
   "execution_count": null,
   "metadata": {},
   "outputs": [],
   "source": []
  }
 ],
 "metadata": {
  "kernelspec": {
   "display_name": "Python 3",
   "language": "python",
   "name": "python3"
  },
  "language_info": {
   "codemirror_mode": {
    "name": "ipython",
    "version": 3
   },
   "file_extension": ".py",
   "mimetype": "text/x-python",
   "name": "python",
   "nbconvert_exporter": "python",
   "pygments_lexer": "ipython3",
   "version": "3.7.6"
  }
 },
 "nbformat": 4,
 "nbformat_minor": 4
}
