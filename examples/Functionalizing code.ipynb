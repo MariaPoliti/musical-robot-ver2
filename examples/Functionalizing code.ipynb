{
 "cells": [
  {
   "cell_type": "code",
   "execution_count": 1,
   "metadata": {},
   "outputs": [],
   "source": [
    "import pandas as pd\n",
    "import numpy as np\n",
    "import sys\n",
    "import matplotlib.pyplot as plt\n",
    "from skimage import io\n",
    "from skimage import feature\n",
    "from skimage.exposure import equalize_adapthist\n",
    "from skimage.feature import canny\n",
    "from scipy.ndimage.morphology import binary_fill_holes\n",
    "from skimage.measure import label\n",
    "from skimage.measure import regionprops\n",
    "from skimage.morphology import remove_small_objects  \n",
    "from scipy.signal import find_peaks"
   ]
  },
  {
   "cell_type": "code",
   "execution_count": 2,
   "metadata": {},
   "outputs": [],
   "source": [
    "sys.path.insert(0, '/Users/shrilakshmisbonageri/Desktop/UW/DIRECT/capstone/musical-robot/musicalrobot')"
   ]
  },
  {
   "cell_type": "code",
   "execution_count": 3,
   "metadata": {},
   "outputs": [],
   "source": [
    "import irtemp"
   ]
  },
  {
   "cell_type": "code",
   "execution_count": 4,
   "metadata": {},
   "outputs": [],
   "source": [
    "from irtemp import centikelvin_to_celsius"
   ]
  },
  {
   "cell_type": "markdown",
   "metadata": {},
   "source": [
    "### Function to load the input file"
   ]
  },
  {
   "cell_type": "code",
   "execution_count": 5,
   "metadata": {},
   "outputs": [],
   "source": [
    "def input_file(file_name):\n",
    "    ''' To load the imput file as an array.\n",
    "    Args:\n",
    "        file_name (string) : Name of the file to be loaded as it is \n",
    "        saved on the disk. Provide file path if it is not in\n",
    "        the same directory as the jupyter notebook.\n",
    "    Returns:\n",
    "        In case of a video, returns an array for each frame\n",
    "        in the video.\n",
    "        In case of an image, return an array.    \n",
    "    '''\n",
    "    frames = io.imread(file_name)\n",
    "    return frames"
   ]
  },
  {
   "cell_type": "code",
   "execution_count": 8,
   "metadata": {},
   "outputs": [],
   "source": [
    "frames = input_file('../doc/PPA_Melting_6_14_19.tiff')\n",
    "crop_frame = []\n",
    "for frame in frames:\n",
    "    crop_frame.append(frame[40:100])"
   ]
  },
  {
   "cell_type": "markdown",
   "metadata": {},
   "source": [
    "### Function to flip the frames horizontally and vertically to correct for the mirroring during recording"
   ]
  },
  {
   "cell_type": "code",
   "execution_count": 9,
   "metadata": {},
   "outputs": [],
   "source": [
    "def flip_frame(frames):\n",
    "    ''' To flip all the loaded frames horizontally and vertically\n",
    "        to correct for the mirroring during recording.\n",
    "        Args:\n",
    "        frames(Array): An array containing an array for each frame\n",
    "        in the video or just a single array in case of an image.\n",
    "        Returns:\n",
    "        Flipped frames that can be processed to get temperature data.\n",
    "    '''\n",
    "    flip_frames = []\n",
    "    for frame in frames:\n",
    "        f_frame = np.fliplr(frame)\n",
    "        flip_frames.append(np.flipud(f_frame))\n",
    "    return flip_frames"
   ]
  },
  {
   "cell_type": "code",
   "execution_count": 10,
   "metadata": {},
   "outputs": [],
   "source": [
    "flip_frames = flip_frame(crop_frame)"
   ]
  },
  {
   "cell_type": "code",
   "execution_count": 11,
   "metadata": {},
   "outputs": [
    {
     "data": {
      "text/plain": [
       "list"
      ]
     },
     "execution_count": 11,
     "metadata": {},
     "output_type": "execute_result"
    }
   ],
   "source": [
    "type(flip_frames)"
   ]
  },
  {
   "cell_type": "markdown",
   "metadata": {},
   "source": [
    "### Function to detect edges, fill and label the samples."
   ]
  },
  {
   "cell_type": "code",
   "execution_count": 12,
   "metadata": {},
   "outputs": [],
   "source": [
    "def edge_detection(frames):\n",
    "    ''' To detect the edges of the wells, fill and label them to\n",
    "    determine their centroids.\n",
    "    Args:\n",
    "    frames: The frames to be processed and determine the\n",
    "    sample temperature from.\n",
    "    Returns:\n",
    "    labeled_samples: All the samples in the frame are labeled\n",
    "    so that they can be used as props to get pixel data from.\n",
    "    '''\n",
    "    edges = feature.canny(frames[0]/1500)\n",
    "    filled_samples = binary_fill_holes(edges)\n",
    "    cl_samples = remove_small_objects(filled_samples,min_size = 20)\n",
    "    labeled_samples = label(cl_samples)\n",
    "    return labeled_samples"
   ]
  },
  {
   "cell_type": "code",
   "execution_count": 13,
   "metadata": {},
   "outputs": [],
   "source": [
    "labeled_samples = edge_detection(flip_frames)"
   ]
  },
  {
   "cell_type": "code",
   "execution_count": 14,
   "metadata": {},
   "outputs": [
    {
     "data": {
      "text/plain": [
       "(60, 160)"
      ]
     },
     "execution_count": 14,
     "metadata": {},
     "output_type": "execute_result"
    }
   ],
   "source": [
    "flip_frames[0].shape"
   ]
  },
  {
   "cell_type": "code",
   "execution_count": 15,
   "metadata": {},
   "outputs": [
    {
     "data": {
      "text/plain": [
       "(60, 160)"
      ]
     },
     "execution_count": 15,
     "metadata": {},
     "output_type": "execute_result"
    }
   ],
   "source": [
    "labeled_samples.shape"
   ]
  },
  {
   "cell_type": "code",
   "execution_count": 16,
   "metadata": {},
   "outputs": [],
   "source": [
    "assert flip_frames[0].shape == labeled_samples.shape,'SHape'"
   ]
  },
  {
   "cell_type": "code",
   "execution_count": 17,
   "metadata": {},
   "outputs": [
    {
     "data": {
      "text/plain": [
       "<matplotlib.image.AxesImage at 0x1124cdc88>"
      ]
     },
     "execution_count": 17,
     "metadata": {},
     "output_type": "execute_result"
    },
    {
     "data": {
      "image/png": "[encoded data removed]",
      "text/plain": [
       "<Figure size 432x288 with 1 Axes>"
      ]
     },
     "metadata": {
      "needs_background": "light"
     },
     "output_type": "display_data"
    }
   ],
   "source": [
    "plt.imshow(labeled_samples)"
   ]
  },
  {
   "cell_type": "markdown",
   "metadata": {},
   "source": [
    "### Function to determine centroids of all the samples"
   ]
  },
  {
   "cell_type": "code",
   "execution_count": 18,
   "metadata": {},
   "outputs": [],
   "source": [
    "def regprop(labeled_samples,frames,n_samples):\n",
    "    ''' Determines the area and centroid of all samples.\n",
    "        Args:\n",
    "        labeled_samples(array): An array with labeled samples.\n",
    "        flip_frames (array) : Original intensity image to determine\n",
    "        the intensity at sample centroids.\n",
    "        Returns:\n",
    "        A dataframe with information about samples.\n",
    "    '''\n",
    "    regprops = {} \n",
    "    for i in range(len(frames)):\n",
    "        props = regionprops(labeled_samples, intensity_image=frames[i])\n",
    "        x = np.zeros(len(props)).astype(int)\n",
    "        y = np.zeros(len(props)).astype(int)\n",
    "        area = np.zeros(len(props))\n",
    "        perim = np.zeros(len(props))\n",
    "        intensity = np.zeros(len(props),dtype=np.float64)\n",
    "        plate = np.zeros(len(props),dtype=np.float64)\n",
    "        plate_coord = np.zeros(len(props))\n",
    "       \n",
    "        c = 0\n",
    "        for prop in props:\n",
    "            x[c] = int(prop.centroid[0])\n",
    "            y[c] = int(prop.centroid[1])\n",
    "            #print(y[c])\n",
    "            area[c] = prop.area\n",
    "            perim[c] = prop.perimeter\n",
    "            intensity[c] = frames[i][x[c]][y[c]]\n",
    "            plate[c] = frames[i][x[c]][y[c]+10]\n",
    "            plate_coord[c] = y[c]+10\n",
    "            c = c + 1\n",
    "            \n",
    "        regprops[i] = pd.DataFrame({'X': x, 'Y': y,'Plate':plate,'Plate_coord':plate_coord ,'Area': area,\n",
    "                                'Perim': perim, 'Mean Intensity': intensity},dtype=np.float64)\n",
    "        regprops[i].sort_values(['Y','X'],inplace=True)\n",
    "        if len(regprops[i]) != n_samples:\n",
    "            print('Wrong number of samples are being detected in frame %d' %i)    \n",
    "    return regprops"
   ]
  },
  {
   "cell_type": "code",
   "execution_count": null,
   "metadata": {},
   "outputs": [],
   "source": []
  },
  {
   "cell_type": "code",
   "execution_count": 20,
   "metadata": {},
   "outputs": [],
   "source": [
    "regprops = regprop(labeled_samples,flip_frames,5)"
   ]
  },
  {
   "cell_type": "code",
   "execution_count": 21,
   "metadata": {},
   "outputs": [
    {
     "data": {
      "text/plain": [
       "5"
      ]
     },
     "execution_count": 21,
     "metadata": {},
     "output_type": "execute_result"
    }
   ],
   "source": [
    "len(regprops[0])"
   ]
  },
  {
   "cell_type": "code",
   "execution_count": 22,
   "metadata": {},
   "outputs": [
    {
     "data": {
      "text/html": [
       "<div>\n",
       "<style scoped>\n",
       "    .dataframe tbody tr th:only-of-type {\n",
       "        vertical-align: middle;\n",
       "    }\n",
       "\n",
       "    .dataframe tbody tr th {\n",
       "        vertical-align: top;\n",
       "    }\n",
       "\n",
       "    .dataframe thead th {\n",
       "        text-align: right;\n",
       "    }\n",
       "</style>\n",
       "<table border=\"1\" class=\"dataframe\">\n",
       "  <thead>\n",
       "    <tr style=\"text-align: right;\">\n",
       "      <th></th>\n",
       "      <th>X</th>\n",
       "      <th>Y</th>\n",
       "      <th>Plate</th>\n",
       "      <th>Plate_coord</th>\n",
       "      <th>Area</th>\n",
       "      <th>Perim</th>\n",
       "      <th>Mean Intensity</th>\n",
       "    </tr>\n",
       "  </thead>\n",
       "  <tbody>\n",
       "    <tr>\n",
       "      <th>1</th>\n",
       "      <td>31.0</td>\n",
       "      <td>32.0</td>\n",
       "      <td>29465.0</td>\n",
       "      <td>42.0</td>\n",
       "      <td>23.0</td>\n",
       "      <td>15.071068</td>\n",
       "      <td>29308.0</td>\n",
       "    </tr>\n",
       "    <tr>\n",
       "      <th>0</th>\n",
       "      <td>28.0</td>\n",
       "      <td>55.0</td>\n",
       "      <td>29476.0</td>\n",
       "      <td>65.0</td>\n",
       "      <td>25.0</td>\n",
       "      <td>16.828427</td>\n",
       "      <td>29332.0</td>\n",
       "    </tr>\n",
       "    <tr>\n",
       "      <th>2</th>\n",
       "      <td>33.0</td>\n",
       "      <td>75.0</td>\n",
       "      <td>29534.0</td>\n",
       "      <td>85.0</td>\n",
       "      <td>38.0</td>\n",
       "      <td>21.485281</td>\n",
       "      <td>29329.0</td>\n",
       "    </tr>\n",
       "    <tr>\n",
       "      <th>3</th>\n",
       "      <td>32.0</td>\n",
       "      <td>96.0</td>\n",
       "      <td>29472.0</td>\n",
       "      <td>106.0</td>\n",
       "      <td>54.0</td>\n",
       "      <td>25.071068</td>\n",
       "      <td>29303.0</td>\n",
       "    </tr>\n",
       "    <tr>\n",
       "      <th>4</th>\n",
       "      <td>32.0</td>\n",
       "      <td>116.0</td>\n",
       "      <td>29513.0</td>\n",
       "      <td>126.0</td>\n",
       "      <td>32.0</td>\n",
       "      <td>18.242641</td>\n",
       "      <td>29336.0</td>\n",
       "    </tr>\n",
       "  </tbody>\n",
       "</table>\n",
       "</div>"
      ],
      "text/plain": [
       "      X      Y    Plate  Plate_coord  Area      Perim  Mean Intensity\n",
       "1  31.0   32.0  29465.0         42.0  23.0  15.071068         29308.0\n",
       "0  28.0   55.0  29476.0         65.0  25.0  16.828427         29332.0\n",
       "2  33.0   75.0  29534.0         85.0  38.0  21.485281         29329.0\n",
       "3  32.0   96.0  29472.0        106.0  54.0  25.071068         29303.0\n",
       "4  32.0  116.0  29513.0        126.0  32.0  18.242641         29336.0"
      ]
     },
     "execution_count": 22,
     "metadata": {},
     "output_type": "execute_result"
    }
   ],
   "source": [
    "regprops[0]"
   ]
  },
  {
   "cell_type": "code",
   "execution_count": 23,
   "metadata": {},
   "outputs": [
    {
     "data": {
      "text/plain": [
       "<matplotlib.collections.PathCollection at 0x122189f28>"
      ]
     },
     "execution_count": 23,
     "metadata": {},
     "output_type": "execute_result"
    },
    {
     "data": {
      "image/png": "[encoded data removed]",
      "text/plain": [
       "<Figure size 432x288 with 1 Axes>"
      ]
     },
     "metadata": {
      "needs_background": "light"
     },
     "output_type": "display_data"
    }
   ],
   "source": [
    "plt.imshow(flip_frames[0])\n",
    "plt.scatter(regprops[0]['Plate_coord'],regprops[0]['X'])"
   ]
  },
  {
   "cell_type": "code",
   "execution_count": 59,
   "metadata": {},
   "outputs": [],
   "source": [
    "for i in range(len(flip_frames)):\n",
    "    if len(regprops[i]) != 5:\n",
    "        print('Wrong number of samples %d' %i)"
   ]
  },
  {
   "cell_type": "code",
   "execution_count": 60,
   "metadata": {},
   "outputs": [
    {
     "data": {
      "text/plain": [
       "5"
      ]
     },
     "execution_count": 60,
     "metadata": {},
     "output_type": "execute_result"
    }
   ],
   "source": [
    "len(regprops[1])"
   ]
  },
  {
   "cell_type": "markdown",
   "metadata": {},
   "source": [
    "### Function to obtain temperature of samples and plate temp"
   ]
  },
  {
   "cell_type": "code",
   "execution_count": 25,
   "metadata": {},
   "outputs": [],
   "source": [
    "def sample_temp(regprops,frames):\n",
    "    ''' Function to concatenate all the obtained temperature data\n",
    "        from the pixel values into lists.\n",
    "        Args:\n",
    "        regprops: The dictionary of dataframes containing temperature data.\n",
    "        frames: The array of frames to be processed to obtain temperature data.\n",
    "    '''\n",
    "    temp = []\n",
    "    plate_temp = []\n",
    "    for j in range(len(regprops[1])):\n",
    "        temp_well = []\n",
    "        plate_well_temp = []\n",
    "        for i in range(len(frames)):\n",
    "            temp_well.append(centikelvin_to_celsius(regprops[i]['Mean Intensity'][j]))\n",
    "            plate_well_temp.append(centikelvin_to_celsius(regprops[i]['Plate'][j]))\n",
    "        temp.append(temp_well)\n",
    "        plate_temp.append(plate_well_temp)\n",
    "    return temp,plate_temp"
   ]
  },
  {
   "cell_type": "code",
   "execution_count": 26,
   "metadata": {},
   "outputs": [],
   "source": [
    "temp, plate_temp = sample_temp(regprops,flip_frames)"
   ]
  },
  {
   "cell_type": "code",
   "execution_count": 29,
   "metadata": {},
   "outputs": [
    {
     "data": {
      "text/plain": [
       "5"
      ]
     },
     "execution_count": 29,
     "metadata": {},
     "output_type": "execute_result"
    }
   ],
   "source": [
    "len(temp)"
   ]
  },
  {
   "cell_type": "code",
   "execution_count": 27,
   "metadata": {},
   "outputs": [
    {
     "data": {
      "text/plain": [
       "list"
      ]
     },
     "execution_count": 27,
     "metadata": {},
     "output_type": "execute_result"
    }
   ],
   "source": [
    "type(temp)"
   ]
  },
  {
   "cell_type": "code",
   "execution_count": 28,
   "metadata": {},
   "outputs": [
    {
     "data": {
      "text/plain": [
       "list"
      ]
     },
     "execution_count": 28,
     "metadata": {},
     "output_type": "execute_result"
    }
   ],
   "source": [
    "type(plate_temp)"
   ]
  },
  {
   "cell_type": "code",
   "execution_count": null,
   "metadata": {},
   "outputs": [],
   "source": [
    "plt.plot(plate_temp[1],temp[1])"
   ]
  },
  {
   "cell_type": "code",
   "execution_count": null,
   "metadata": {},
   "outputs": [],
   "source": [
    "np.asarray(temp).shape"
   ]
  },
  {
   "cell_type": "code",
   "execution_count": null,
   "metadata": {},
   "outputs": [],
   "source": [
    "melting_point = find_peaks(np.asarray(temp[1]),distance=20)"
   ]
  },
  {
   "cell_type": "code",
   "execution_count": null,
   "metadata": {},
   "outputs": [],
   "source": [
    "melting_point"
   ]
  },
  {
   "cell_type": "code",
   "execution_count": null,
   "metadata": {},
   "outputs": [],
   "source": [
    "len(flip_frames)"
   ]
  },
  {
   "cell_type": "markdown",
   "metadata": {},
   "source": [
    "### Image equalization"
   ]
  },
  {
   "cell_type": "code",
   "execution_count": 33,
   "metadata": {},
   "outputs": [],
   "source": [
    "def image_eq(n_frames,frames):\n",
    "    '''Function to obtained an equalized image using all the frames\n",
    "       in the video.\n",
    "       Args:\n",
    "       n_frames(int): The number of frames in the video.\n",
    "       frames(List): List of arrays of frames in the video.\n",
    "       Returns:\n",
    "       img_eq: Equalized image  \n",
    "    '''\n",
    "    for II in range(n_frames):\n",
    "        frame = frames[II]\n",
    "        img_eq = (frame - np.amin(frame))/(np.amax(frame)-np.amin(frame))\n",
    "        if II == 0:\n",
    "            img_ave = img_eq\n",
    "        else:\n",
    "            img_ave = img_ave + img_eq\n",
    "    img_average = img_ave/n_frames\n",
    "    img_eq = (img_ave - np.amin(img_ave))/(np.amax(img_ave)-np.amin(img_ave))\n",
    "    return img_eq"
   ]
  },
  {
   "cell_type": "markdown",
   "metadata": {},
   "source": [
    "### Pixel sum"
   ]
  },
  {
   "cell_type": "code",
   "execution_count": 54,
   "metadata": {},
   "outputs": [],
   "source": [
    "def pixel_sum(frame):\n",
    "    ''' Funtion to determine sum of pixels over all the rows and columns\n",
    "        to obtain plots with peaks at the sample position in the array.\n",
    "        Args:\n",
    "        frame(array): An array of an image\n",
    "        Returns:\n",
    "        column_sum: Sum of pixels over all the columns\n",
    "        row_sum: Sum of pixels over all the rows\n",
    "        Also returns plots of column sum and row sum.\n",
    "    '''\n",
    "    rows = frame.shape[0]\n",
    "    columns = frame.shape[1]\n",
    "    column_sum = []\n",
    "    for i in range(0,columns):\n",
    "        column_sum.append(sum(frame[:,i]))\n",
    "    row_sum = []\n",
    "    for j in range(0,rows):\n",
    "        row_sum.append(sum(frame[j,:]))\n",
    "    column_sum = [x * -1 for x in column_sum]\n",
    "    row_sum = [x * -1 for x in row_sum]\n",
    "    plt.plot(range(len(column_sum)),column_sum)\n",
    "    plt.xlabel('X-coordinate value')\n",
    "    plt.ylabel('Sum of pixel values over columns')\n",
    "    plt.show()\n",
    "    plt.plot(range(len(row_sum)),row_sum)\n",
    "    plt.xlabel('Y-coordinate value')\n",
    "    plt.ylabel('Sum of pixel values over rows')\n",
    "    plt.show()\n",
    "    return column_sum,row_sum\n"
   ]
  },
  {
   "cell_type": "code",
   "execution_count": 55,
   "metadata": {},
   "outputs": [],
   "source": [
    "pixel_frames = input_file('../doc/CHCl_CA_DES_5_31_19.tiff')"
   ]
  },
  {
   "cell_type": "code",
   "execution_count": 56,
   "metadata": {},
   "outputs": [],
   "source": [
    "img_eq = image_eq(len(pixel_frames),pixel_frames)"
   ]
  },
  {
   "cell_type": "code",
   "execution_count": 57,
   "metadata": {},
   "outputs": [
    {
     "data": {
      "text/plain": [
       "(120, 160)"
      ]
     },
     "execution_count": 57,
     "metadata": {},
     "output_type": "execute_result"
    }
   ],
   "source": [
    "pixel_frames[0].shape"
   ]
  },
  {
   "cell_type": "code",
   "execution_count": 58,
   "metadata": {},
   "outputs": [
    {
     "data": {
      "text/plain": [
       "(120, 160)"
      ]
     },
     "execution_count": 58,
     "metadata": {},
     "output_type": "execute_result"
    }
   ],
   "source": [
    "img_eq.shape"
   ]
  },
  {
   "cell_type": "code",
   "execution_count": null,
   "metadata": {},
   "outputs": [],
   "source": []
  },
  {
   "cell_type": "code",
   "execution_count": 41,
   "metadata": {},
   "outputs": [
    {
     "data": {
      "image/png": "[encoded data removed]",
      "text/plain": [
       "<Figure size 432x288 with 1 Axes>"
      ]
     },
     "metadata": {
      "needs_background": "light"
     },
     "output_type": "display_data"
    },
    {
     "data": {
      "image/png": "[encoded data removed]",
      "text/plain": [
       "<Figure size 432x288 with 1 Axes>"
      ]
     },
     "metadata": {
      "needs_background": "light"
     },
     "output_type": "display_data"
    }
   ],
   "source": [
    "column_sum, row_sum = pixel_sum(img_eq)"
   ]
  },
  {
   "cell_type": "code",
   "execution_count": 43,
   "metadata": {},
   "outputs": [
    {
     "data": {
      "text/plain": [
       "160"
      ]
     },
     "execution_count": 43,
     "metadata": {},
     "output_type": "execute_result"
    }
   ],
   "source": [
    "len(column_sum)"
   ]
  },
  {
   "cell_type": "code",
   "execution_count": 44,
   "metadata": {},
   "outputs": [
    {
     "data": {
      "text/plain": [
       "120"
      ]
     },
     "execution_count": 44,
     "metadata": {},
     "output_type": "execute_result"
    }
   ],
   "source": [
    "len(row_sum)"
   ]
  },
  {
   "cell_type": "markdown",
   "metadata": {},
   "source": [
    "### Peak values in dataframe"
   ]
  },
  {
   "cell_type": "code",
   "execution_count": 45,
   "metadata": {},
   "outputs": [],
   "source": [
    "def peak_values(column_sum,row_sum,n_columns,n_rows,image):\n",
    "    ''' Function to find peaks from the column_sum and row_sum arrays\n",
    "        and return a dataframe with sample locations.\n",
    "        Args:\n",
    "        column_sum: Sum of pixel values over all the columns in the\n",
    "        image array.\n",
    "        row_sum: Sum of pixel values over all the rows in the\n",
    "        image array.\n",
    "        n_columns: Number of columns of samples in the image\n",
    "        n_rows: Number of rows of samples in the image.\n",
    "        image: Image to be processed\n",
    "        Returns: \n",
    "        sample_location: A dataframe containing sample and plate locations and a plot with locations\n",
    "        superimposed on the image to be processed.\n",
    "        \n",
    "    '''\n",
    "    column_peaks = find_peaks(column_sum,distance=10)\n",
    "    column_peaks = column_peaks[0]\n",
    "    row_peaks = find_peaks(row_sum,distance=10)\n",
    "    row_peaks = row_peaks[0]\n",
    "    X = []\n",
    "    Y = []\n",
    "    plate_location = []\n",
    "    i = 0\n",
    "    j = 0\n",
    "    for i in range(0,n_rows):\n",
    "        for j in range(0,n_columns):\n",
    "            Y.append(column_peaks[j])\n",
    "            if j == 0:\n",
    "                plate_location.append(int((Y[j]-0)/2))\n",
    "            else:\n",
    "                plate_location.append(int((Y[j] + Y[j-1])/2))\n",
    "            j = j + 1\n",
    "            X.append(row_peaks[i])\n",
    "            \n",
    "        i = i + 1\n",
    "    \n",
    "    sample_location = pd.DataFrame(list(zip(X, Y, plate_location)),columns =['X', 'Y','plate_location'])\n",
    "    plt.imshow(image)\n",
    "    plt.scatter(sample_location['Y'],sample_location['X'],s=4)\n",
    "    plt.scatter(sample_location['plate_location'],sample_location['X'],s=4)\n",
    "    plt.show()\n",
    "    return sample_location"
   ]
  },
  {
   "cell_type": "code",
   "execution_count": 46,
   "metadata": {},
   "outputs": [
    {
     "data": {
      "image/png": "[encoded data removed]",
      "text/plain": [
       "<Figure size 432x288 with 1 Axes>"
      ]
     },
     "metadata": {
      "needs_background": "light"
     },
     "output_type": "display_data"
    }
   ],
   "source": [
    "well_location = peak_values(column_sum,row_sum,12,8,img_eq)"
   ]
  },
  {
   "cell_type": "code",
   "execution_count": 48,
   "metadata": {},
   "outputs": [
    {
     "data": {
      "text/plain": [
       "pandas.core.frame.DataFrame"
      ]
     },
     "execution_count": 48,
     "metadata": {},
     "output_type": "execute_result"
    }
   ],
   "source": [
    "type(well_location)"
   ]
  },
  {
   "cell_type": "code",
   "execution_count": 47,
   "metadata": {},
   "outputs": [
    {
     "data": {
      "text/plain": [
       "96"
      ]
     },
     "execution_count": 47,
     "metadata": {},
     "output_type": "execute_result"
    }
   ],
   "source": [
    "len(well_location)"
   ]
  },
  {
   "cell_type": "markdown",
   "metadata": {},
   "source": [
    "### Sample temp and plate temp in list"
   ]
  },
  {
   "cell_type": "code",
   "execution_count": 49,
   "metadata": {},
   "outputs": [],
   "source": [
    "def pixel_intensity(sample_location, frames, x_name, y_name, plate_name):\n",
    "    ''' Function to find pixel intensity at all sample locations\n",
    "        and plate locations in each frame.\n",
    "        Args:\n",
    "        sample_location(dataframe): A dataframe containing sample and plate locations.\n",
    "        frames(list or array): An array of arrays containing all the frames of a video.\n",
    "        x_name(string): Name of the column in sample_location containing the row values of the samples.\n",
    "        y_name(string): Name of the column in sample_location containing the column values of the samples.\n",
    "        plate_name(string): Name of the column in sample_location containing the column values of the\n",
    "        plate location.\n",
    "    '''\n",
    "    temp = []\n",
    "    plate_temp = []\n",
    "    x = sample_location[x_name]\n",
    "    y = sample_location[y_name]\n",
    "    p = sample_location[plate_name]\n",
    "    for i in range(len(sample_location)):\n",
    "        temp_well = []\n",
    "        plate_well_temp = []\n",
    "        for frame in frames:\n",
    "            temp_well.append(centikelvin_to_celsius(frame[x[i]][y[i]]))\n",
    "            plate_well_temp.append(centikelvin_to_celsius(frame[x[i]][p[i]]))\n",
    "        temp.append(temp_well)\n",
    "        plate_temp.append(plate_well_temp)\n",
    "    return temp,plate_temp"
   ]
  },
  {
   "cell_type": "code",
   "execution_count": 50,
   "metadata": {},
   "outputs": [],
   "source": [
    "pixel_sample,pixel_plate = pixel_intensity(well_location, pixel_frames, 'X','Y','plate_location')"
   ]
  },
  {
   "cell_type": "code",
   "execution_count": 53,
   "metadata": {},
   "outputs": [
    {
     "data": {
      "text/plain": [
       "list"
      ]
     },
     "execution_count": 53,
     "metadata": {},
     "output_type": "execute_result"
    }
   ],
   "source": [
    "type(pixel_sample)"
   ]
  },
  {
   "cell_type": "code",
   "execution_count": 51,
   "metadata": {},
   "outputs": [
    {
     "data": {
      "text/plain": [
       "96"
      ]
     },
     "execution_count": 51,
     "metadata": {},
     "output_type": "execute_result"
    }
   ],
   "source": [
    "len(pixel_sample)"
   ]
  },
  {
   "cell_type": "code",
   "execution_count": 52,
   "metadata": {},
   "outputs": [
    {
     "data": {
      "text/plain": [
       "6668"
      ]
     },
     "execution_count": 52,
     "metadata": {},
     "output_type": "execute_result"
    }
   ],
   "source": [
    "len(pixel_sample[1])"
   ]
  },
  {
   "cell_type": "code",
   "execution_count": null,
   "metadata": {},
   "outputs": [],
   "source": [
    "len(pixel_plate)"
   ]
  },
  {
   "cell_type": "code",
   "execution_count": null,
   "metadata": {},
   "outputs": [],
   "source": [
    "len(pixel_plate[1])"
   ]
  },
  {
   "cell_type": "code",
   "execution_count": null,
   "metadata": {},
   "outputs": [],
   "source": []
  }
 ],
 "metadata": {
  "kernelspec": {
   "display_name": "Python 3",
   "language": "python",
   "name": "python3"
  },
  "language_info": {
   "codemirror_mode": {
    "name": "ipython",
    "version": 3
   },
   "file_extension": ".py",
   "mimetype": "text/x-python",
   "name": "python",
   "nbconvert_exporter": "python",
   "pygments_lexer": "ipython3",
   "version": "3.6.8"
  }
 },
 "nbformat": 4,
 "nbformat_minor": 2
}
