{
 "cells": [
  {
   "cell_type": "code",
   "execution_count": 2,
   "metadata": {},
   "outputs": [],
   "source": [
    "from sklearn.cluster import KMeans\n",
    "import random\n",
    "import numpy as np\n",
    "import pandas as pd\n",
    "import matplotlib.pyplot as plt\n",
    "from scipy.optimize import fsolve"
   ]
  },
  {
   "cell_type": "markdown",
   "metadata": {},
   "source": [
    "### This code will produce arbitrary samples of binary deep eutectic solvents, taking the minimum and maximum mole fractions of each component, number of samples desired to make, and number of trials for the k-means clustering (should be much greater than the number of samples desired to produce). This can easily be modified for ternary deep eutectic solvents. "
   ]
  },
  {
   "cell_type": "code",
   "execution_count": 3,
   "metadata": {},
   "outputs": [],
   "source": [
    "def Binary_DES_Generator(min_QAS, min_HBD, max_QAS, max_HBD, samples, trials):\n",
    "    \n",
    "    #The minimum mole fractions of each component.\n",
    "    lower_bounds = np.array([min_QAS, min_HBD])\n",
    "    \n",
    "    #The maximum mole fractions of each component. \n",
    "    upper_bounds = np.array([max_QAS, max_HBD])\n",
    "\n",
    "    #Generating random DES compositions within the design contraints, mole fractions of each composition must = 1. \n",
    "    DES_trials = np.random.rand(trials*20,2)\n",
    "    DES_trials = DES_trials*(upper_bounds-lower_bounds)+lower_bounds\n",
    "\n",
    "    #Adding mole fractions of each component in the random trial. \n",
    "    mole_sum = np.sum(DES_trials, axis=1)\n",
    "    \n",
    "    #Divide each component by the sum of all components to obtain compositions whose mole fractions =1. \n",
    "    DES_samples = DES_trials/mole_sum[:,None]\n",
    "    \n",
    "    #This normalization may still lead to compositions that do not satisfy the constraint \n",
    "    \n",
    "    #isolating compositions that do not meet upper bound contraints\n",
    "    upper_check = DES_samples>upper_bounds\n",
    "    \n",
    "    #isolating compositions that do not meet upper bound contraints\n",
    "    lower_check = DES_samples<lower_bounds\n",
    "    \n",
    "    #Combine all checks, compositions not meeting constraints will be removed\n",
    "    combined_check = np.append(upper_check, lower_check, axis=1)\n",
    "\n",
    "    #compositions that have no violations are added to SafeList \n",
    "    SafeList = np.any(combined_check, axis=1)\n",
    "\n",
    "    #compositions violating constraints are added to DeleteList\n",
    "    DeleteList = ~SafeList\n",
    "\n",
    "    \n",
    "    Feasible_DES_samples = DES_samples[DeleteList,:]\n",
    "    print(\" \"+str(len(Feasible_DES_samples))+\" feasible DES samples generated, clustered into \"+str(samples)+\" samples\")\n",
    "\n",
    "    #Apply K-means clustering to DES samples\n",
    "    #Number of Clusters = Final desired samples\n",
    "    kmeans = KMeans(n_clusters=samples, random_state=0).fit(Feasible_DES_samples)\n",
    "    \n",
    "    \n",
    "    DES_Centroids = kmeans.cluster_centers_\n",
    "\n",
    "    return(DES_Centroids)\n",
    "\n"
   ]
  },
  {
   "cell_type": "markdown",
   "metadata": {},
   "source": [
    "## Generalized"
   ]
  },
  {
   "cell_type": "code",
   "execution_count": 4,
   "metadata": {},
   "outputs": [],
   "source": [
    "def Gen_Binary_DES_Generator(min_comps, max_comps, samples, trials):\n",
    "    \n",
    "    #The minimum mole fractions of each component.\n",
    "    lower_bounds = np.array(min_comps)\n",
    "    \n",
    "    #The maximum mole fractions of each component. \n",
    "    upper_bounds = np.array(max_comps)\n",
    "\n",
    "    #Generating random DES compositions within the design contraints, mole fractions of each composition must = 1. \n",
    "    DES_trials = np.random.rand(trials*20,2)\n",
    "    DES_trials = DES_trials*(upper_bounds-lower_bounds)+lower_bounds\n",
    "\n",
    "    #Adding mole fractions of each component in the random trial. \n",
    "    mole_sum = np.sum(DES_trials, axis=1)\n",
    "    \n",
    "    #Divide each component by the sum of all components to obtain compositions whose mole fractions =1. \n",
    "    DES_samples = DES_trials/mole_sum[:,None]\n",
    "    \n",
    "    #This normalization may still lead to compositions that do not satisfy the constraint \n",
    "    \n",
    "    #isolating compositions that do not meet upper bound contraints\n",
    "    upper_check = DES_samples>upper_bounds\n",
    "    \n",
    "    #isolating compositions that do not meet upper bound contraints\n",
    "    lower_check = DES_samples<lower_bounds\n",
    "    \n",
    "    #Combine all checks, compositions not meeting constraints will be removed\n",
    "    combined_check = np.append(upper_check, lower_check, axis=1)\n",
    "\n",
    "    #compositions that have no violations are added to SafeList \n",
    "    SafeList = np.any(combined_check, axis=1)\n",
    "\n",
    "    #compositions violating constraints are added to DeleteList\n",
    "    DeleteList = ~SafeList\n",
    "\n",
    "    \n",
    "    Feasible_DES_samples = DES_samples[DeleteList,:]\n",
    "    print(\" \"+str(len(Feasible_DES_samples))+\" feasible DES samples generated, clustered into \"+str(samples)+\" samples\")\n",
    "\n",
    "    #Apply K-means clustering to DES samples\n",
    "    #Number of Clusters = Final desired samples\n",
    "    kmeans = KMeans(n_clusters=samples, random_state=0).fit(Feasible_DES_samples)\n",
    "    \n",
    "    \n",
    "    DES_Centroids = kmeans.cluster_centers_\n",
    "\n",
    "    return(DES_Centroids)"
   ]
  },
  {
   "cell_type": "markdown",
   "metadata": {},
   "source": [
    "### Generate binary DES with lower mole fractions of 0.2, 0.3 (QAS, HBD) and upper mole fractions of 0.7, 0.8 (QAS, HBD). Produce 96 samples with 192 trials for the clustering."
   ]
  },
  {
   "cell_type": "code",
   "execution_count": 15,
   "metadata": {},
   "outputs": [
    {
     "name": "stdout",
     "output_type": "stream",
     "text": [
      " 3840 feasible DES samples generated, clustered into 96 samples\n"
     ]
    }
   ],
   "source": [
    "DES_molfrac= Binary_DES_Generator(0.2, 0.3, 0.7, 0.8, 96, 192)"
   ]
  },
  {
   "cell_type": "markdown",
   "metadata": {},
   "source": [
    "### May also save the output as a variable. Note you will get different mole fractions each time so be sure to keep track if you need them."
   ]
  },
  {
   "cell_type": "code",
   "execution_count": 6,
   "metadata": {},
   "outputs": [
    {
     "name": "stdout",
     "output_type": "stream",
     "text": [
      " 3798 feasible DES samples generated, clustered into 96 samples\n"
     ]
    }
   ],
   "source": [
    "A = Binary_DES_Generator(0.3, 0.3, 0.7, 0.8, 96, 192)\n",
    "# A "
   ]
  },
  {
   "cell_type": "markdown",
   "metadata": {},
   "source": [
    "### The next function will combine the previous function with code to convert mole fractions to a list of lists of volumes that can be directly inputed into code for sample preparation in a pipetting robot (OT-2)."
   ]
  },
  {
   "cell_type": "code",
   "execution_count": 7,
   "metadata": {},
   "outputs": [],
   "source": [
    "def convert_mole_fractions_to_volumes(stock_QAS, stock_HBD, min_QAS, min_HBD, max_QAS, max_HBD, samples, trials):\n",
    "    QAS = [] # empty list to append calculated volumes in microL\n",
    "    HBD = []\n",
    "    DES_mole_fractions = Binary_DES_Generator(min_QAS, min_HBD, max_QAS, max_HBD, samples, trials)\n",
    "    for row in DES_mole_fractions: \n",
    "        def f(x) :\n",
    "            y = np.zeros(np.size(x))                                                                           \n",
    "            y[0] = x[0] + x[1] - 125  #input desired volume                                                                   \n",
    "            y[1] = ((stock_QAS*x[0])/((stock_QAS*x[0]) + (stock_HBD*x[1]))) - row[0]\n",
    "            y[2] = ((stock_HBD*x[1])/((stock_QAS*x[0]) + (stock_HBD*x[1]))) - row[1]\n",
    "            return y\n",
    "        x0 = np.array([100.0, 100.0, 100.0])  \n",
    "        x = fsolve(f, x0)\n",
    "        QAS.append(x[0])\n",
    "        HBD.append(x[1])\n",
    "        volumes = [QAS,HBD]\n",
    "\n",
    "    return(volumes)"
   ]
  },
  {
   "cell_type": "code",
   "execution_count": 14,
   "metadata": {},
   "outputs": [
    {
     "ename": "NameError",
     "evalue": "name 'min_QAS' is not defined",
     "output_type": "error",
     "traceback": [
      "\u001b[1;31m---------------------------------------------------------------------------\u001b[0m",
      "\u001b[1;31mNameError\u001b[0m                                 Traceback (most recent call last)",
      "\u001b[1;32m<ipython-input-14-caa348edcfbe>\u001b[0m in \u001b[0;36m<module>\u001b[1;34m\u001b[0m\n\u001b[1;32m----> 1\u001b[1;33m \u001b[0mDES_molfrac\u001b[0m \u001b[1;33m=\u001b[0m \u001b[0mBinary_DES_Generator\u001b[0m\u001b[1;33m(\u001b[0m\u001b[0mmin_QAS\u001b[0m\u001b[1;33m,\u001b[0m \u001b[0mmin_HBD\u001b[0m\u001b[1;33m,\u001b[0m \u001b[0mmax_QAS\u001b[0m\u001b[1;33m,\u001b[0m \u001b[0mmax_HBD\u001b[0m\u001b[1;33m,\u001b[0m \u001b[0msamples\u001b[0m\u001b[1;33m,\u001b[0m \u001b[0mtrials\u001b[0m\u001b[1;33m)\u001b[0m\u001b[1;33m\u001b[0m\u001b[1;33m\u001b[0m\u001b[0m\n\u001b[0m",
      "\u001b[1;31mNameError\u001b[0m: name 'min_QAS' is not defined"
     ]
    }
   ],
   "source": [
    "    DES_molfrac = Binary_DES_Generator(min_QAS, min_HBD, max_QAS, max_HBD, samples, trials)\n"
   ]
  },
  {
   "cell_type": "markdown",
   "metadata": {},
   "source": [
    "## Generalized conversion to volumes"
   ]
  },
  {
   "cell_type": "code",
   "execution_count": 16,
   "metadata": {},
   "outputs": [
    {
     "data": {
      "text/plain": [
       "96"
      ]
     },
     "execution_count": 16,
     "metadata": {},
     "output_type": "execute_result"
    }
   ],
   "source": [
    "len(DES_molfrac)"
   ]
  },
  {
   "cell_type": "code",
   "execution_count": 21,
   "metadata": {},
   "outputs": [
    {
     "name": "stdout",
     "output_type": "stream",
     "text": [
      " 4000 feasible DES samples generated, clustered into 10 samples\n",
      "finvol is [[73.60190978 76.39809022]\n",
      " [86.39044416 63.60955584]\n",
      " [59.16303714 90.83696286]\n",
      " [80.30776567 69.69223433]\n",
      " [65.03933234 84.96066766]\n",
      " [69.46016573 80.53983427]\n",
      " [89.56735151 60.43264849]\n",
      " [51.32643411 98.67356589]\n",
      " [83.40563463 66.59436537]\n",
      " [77.08195637 72.91804363]]\n",
      "2\n"
     ]
    }
   ],
   "source": [
    "samples = 10\n",
    "volume = 150 \n",
    "stock = [2,4]\n",
    "number = len(stock)\n",
    "\n",
    "\n",
    "size = (samples, number)\n",
    "finvol = np.zeros(size)\n",
    "\n",
    "stock_QAS = 2\n",
    "stock_HBD = 4\n",
    "DES_mole_fractions = Binary_DES_Generator(.2, .2, .8, .8, samples, 200)\n",
    "\n",
    "count = 0\n",
    "for row in DES_mole_fractions: \n",
    "    def f(x):\n",
    "        for i in range(number):\n",
    "            total = []\n",
    "            place = stock[i]*x[i]\n",
    "            total.append(place)\n",
    "        total = sum(total)\n",
    "        y = np.zeros(np.size(x))                                                                           \n",
    "        y[0] = x[0] + x[1] - volume                                                                   \n",
    "        for i in range(number-1):\n",
    "            y[i+1] = (((stock[i])*x[i])/(total)) - row[i]\n",
    "        return y\n",
    "    x0 = np.array([100.0, 100.0, 100.0])  \n",
    "    x = fsolve(f, x0)\n",
    "    for i in range(number):\n",
    "        finvol[count, i] = x[i]\n",
    "    count = count + 1\n",
    "\n",
    "print(\"finvol is\", finvol)\n",
    "number = len(finvol[0])\n",
    "print(number)"
   ]
  },
  {
   "cell_type": "markdown",
   "metadata": {},
   "source": [
    "### Generalized"
   ]
  },
  {
   "cell_type": "markdown",
   "metadata": {},
   "source": [
    "## Converting to Opentrons copyable"
   ]
  },
  {
   "cell_type": "code",
   "execution_count": 22,
   "metadata": {},
   "outputs": [
    {
     "ename": "AttributeError",
     "evalue": "'list' object has no attribute 'type'",
     "output_type": "error",
     "traceback": [
      "\u001b[1;31m---------------------------------------------------------------------------\u001b[0m",
      "\u001b[1;31mAttributeError\u001b[0m                            Traceback (most recent call last)",
      "\u001b[1;32m<ipython-input-22-14ee63b02c68>\u001b[0m in \u001b[0;36m<module>\u001b[1;34m\u001b[0m\n\u001b[0;32m      9\u001b[0m     \u001b[0msepvol\u001b[0m\u001b[1;33m.\u001b[0m\u001b[0mappend\u001b[0m\u001b[1;33m(\u001b[0m\u001b[0mstring\u001b[0m\u001b[1;33m)\u001b[0m\u001b[1;33m\u001b[0m\u001b[1;33m\u001b[0m\u001b[0m\n\u001b[0;32m     10\u001b[0m \u001b[1;33m\u001b[0m\u001b[0m\n\u001b[1;32m---> 11\u001b[1;33m \u001b[0msepvol\u001b[0m\u001b[1;33m.\u001b[0m\u001b[0mtype\u001b[0m\u001b[1;33m(\u001b[0m\u001b[1;33m)\u001b[0m\u001b[1;33m\u001b[0m\u001b[1;33m\u001b[0m\u001b[0m\n\u001b[0m",
      "\u001b[1;31mAttributeError\u001b[0m: 'list' object has no attribute 'type'"
     ]
    }
   ],
   "source": [
    "sepvol = []\n",
    "\n",
    "for i in range(number):\n",
    "    string = \"comp\" + str(i)\n",
    "    string = []\n",
    "    for row in finvol:\n",
    "        hold = row[i]\n",
    "        string.append(hold)\n",
    "    sepvol.append(string)\n",
    "\n",
    "sepvol.type()"
   ]
  },
  {
   "cell_type": "markdown",
   "metadata": {},
   "source": [
    "### Alternatively, you could use this next function if you already have a list you want to convert (as before when we saved the output of the des mole fractions)"
   ]
  },
  {
   "cell_type": "code",
   "execution_count": 11,
   "metadata": {},
   "outputs": [],
   "source": [
    "def convert_mole_fractions_to_volumes_2(DES_mole_fractions, stock_QAS, stock_HBD):\n",
    "    QAS = [] # empty list to append calculated volumes in microL\n",
    "    HBD = []\n",
    "    for row in DES_mole_fractions: \n",
    "        def f(x) :\n",
    "            y = np.zeros(np.size(x))                                                                           \n",
    "            y[0] = x[0] + x[1] - 150  #input desired volume                                                                   \n",
    "            y[1] = ((stock_QAS*x[0])/((stock_QAS*x[0]) + (stock_HBD*x[1]))) - row[0]\n",
    "            y[2] = ((stock_HBD*x[1])/((stock_QAS*x[0]) + (stock_HBD*x[1]))) - row[1]\n",
    "            return y\n",
    "        x0 = np.array([100.0, 100.0, 100.0])                                        \n",
    "        x = fsolve(f, x0)\n",
    "        QAS.append(x[0])\n",
    "        HBD.append(x[1])\n",
    "        volumes = [QAS,HBD]\n",
    "\n",
    "    return(volumes)"
   ]
  },
  {
   "cell_type": "code",
   "execution_count": 12,
   "metadata": {},
   "outputs": [
    {
     "data": {
      "text/plain": [
       "[[50.37813191068493,\n",
       "  69.8743078602248,\n",
       "  38.8337827761865,\n",
       "  58.93897614454336,\n",
       "  80.48455343512126,\n",
       "  44.15645306941992,\n",
       "  63.04142567854789,\n",
       "  54.43997097718037,\n",
       "  84.64882277069829,\n",
       "  74.94087560275959,\n",
       "  34.90974621258966,\n",
       "  47.41323894896303,\n",
       "  66.05067004968399,\n",
       "  41.39644819398069,\n",
       "  56.330013058789774,\n",
       "  77.5871318135321,\n",
       "  61.211996595146076,\n",
       "  52.1597834935777,\n",
       "  89.3508409827377,\n",
       "  36.999788552109294,\n",
       "  67.85769672228446,\n",
       "  48.17121583667832,\n",
       "  72.92446587921062,\n",
       "  45.07251170141245,\n",
       "  46.36132502314877,\n",
       "  64.39463694552583,\n",
       "  57.466482270832905,\n",
       "  42.94560134923387,\n",
       "  52.967361461769855,\n",
       "  81.78623271753477,\n",
       "  40.31645960367188,\n",
       "  60.03094335339014,\n",
       "  78.92870155469258,\n",
       "  71.44919290222474,\n",
       "  34.26440692694148,\n",
       "  55.350452392555816,\n",
       "  62.442061971394416,\n",
       "  49.05377350402926,\n",
       "  53.989395547798324,\n",
       "  76.25958585567928,\n",
       "  85.7899115297591,\n",
       "  65.47074950213768,\n",
       "  51.26830506720621,\n",
       "  68.40707017600195,\n",
       "  37.90070017935406,\n",
       "  36.110559806212045,\n",
       "  73.536271953554,\n",
       "  70.668637145587,\n",
       "  46.8778728845147,\n",
       "  41.8760781937268,\n",
       "  66.56884192513333,\n",
       "  63.490944205996314,\n",
       "  83.50029548391026,\n",
       "  45.968054945938334,\n",
       "  88.31186398665336,\n",
       "  78.25049512895853,\n",
       "  40.881831767880506,\n",
       "  53.433060646318566,\n",
       "  58.459688563547644,\n",
       "  69.13953767707042,\n",
       "  39.51603785392975,\n",
       "  76.90541764575518,\n",
       "  72.18911936636827,\n",
       "  60.65832780712783,\n",
       "  59.45257066938875,\n",
       "  50.911481499980624,\n",
       "  43.66224083268919,\n",
       "  67.12588761706174,\n",
       "  49.97642873461992,\n",
       "  56.98292652881503,\n",
       "  90.5230137851345,\n",
       "  64.89242900048602,\n",
       "  33.6863004732737,\n",
       "  79.69636825733261,\n",
       "  48.60826743805612,\n",
       "  45.5411695165059,\n",
       "  61.78661984989975,\n",
       "  55.81822971426333,\n",
       "  51.717124099030485,\n",
       "  44.56875709925201,\n",
       "  87.09263989485525,\n",
       "  81.12084432230482,\n",
       "  75.59812676653877,\n",
       "  42.41339298433682,\n",
       "  47.814626212369745,\n",
       "  58.027444351123016,\n",
       "  38.26040642962343,\n",
       "  54.90135925555554,\n",
       "  49.48391645430552,\n",
       "  52.54588710048379,\n",
       "  36.56970171625216,\n",
       "  82.57101088609667,\n",
       "  37.49312843390132,\n",
       "  63.92928757638122,\n",
       "  74.22211185990398,\n",
       "  35.590297347205514],\n",
       " [99.62186808931509,\n",
       "  80.12569213977521,\n",
       "  111.1662172238135,\n",
       "  91.06102385545665,\n",
       "  69.51544656487876,\n",
       "  105.84354693058008,\n",
       "  86.9585743214521,\n",
       "  95.56002902281962,\n",
       "  65.3511772293017,\n",
       "  75.05912439724041,\n",
       "  115.09025378741033,\n",
       "  102.58676105103696,\n",
       "  83.949329950316,\n",
       "  108.60355180601933,\n",
       "  93.66998694121024,\n",
       "  72.4128681864679,\n",
       "  88.78800340485391,\n",
       "  97.84021650642228,\n",
       "  60.6491590172623,\n",
       "  113.00021144789072,\n",
       "  82.14230327771556,\n",
       "  101.82878416332169,\n",
       "  77.0755341207894,\n",
       "  104.92748829858755,\n",
       "  103.63867497685123,\n",
       "  85.60536305447418,\n",
       "  92.53351772916709,\n",
       "  107.05439865076613,\n",
       "  97.03263853823015,\n",
       "  68.21376728246523,\n",
       "  109.68354039632811,\n",
       "  89.96905664660984,\n",
       "  71.07129844530742,\n",
       "  78.55080709777526,\n",
       "  115.73559307305854,\n",
       "  94.64954760744419,\n",
       "  87.55793802860558,\n",
       "  100.94622649597073,\n",
       "  96.01060445220169,\n",
       "  73.74041414432072,\n",
       "  64.2100884702409,\n",
       "  84.52925049786234,\n",
       "  98.73169493279377,\n",
       "  81.59292982399805,\n",
       "  112.09929982064595,\n",
       "  113.88944019378795,\n",
       "  76.463728046446,\n",
       "  79.331362854413,\n",
       "  103.1221271154853,\n",
       "  108.12392180627322,\n",
       "  83.43115807486667,\n",
       "  86.50905579400367,\n",
       "  66.49970451608974,\n",
       "  104.03194505406168,\n",
       "  61.68813601334662,\n",
       "  71.74950487104145,\n",
       "  109.1181682321195,\n",
       "  96.56693935368143,\n",
       "  91.54031143645237,\n",
       "  80.86046232292958,\n",
       "  110.48396214607024,\n",
       "  73.09458235424484,\n",
       "  77.81088063363174,\n",
       "  89.34167219287215,\n",
       "  90.54742933061124,\n",
       "  99.08851850001938,\n",
       "  106.3377591673108,\n",
       "  82.87411238293825,\n",
       "  100.02357126538008,\n",
       "  93.01707347118497,\n",
       "  59.47698621486549,\n",
       "  85.10757099951397,\n",
       "  116.3136995267263,\n",
       "  70.30363174266738,\n",
       "  101.39173256194388,\n",
       "  104.45883048349411,\n",
       "  88.21338015010025,\n",
       "  94.18177028573666,\n",
       "  98.2828759009695,\n",
       "  105.43124290074799,\n",
       "  62.907360105144754,\n",
       "  68.87915567769518,\n",
       "  74.40187323346123,\n",
       "  107.58660701566316,\n",
       "  102.18537378763025,\n",
       "  91.97255564887698,\n",
       "  111.73959357037656,\n",
       "  95.09864074444445,\n",
       "  100.5160835456945,\n",
       "  97.45411289951622,\n",
       "  113.43029828374783,\n",
       "  67.42898911390334,\n",
       "  112.50687156609868,\n",
       "  86.07071242361877,\n",
       "  75.77788814009601,\n",
       "  114.40970265279446]]"
      ]
     },
     "execution_count": 12,
     "metadata": {},
     "output_type": "execute_result"
    }
   ],
   "source": [
    "convert_mole_fractions_to_volumes_2(A, 3, 2)"
   ]
  },
  {
   "cell_type": "markdown",
   "metadata": {},
   "source": [
    "### This code can be used to produce binary DES from the list of volumes and cocnentrated stock solutions of your components. Capable of switching between two different pipettes, but modify as necessary. Code is originally from Newcastle IGEM at Newcastle University, github can be found here https://github.com/jbird1223/Newcastle-iGEM"
   ]
  },
  {
   "cell_type": "code",
   "execution_count": 13,
   "metadata": {},
   "outputs": [
    {
     "ename": "ModuleNotFoundError",
     "evalue": "No module named 'opentrons'",
     "output_type": "error",
     "traceback": [
      "\u001b[1;31m---------------------------------------------------------------------------\u001b[0m",
      "\u001b[1;31mModuleNotFoundError\u001b[0m                       Traceback (most recent call last)",
      "\u001b[1;32m<ipython-input-13-dc87e5573b82>\u001b[0m in \u001b[0;36m<module>\u001b[1;34m\u001b[0m\n\u001b[1;32m----> 1\u001b[1;33m \u001b[1;32mfrom\u001b[0m \u001b[0mopentrons\u001b[0m \u001b[1;32mimport\u001b[0m \u001b[0mlabware\u001b[0m\u001b[1;33m,\u001b[0m \u001b[0minstruments\u001b[0m\u001b[1;33m,\u001b[0m \u001b[0mrobot\u001b[0m\u001b[1;33m\u001b[0m\u001b[1;33m\u001b[0m\u001b[0m\n\u001b[0m\u001b[0;32m      2\u001b[0m \u001b[1;32mfrom\u001b[0m \u001b[0msqlite3\u001b[0m \u001b[1;32mimport\u001b[0m \u001b[0mIntegrityError\u001b[0m\u001b[1;33m\u001b[0m\u001b[1;33m\u001b[0m\u001b[0m\n\u001b[0;32m      3\u001b[0m \u001b[0mrobot\u001b[0m\u001b[1;33m.\u001b[0m\u001b[0mreset\u001b[0m\u001b[1;33m(\u001b[0m\u001b[1;33m)\u001b[0m \u001b[1;31m#remove this when uplaoding code to robot\u001b[0m\u001b[1;33m\u001b[0m\u001b[1;33m\u001b[0m\u001b[0m\n\u001b[0;32m      4\u001b[0m \u001b[1;33m\u001b[0m\u001b[0m\n\u001b[0;32m      5\u001b[0m \u001b[1;31m#####################################################################################################################################################\u001b[0m\u001b[1;33m\u001b[0m\u001b[1;33m\u001b[0m\u001b[1;33m\u001b[0m\u001b[0m\n",
      "\u001b[1;31mModuleNotFoundError\u001b[0m: No module named 'opentrons'"
     ]
    }
   ],
   "source": [
    "from opentrons import labware, instruments, robot\n",
    "from sqlite3 import IntegrityError\n",
    "robot.reset() #remove this when uplaoding code to robot\n",
    "\n",
    "#####################################################################################################################################################\n",
    "#####################################################################################################################################################\t\t\n",
    "\n",
    "# Import Labware\n",
    "\n",
    "tiprack_300 = labware.load(\"opentrons-tiprack-300ul\", '1')      \n",
    "tiprack_1000 = labware.load(\"tiprack-1000ul\", '4')                \n",
    "Stock1 = labware.load(\"opentrons-tuberack-15ml\", '2')                                           \n",
    "wellplate_96 = labware.load(\"96-flat\", '3')\n",
    "trash = robot.fixed_trash\n",
    "\n",
    "#####################################################################################################################################################\n",
    "#####################################################################################################################################################\n",
    "\n",
    "# Import Pipettes\n",
    "\n",
    "P1000 = instruments.P1000_Single(\n",
    "    mount = 'right',\n",
    "    tip_racks = [tiprack_1000],\n",
    "    trash_container = trash\n",
    ")\n",
    "\n",
    "P300 = instruments.P300_Single(\n",
    "    mount='left',\n",
    "    tip_racks=[tiprack_300],\n",
    "    trash_container=trash \n",
    ")\n",
    "\n",
    "#####################################################################################################################################################\n",
    "#####################################################################################################################################################\n",
    "\n",
    "#Insert DES Generator here. \n",
    "\n",
    "reagents1 = convert_mole_fractions_to_volumes(3, 4, 0.3, 0.2, 0.8, 0.7, 96, 192 )\n",
    "\n",
    "reagent_pos1 = ['A1', 'A3']\n",
    "\n",
    "\n",
    "\n",
    "#####################################################################################################################################################\n",
    "#####################################################################################################################################################\n",
    "# STOCK LABWARE 1\n",
    "\n",
    "robot.home()                                                    # Homes robot and prevents any pipette bugs \n",
    "for counter, reagent in enumerate(reagents1,0):\n",
    "                                                                # These objects are temporary and will only exist within this loop\n",
    "    source      = reagent_pos1[counter]                         # Counter is use to index an independent list (e.g. reagent_pos)\n",
    "    P1000list   = [source]                                      # This is then added to both list - used in testing \t\t\t\t\n",
    "    P300listn   = [source]\n",
    "\n",
    "\n",
    "    P300.pick_up_tip()                                          # Picks up pipette tip for both P10 and P300 to allow to alternate\n",
    "    P1000.pick_up_tip()\n",
    "    for well_counter, values in enumerate(reagent):             # Specifies the well position and the volume of reagent being \n",
    "        if values == float(0):                                  # If volume is 0, well is skipped  \n",
    "            pass\n",
    "        elif values < float(300):\n",
    "            P300.distribute(                                     # If volume below 300, P300 used not p1000. Greater than 300 P1000 is used.\n",
    "                values, \n",
    "                Stock1(source), \n",
    "                wellplate_96(well_counter).top(0.5),          # Prevents submerging tip in solution, not completely sterile, but beneficial\n",
    "                blow_out=True,                                  # Removes excess from tip\n",
    "                rate=1,                                         # How quick it aspirates/dispenses, lower (ie 0.5) if stock viscous\n",
    "                new_tip='never')\n",
    "            P300.touch_tip(wellplate_96(well_counter))         # Touches tip to remove any droplets\n",
    "            P300.blow_out(wellplate_96(well_counter))\n",
    "        else: \n",
    "            P1000.distribute(\n",
    "                values, \n",
    "                Stock1(source), \n",
    "                wellplate_96(well_counter).top(0.5),\n",
    "                blow_out=True,\n",
    "                rate=1,\n",
    "                new_tip='never')\n",
    "            P1000.touch_tip(wellplate_96(well_counter))\n",
    "            P1000.blow_out(wellplate_96(well_counter))\n",
    "    P1000.drop_tip()\n",
    "    P300.drop_tip()\n",
    "\n",
    "for c in robot.commands(): # remove this when uploading code to robot\n",
    "     print(c)\n"
   ]
  },
  {
   "cell_type": "code",
   "execution_count": null,
   "metadata": {},
   "outputs": [],
   "source": []
  },
  {
   "cell_type": "code",
   "execution_count": null,
   "metadata": {},
   "outputs": [],
   "source": []
  },
  {
   "cell_type": "code",
   "execution_count": null,
   "metadata": {},
   "outputs": [],
   "source": []
  },
  {
   "cell_type": "code",
   "execution_count": null,
   "metadata": {},
   "outputs": [],
   "source": []
  }
 ],
 "metadata": {
  "kernelspec": {
   "display_name": "Python 3",
   "language": "python",
   "name": "python3"
  },
  "language_info": {
   "codemirror_mode": {
    "name": "ipython",
    "version": 3
   },
   "file_extension": ".py",
   "mimetype": "text/x-python",
   "name": "python",
   "nbconvert_exporter": "python",
   "pygments_lexer": "ipython3",
   "version": "3.7.3"
  }
 },
 "nbformat": 4,
 "nbformat_minor": 2
}
