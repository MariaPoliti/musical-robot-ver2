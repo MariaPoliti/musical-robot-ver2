{
 "cells": [
  {
   "cell_type": "code",
   "execution_count": 15,
   "metadata": {},
   "outputs": [],
   "source": [
    "import pandas as pd\n",
    "import matplotlib.pyplot as plt\n",
    "from skimage import io\n",
    "import numpy as np\n",
    "\n",
    "from PIL import Image, ImageFilter"
   ]
  },
  {
   "cell_type": "markdown",
   "metadata": {},
   "source": [
    "# Preprocessing Functions\n",
    "These functions will modify the frames of the video image in order to separate each well into a different image that can be investigated and not cause interference between reading each well. \n",
    "\n",
    "# Try using the test lepton images - convert to array and section off there \n",
    "    * forced to lock in postiton to ensure that it doesn't move"
   ]
  },
  {
   "cell_type": "markdown",
   "metadata": {},
   "source": [
    "# Inputs for all functions\n",
    "\n",
    "* until we obtain a frame from a video as a test image - I will be using a set of drawn well plates with varying degrees of tilt to test the boundry definition and tiling. "
   ]
  },
  {
   "cell_type": "code",
   "execution_count": 7,
   "metadata": {},
   "outputs": [
    {
     "data": {
      "text/plain": [
       "array([[29993, 29984, 29966, ..., 29912, 29906, 29914],\n",
       "       [30001, 29976, 29972, ..., 29914, 29923, 29929],\n",
       "       [29982, 29974, 29982, ..., 29916, 29906, 29933],\n",
       "       ...,\n",
       "       [30113, 30062, 30068, ..., 29862, 29891, 29893],\n",
       "       [30093, 30068, 30081, ..., 29875, 29873, 29902],\n",
       "       [30087, 30077, 30066, ..., 29877, 29870, 29896]], dtype=uint16)"
      ]
     },
     "execution_count": 7,
     "metadata": {},
     "output_type": "execute_result"
    }
   ],
   "source": [
    "#image = Image.open('../doc/Wellplatedrawn_cropman.png') \n",
    "image2 = io.imread('../doc/Lepton_Capture.tiff')\n",
    "image2[0]"
   ]
  },
  {
   "cell_type": "markdown",
   "metadata": {},
   "source": [
    "## Preprocessing 1: Boundry definition\n",
    "This will cut out the well plate from the background of the frame - the well plate dimensions should not change so no further modifications will be needed to ensure the cuts are in the correct places. "
   ]
  },
  {
   "cell_type": "code",
   "execution_count": null,
   "metadata": {},
   "outputs": [],
   "source": []
  },
  {
   "cell_type": "markdown",
   "metadata": {},
   "source": [
    "## Preprocessing 2: Tiling each well into a seperate image\n",
    "In order to ensure that there is not temperature spill over from other frames we will tile the single frame in to 96 separate images - this will allow each frame to be read as 96 individual temperatures. "
   ]
  },
  {
   "cell_type": "markdown",
   "metadata": {},
   "source": [
    "#### Steps\n",
    "* Assign data to each image (image number running left to right then wrapping to begining/ frame data (if available)/ temp (when recieved))\n",
    "* Stack images into an array that describes the entire frame\n",
    "* Loads stacked images into arrays (?)\n",
    "* Wrapper for all functions"
   ]
  },
  {
   "cell_type": "markdown",
   "metadata": {},
   "source": [
    "### Finding data about the image"
   ]
  },
  {
   "cell_type": "code",
   "execution_count": 93,
   "metadata": {},
   "outputs": [],
   "source": [
    "frames, height, width = image2.shape"
   ]
  },
  {
   "cell_type": "code",
   "execution_count": 50,
   "metadata": {},
   "outputs": [
    {
     "name": "stdout",
     "output_type": "stream",
     "text": [
      "[13.333333333333334, 15.0]\n"
     ]
    }
   ],
   "source": [
    "tilewidth = width/12\n",
    "tileheight = height / 8\n",
    "tilesize = [tilewidth, tileheight]\n",
    "print(tilesize)"
   ]
  },
  {
   "cell_type": "markdown",
   "metadata": {},
   "source": [
    "### Cropping a single image into 96 sections"
   ]
  },
  {
   "cell_type": "code",
   "execution_count": 51,
   "metadata": {},
   "outputs": [
    {
     "ename": "SyntaxError",
     "evalue": "unexpected EOF while parsing (<ipython-input-51-82ad5c853eaa>, line 1)",
     "output_type": "error",
     "traceback": [
      "\u001b[1;36m  File \u001b[1;32m\"<ipython-input-51-82ad5c853eaa>\"\u001b[1;36m, line \u001b[1;32m1\u001b[0m\n\u001b[1;33m    def crop(image, height, width):\u001b[0m\n\u001b[1;37m                                   ^\u001b[0m\n\u001b[1;31mSyntaxError\u001b[0m\u001b[1;31m:\u001b[0m unexpected EOF while parsing\n"
     ]
    }
   ],
   "source": [
    "def crop(image, height, width):\n"
   ]
  },
  {
   "cell_type": "code",
   "execution_count": 54,
   "metadata": {},
   "outputs": [],
   "source": [
    "for i in range(int(height // tileheight)):\n",
    "    for j in range(int(width // tilewidth)):\n",
    "        #print(i,j)\n",
    "        box = (j*tilewidth, i*tileheight, (j+1)*tilewidth, (i+1)*tileheight)\n",
    "        image.crop(box)"
   ]
  },
  {
   "cell_type": "code",
   "execution_count": 55,
   "metadata": {
    "scrolled": true
   },
   "outputs": [
    {
     "data": {
      "image/png": "[encoded data removed]",
      "text/plain": [
       "<PIL.Image.Image image mode=RGBA size=103x102 at 0x294BA721048>"
      ]
     },
     "execution_count": 55,
     "metadata": {},
     "output_type": "execute_result"
    }
   ],
   "source": [
    "image"
   ]
  },
  {
   "cell_type": "markdown",
   "metadata": {},
   "source": [
    "### Saving Image Data "
   ]
  },
  {
   "cell_type": "markdown",
   "metadata": {},
   "source": [
    "### Using Skimage to filter the well plates out from array"
   ]
  },
  {
   "cell_type": "code",
   "execution_count": 298,
   "metadata": {},
   "outputs": [],
   "source": [
    "chosen = image2[0]\n",
    "imarray = np.array(chosen)\n",
    "height, width = chosen.shape"
   ]
  },
  {
   "cell_type": "code",
   "execution_count": 300,
   "metadata": {},
   "outputs": [
    {
     "name": "stdout",
     "output_type": "stream",
     "text": [
      "15 13\n"
     ]
    }
   ],
   "source": [
    "divh = int(height/8) #height of tile \n",
    "divw = int(width/12) #width of tile\n",
    "\n",
    "print(divh, divw)\n",
    "wellh = 8 #number of wells height in 96 well plate\n",
    "wellw = 12 #number of wells width in 96 well plate"
   ]
  },
  {
   "cell_type": "code",
   "execution_count": 301,
   "metadata": {},
   "outputs": [
    {
     "name": "stdout",
     "output_type": "stream",
     "text": [
      "range(0, 8)\n"
     ]
    }
   ],
   "source": [
    "print(range(wellh))"
   ]
  },
  {
   "cell_type": "code",
   "execution_count": 329,
   "metadata": {},
   "outputs": [
    {
     "name": "stdout",
     "output_type": "stream",
     "text": [
      "(8, 12)\n",
      "(8, 12)\n",
      "(8, 12)\n",
      "(8, 12)\n",
      "(8, 12)\n",
      "(8, 12)\n",
      "(8, 12)\n",
      "(8, 12)\n"
     ]
    }
   ],
   "source": [
    "allsplice = np.zeros((wellh, wellw), dtype = object)\n",
    "splice = np.zeros((divh, divw), dtype = object)\n",
    "\n",
    "for i in range(wellh):\n",
    "    for j in range(wellw):\n",
    "        xbeg = divh * j\n",
    "        ybeg = divw * i\n",
    "        for k in range(divh):\n",
    "            for m in range(divw):\n",
    "                rowin = xbeg + k\n",
    "                colin = ybeg + m\n",
    "                #print(rowin, colin)\n",
    "                if rowin >= height:\n",
    "                    rowin = height - 1\n",
    "                else:\n",
    "                    pass\n",
    "                if colin >= width:\n",
    "                    colin = width - 1\n",
    "                else:\n",
    "                    pass\n",
    "                value = imarray[rowin][colin]\n",
    "                splice[k][m] = value\n",
    "        allsplice[i][j] = splice\n",
    "    print(allsplice.shape)"
   ]
  },
  {
   "cell_type": "code",
   "execution_count": 330,
   "metadata": {},
   "outputs": [
    {
     "data": {
      "text/plain": [
       "array([[30325, 30317, 30281, 30263, 30271, 30279, 30319, 30352, 30348,\n",
       "        30374, 30380, 30376, 30416],\n",
       "       [30325, 30317, 30281, 30263, 30271, 30279, 30319, 30352, 30348,\n",
       "        30374, 30380, 30376, 30416],\n",
       "       [30325, 30317, 30281, 30263, 30271, 30279, 30319, 30352, 30348,\n",
       "        30374, 30380, 30376, 30416],\n",
       "       [30325, 30317, 30281, 30263, 30271, 30279, 30319, 30352, 30348,\n",
       "        30374, 30380, 30376, 30416],\n",
       "       [30325, 30317, 30281, 30263, 30271, 30279, 30319, 30352, 30348,\n",
       "        30374, 30380, 30376, 30416],\n",
       "       [30325, 30317, 30281, 30263, 30271, 30279, 30319, 30352, 30348,\n",
       "        30374, 30380, 30376, 30416],\n",
       "       [30325, 30317, 30281, 30263, 30271, 30279, 30319, 30352, 30348,\n",
       "        30374, 30380, 30376, 30416],\n",
       "       [30325, 30317, 30281, 30263, 30271, 30279, 30319, 30352, 30348,\n",
       "        30374, 30380, 30376, 30416],\n",
       "       [30325, 30317, 30281, 30263, 30271, 30279, 30319, 30352, 30348,\n",
       "        30374, 30380, 30376, 30416],\n",
       "       [30325, 30317, 30281, 30263, 30271, 30279, 30319, 30352, 30348,\n",
       "        30374, 30380, 30376, 30416],\n",
       "       [30325, 30317, 30281, 30263, 30271, 30279, 30319, 30352, 30348,\n",
       "        30374, 30380, 30376, 30416],\n",
       "       [30325, 30317, 30281, 30263, 30271, 30279, 30319, 30352, 30348,\n",
       "        30374, 30380, 30376, 30416],\n",
       "       [30325, 30317, 30281, 30263, 30271, 30279, 30319, 30352, 30348,\n",
       "        30374, 30380, 30376, 30416],\n",
       "       [30325, 30317, 30281, 30263, 30271, 30279, 30319, 30352, 30348,\n",
       "        30374, 30380, 30376, 30416],\n",
       "       [30325, 30317, 30281, 30263, 30271, 30279, 30319, 30352, 30348,\n",
       "        30374, 30380, 30376, 30416]], dtype=object)"
      ]
     },
     "execution_count": 330,
     "metadata": {},
     "output_type": "execute_result"
    }
   ],
   "source": [
    "allsplice[5][5]"
   ]
  },
  {
   "cell_type": "code",
   "execution_count": 332,
   "metadata": {},
   "outputs": [
    {
     "data": {
      "text/plain": [
       "array([[0, 0, 0, 0, 0, 0, 0, 0, 0, 0, 0, 0, 0],\n",
       "       [0, 0, 0, 0, 0, 0, 0, 0, 0, 0, 0, 0, 0],\n",
       "       [0, 0, 0, 0, 0, 0, 0, 0, 0, 0, 0, 0, 0],\n",
       "       [0, 0, 0, 0, 0, 0, 0, 0, 0, 0, 0, 0, 0],\n",
       "       [0, 0, 0, 0, 0, 0, 0, 0, 0, 0, 0, 0, 0],\n",
       "       [0, 0, 0, 0, 0, 0, 0, 0, 0, 0, 0, 0, 0],\n",
       "       [0, 0, 0, 0, 0, 0, 0, 0, 0, 0, 0, 0, 0],\n",
       "       [0, 0, 0, 0, 0, 0, 0, 0, 0, 0, 0, 0, 0],\n",
       "       [0, 0, 0, 0, 0, 0, 0, 0, 0, 0, 0, 0, 0],\n",
       "       [0, 0, 0, 0, 0, 0, 0, 0, 0, 0, 0, 0, 0],\n",
       "       [0, 0, 0, 0, 0, 0, 0, 0, 0, 0, 0, 0, 0],\n",
       "       [0, 0, 0, 0, 0, 0, 0, 0, 0, 0, 0, 0, 0],\n",
       "       [0, 0, 0, 0, 0, 0, 0, 0, 0, 0, 0, 0, 0],\n",
       "       [0, 0, 0, 0, 0, 0, 0, 0, 0, 0, 0, 0, 0],\n",
       "       [0, 0, 0, 0, 0, 0, 0, 0, 0, 0, 0, 0, 0]], dtype=object)"
      ]
     },
     "execution_count": 332,
     "metadata": {},
     "output_type": "execute_result"
    }
   ],
   "source": [
    "diff = allsplice[5][5] - allsplice[1][5]\n",
    "diff"
   ]
  },
  {
   "cell_type": "code",
   "execution_count": 334,
   "metadata": {},
   "outputs": [],
   "source": [
    "allsplice = np.zeros((wellh, wellw), dtype = object)\n",
    "splice = np.zeros((divh, divw), dtype = object)\n",
    "\n",
    "for i in range(wellh):\n",
    "    for j in range(wellw):\n",
    "        xbeg = divh * j\n",
    "        ybeg = divw * i\n",
    "        yend = divh * i\n",
    "        xend = divw * j\n",
    "        splice = imarray[ybeg:yend, xbeg:xend]\n",
    "        #print(splice)\n",
    "        allsplice[i][j] = splice\n",
    "    #print(allsplice.shape)"
   ]
  },
  {
   "cell_type": "code",
   "execution_count": 261,
   "metadata": {},
   "outputs": [],
   "source": [
    "allsplice = np.zeros((wellh, wellw), dtype = object)\n",
    "splice = []\n",
    "splice = np.zeros((divh, divw), dtype = object)\n",
    "xbeg = 0\n",
    "ybeg = 0\n",
    "\n",
    "for k in range(divh):\n",
    "    #print(k)\n",
    "    #print(xbeg, ybeg)\n",
    "    for m in range(divw):\n",
    "        #print(m)\n",
    "        rowin = ybeg + k\n",
    "        colin = xbeg + m\n",
    "        #print(rowin, colin)\n",
    "        value = imarray[rowin][colin]\n",
    "        splice[k][m] = value\n"
   ]
  },
  {
   "cell_type": "code",
   "execution_count": 250,
   "metadata": {},
   "outputs": [
    {
     "name": "stdout",
     "output_type": "stream",
     "text": [
      "[[29993 29984 29966 29949 29941 29945 29951 29929 29939 29933 29937 29933\n",
      "  29931]\n",
      " [30001 29976 29972 29956 29953 29966 29945 29935 29935 29939 29939 29937\n",
      "  29933]\n",
      " [29982 29974 29982 29962 29949 29951 29962 29943 29941 29929 29945 29941\n",
      "  29941]\n",
      " [29997 29980 29986 29974 29956 29956 29964 29943 29947 29949 29951 29953\n",
      "  29931]\n",
      " [29989 29970 29968 29962 29968 29947 29953 29958 29958 29931 29933 29931\n",
      "  29953]\n",
      " [30001 29982 29976 29968 29974 29958 29966 29962 29960 29935 29939 29947\n",
      "  29945]\n",
      " [29984 29980 29978 29968 29962 29960 29974 29949 29933 29947 29931 29939\n",
      "  29931]\n",
      " [29999 29980 29974 29962 29956 29956 29966 29947 29956 29949 29941 29956\n",
      "  29949]\n",
      " [30007 29984 29986 29966 29947 29960 29974 29956 29949 29945 29937 29937\n",
      "  29947]\n",
      " [30017 29997 29999 29976 29970 29962 29964 29964 29953 29947 29933 29947\n",
      "  29947]\n",
      " [30019 30003 30009 29995 29993 29984 29984 29962 29966 29966 29949 29943\n",
      "  29945]\n",
      " [30022 30005 29989 30007 29993 29999 30011 29972 29989 29976 29953 29951\n",
      "  29966]\n",
      " [30028 30009 30003 30013 30009 30007 29999 29993 29997 30001 29993 29958\n",
      "  29964]\n",
      " [29995 30003 30001 29999 29995 30001 30003 29984 30011 30003 29989 29984\n",
      "  29970]\n",
      " [29980 29982 29984 29982 29991 29978 29989 29984 29976 29982 29964 29984\n",
      "  29980]]\n"
     ]
    }
   ],
   "source": [
    "print(splice)"
   ]
  },
  {
   "cell_type": "code",
   "execution_count": 203,
   "metadata": {},
   "outputs": [
    {
     "data": {
      "text/plain": [
       "array([30075, 30056, 30054, 30044, 30046, 30038, 30028, 30034, 30011,\n",
       "       30017, 30026, 30026, 30044, 30071, 30176, 30325, 30388, 30442,\n",
       "       30475, 30491, 30501, 30497, 30499, 30489, 30493, 30497, 30501,\n",
       "       30509, 30520, 30534, 30554, 30589, 30606, 30614, 30575, 30477,\n",
       "       30434, 30414, 30386, 30388, 30378, 30336, 30323, 30327, 30352,\n",
       "       30412, 30473, 30475, 30454, 30440, 30440, 30465, 30497, 30501,\n",
       "       30374, 30325, 30279, 30259, 30259, 30299, 30346, 30394, 30558,\n",
       "       30566, 30556, 30540, 30503, 30426, 30416, 30520, 30513, 30526,\n",
       "       30550, 30544, 30485, 30591, 30581, 30384, 30305, 30297, 30299,\n",
       "       30313, 30291, 30295, 30336, 30323, 30334, 30305, 30330, 30350,\n",
       "       30265, 30261, 30376, 30392, 30400, 30473, 30542, 30552, 30548,\n",
       "       30515, 30503, 30485, 30450, 30436, 30398, 30327, 30095, 29968,\n",
       "       29929, 29916, 29912, 29914, 29910, 29902, 29893, 29883, 29896,\n",
       "       29896, 29912, 29904, 29904, 29916, 29918, 29916, 29908, 29904,\n",
       "       29898, 29902, 29902, 29902, 29896, 29900, 29891, 29883, 29877,\n",
       "       29885, 29885, 29898, 29898, 29891, 29891, 29896, 29898, 29881,\n",
       "       29900, 29879, 29885, 29883, 29870, 29883, 29875, 29885, 29873,\n",
       "       29881, 29879, 29906, 29891, 29873, 29868, 29879], dtype=uint16)"
      ]
     },
     "execution_count": 203,
     "metadata": {},
     "output_type": "execute_result"
    }
   ],
   "source": [
    "imarray[colin, rowin]"
   ]
  },
  {
   "cell_type": "code",
   "execution_count": 190,
   "metadata": {},
   "outputs": [],
   "source": [
    "allsplice = np.zeros((wellh, wellw), dtype = object)\n"
   ]
  },
  {
   "cell_type": "code",
   "execution_count": 335,
   "metadata": {},
   "outputs": [],
   "source": [
    "splice = np.zeros((divh, divw))\n",
    "splice[3,3] = 5"
   ]
  },
  {
   "cell_type": "code",
   "execution_count": 336,
   "metadata": {},
   "outputs": [],
   "source": [
    "allsplice[0,0] = splice[:]"
   ]
  },
  {
   "cell_type": "code",
   "execution_count": 131,
   "metadata": {},
   "outputs": [
    {
     "data": {
      "text/plain": [
       "array([[0., 0., 0., 0., 0., 0., 0., 0., 0., 0., 0., 0., 0.],\n",
       "       [0., 0., 0., 0., 0., 0., 0., 0., 0., 0., 0., 0., 0.],\n",
       "       [0., 0., 0., 0., 0., 0., 0., 0., 0., 0., 0., 0., 0.],\n",
       "       [0., 0., 0., 5., 0., 0., 0., 0., 0., 0., 0., 0., 0.],\n",
       "       [0., 0., 0., 0., 0., 0., 0., 0., 0., 0., 0., 0., 0.],\n",
       "       [0., 0., 0., 0., 0., 0., 0., 0., 0., 0., 0., 0., 0.],\n",
       "       [0., 0., 0., 0., 0., 0., 0., 0., 0., 0., 0., 0., 0.],\n",
       "       [0., 0., 0., 0., 0., 0., 0., 0., 0., 0., 0., 0., 0.],\n",
       "       [0., 0., 0., 0., 0., 0., 0., 0., 0., 0., 0., 0., 0.],\n",
       "       [0., 0., 0., 0., 0., 0., 0., 0., 0., 0., 0., 0., 0.],\n",
       "       [0., 0., 0., 0., 0., 0., 0., 0., 0., 0., 0., 0., 0.],\n",
       "       [0., 0., 0., 0., 0., 0., 0., 0., 0., 0., 0., 0., 0.],\n",
       "       [0., 0., 0., 0., 0., 0., 0., 0., 0., 0., 0., 0., 0.],\n",
       "       [0., 0., 0., 0., 0., 0., 0., 0., 0., 0., 0., 0., 0.],\n",
       "       [0., 0., 0., 0., 0., 0., 0., 0., 0., 0., 0., 0., 0.]])"
      ]
     },
     "execution_count": 131,
     "metadata": {},
     "output_type": "execute_result"
    }
   ],
   "source": [
    "allsplice[0,0]"
   ]
  },
  {
   "cell_type": "code",
   "execution_count": 130,
   "metadata": {},
   "outputs": [],
   "source": [
    "array =([[12,  5,  2,  4],\n",
    "       [ 7,  6,  8,  8],\n",
    "       [ 1,  6,  7,  7]])"
   ]
  },
  {
   "cell_type": "code",
   "execution_count": 210,
   "metadata": {},
   "outputs": [
    {
     "data": {
      "text/plain": [
       "8"
      ]
     },
     "execution_count": 210,
     "metadata": {},
     "output_type": "execute_result"
    }
   ],
   "source": [
    "array[1][2]"
   ]
  },
  {
   "cell_type": "code",
   "execution_count": 92,
   "metadata": {},
   "outputs": [
    {
     "data": {
      "text/plain": [
       "[[12, 5, 2, 4]]"
      ]
     },
     "execution_count": 92,
     "metadata": {},
     "output_type": "execute_result"
    }
   ],
   "source": [
    "array[:2][:1]"
   ]
  },
  {
   "cell_type": "markdown",
   "metadata": {},
   "source": [
    "### Using if splits to sort into separate bins"
   ]
  },
  {
   "cell_type": "code",
   "execution_count": null,
   "metadata": {},
   "outputs": [],
   "source": [
    "allsplice = np.zeros((wellh, wellw), dtype = object)\n",
    "splice = np.zeros((divh, divw), dtype = object)\n",
    "\n",
    "row = 0\n",
    "col = 0 \n",
    "\n",
    "while row < height:\n",
    "    while col < width:\n",
    "        value = imarray[row][col]\n",
    "        \n",
    "                splice[k][m] = value\n",
    "        allsplice[i][j] = splice\n",
    "    print(allsplice.shape)"
   ]
  },
  {
   "cell_type": "code",
   "execution_count": 340,
   "metadata": {},
   "outputs": [
    {
     "ename": "ValueError",
     "evalue": "could not broadcast input array from shape (15,13) into shape (8,12)",
     "output_type": "error",
     "traceback": [
      "\u001b[1;31m---------------------------------------------------------------------------\u001b[0m",
      "\u001b[1;31mValueError\u001b[0m                                Traceback (most recent call last)",
      "\u001b[1;32m<ipython-input-340-64bbdeaf928e>\u001b[0m in \u001b[0;36m<module>\u001b[1;34m\u001b[0m\n\u001b[0;32m      1\u001b[0m \u001b[0mallsplice\u001b[0m \u001b[1;33m=\u001b[0m \u001b[0mnp\u001b[0m\u001b[1;33m.\u001b[0m\u001b[0mzeros\u001b[0m\u001b[1;33m(\u001b[0m\u001b[1;33m(\u001b[0m\u001b[0mwellh\u001b[0m\u001b[1;33m,\u001b[0m \u001b[0mwellw\u001b[0m\u001b[1;33m)\u001b[0m\u001b[1;33m,\u001b[0m \u001b[0mdtype\u001b[0m \u001b[1;33m=\u001b[0m \u001b[0mobject\u001b[0m\u001b[1;33m)\u001b[0m\u001b[1;33m\u001b[0m\u001b[1;33m\u001b[0m\u001b[0m\n\u001b[0;32m      2\u001b[0m \u001b[0msplice\u001b[0m \u001b[1;33m=\u001b[0m \u001b[0mnp\u001b[0m\u001b[1;33m.\u001b[0m\u001b[0mzeros\u001b[0m\u001b[1;33m(\u001b[0m\u001b[1;33m(\u001b[0m\u001b[0mdivh\u001b[0m\u001b[1;33m,\u001b[0m \u001b[0mdivw\u001b[0m\u001b[1;33m)\u001b[0m\u001b[1;33m,\u001b[0m \u001b[0mdtype\u001b[0m \u001b[1;33m=\u001b[0m \u001b[0mobject\u001b[0m\u001b[1;33m)\u001b[0m\u001b[1;33m\u001b[0m\u001b[1;33m\u001b[0m\u001b[0m\n\u001b[1;32m----> 3\u001b[1;33m \u001b[0mallsplice\u001b[0m\u001b[1;33m[\u001b[0m\u001b[1;33m:\u001b[0m\u001b[1;33m]\u001b[0m\u001b[1;33m[\u001b[0m\u001b[1;33m:\u001b[0m\u001b[1;33m]\u001b[0m \u001b[1;33m=\u001b[0m \u001b[0msplice\u001b[0m\u001b[1;33m[\u001b[0m\u001b[1;33m:\u001b[0m\u001b[1;33m]\u001b[0m\u001b[1;33m\u001b[0m\u001b[1;33m\u001b[0m\u001b[0m\n\u001b[0m",
      "\u001b[1;31mValueError\u001b[0m: could not broadcast input array from shape (15,13) into shape (8,12)"
     ]
    }
   ],
   "source": [
    "allsplice = np.zeros((wellh, wellw), dtype = object)\n",
    "splice = np.zeros((divh, divw), dtype = object)\n",
    "\n",
    "while row \n",
    "allsplice[:][:] = splice[:]"
   ]
  },
  {
   "cell_type": "markdown",
   "metadata": {},
   "source": [
    "## More"
   ]
  },
  {
   "cell_type": "code",
   "execution_count": 342,
   "metadata": {},
   "outputs": [
    {
     "name": "stdout",
     "output_type": "stream",
     "text": [
      "120 160\n"
     ]
    }
   ],
   "source": [
    "chosen = image2[0]\n",
    "\n",
    "height,width = chosen.shape\n",
    "print(height,width)"
   ]
  },
  {
   "cell_type": "code",
   "execution_count": 343,
   "metadata": {},
   "outputs": [
    {
     "name": "stdout",
     "output_type": "stream",
     "text": [
      "15 13\n"
     ]
    }
   ],
   "source": [
    "divx = int(height/8)\n",
    "divy = int(width/12)\n",
    "print(divx,divy)\n",
    "wellx = 8 #number of wells height in 96 well plate\n",
    "welly = 12 #number of wells width in 96 well plate"
   ]
  },
  {
   "cell_type": "code",
   "execution_count": 345,
   "metadata": {},
   "outputs": [
    {
     "name": "stdout",
     "output_type": "stream",
     "text": [
      "(8, 12)\n"
     ]
    }
   ],
   "source": [
    "allsplice = np.zeros((wellx,welly),dtype=object)\n",
    "i =0 \n",
    "for x in range(wellx):\n",
    "    for y in range(welly):\n",
    "        ybeg = divx * (x)\n",
    "        yend = divx * (x+1)\n",
    "        xbeg = divy * (y)\n",
    "        xend = divy * (y+1)\n",
    "        allsplice[x,y] = image2[i,ybeg:yend,xbeg:xend]\n",
    "print(allsplice.shape)"
   ]
  },
  {
   "cell_type": "code",
   "execution_count": 348,
   "metadata": {},
   "outputs": [
    {
     "data": {
      "text/plain": [
       "array([[30050, 30054, 30040, 30044, 30034, 30040, 30034, 30032, 30015,\n",
       "        30007, 30001, 29997, 29993],\n",
       "       [30054, 30060, 30052, 30058, 30056, 30058, 30044, 30009, 30005,\n",
       "        30005, 29997, 29997, 29999],\n",
       "       [30064, 30052, 30050, 30060, 30052, 30052, 30052, 30015, 30005,\n",
       "        30003, 29993, 30001, 30001],\n",
       "       [30040, 30048, 30046, 30044, 30040, 30052, 30042, 30011, 30015,\n",
       "        30003, 29997, 30005, 29999],\n",
       "       [30036, 30032, 30032, 30024, 30034, 30044, 30038, 30013, 30013,\n",
       "        30009, 29999, 29999, 29991],\n",
       "       [30030, 30030, 30017, 30005, 30009, 30015, 30028, 30017, 30007,\n",
       "        29999, 29999, 29993, 29995],\n",
       "       [30040, 30038, 30036, 30015, 30017, 30022, 30026, 30009, 30019,\n",
       "        30009, 30011, 30007, 30003],\n",
       "       [30011, 30017, 30028, 30028, 30026, 30019, 30032, 30013, 30022,\n",
       "        30017, 29999, 29993, 30003],\n",
       "       [30015, 30011, 30019, 30011, 30032, 30026, 30017, 30011, 30007,\n",
       "        30011, 29995, 30005, 29991],\n",
       "       [30026, 30017, 30019, 30024, 30036, 30026, 30024, 30024, 30009,\n",
       "        30022, 30013, 30001, 30007],\n",
       "       [30024, 30022, 30026, 30022, 30009, 30017, 30019, 30015, 30009,\n",
       "        30011, 30003, 30013, 29991],\n",
       "       [30007, 30013, 30015, 30011, 30022, 30011, 30003, 30005, 30003,\n",
       "        30009, 29997, 30001, 30003],\n",
       "       [29989, 29984, 30005, 29997, 30007, 30013, 30005, 30003, 29995,\n",
       "        30009, 30003, 29995, 30011],\n",
       "       [29982, 29982, 29991, 29984, 29995, 29997, 30007, 30013, 30005,\n",
       "        30015, 30001, 30003, 30007],\n",
       "       [29993, 29982, 29984, 29978, 29970, 30003, 30013, 30013, 30009,\n",
       "        30009, 30009, 30001, 30015]], dtype=uint16)"
      ]
     },
     "execution_count": 348,
     "metadata": {},
     "output_type": "execute_result"
    }
   ],
   "source": [
    "allsplice[5][1]"
   ]
  },
  {
   "cell_type": "code",
   "execution_count": 347,
   "metadata": {},
   "outputs": [
    {
     "data": {
      "text/plain": [
       "array([[  325,   333,   347,   373,   393,   473,   506,   475,   432,\n",
       "          435,   501,   498,   418],\n",
       "       [  327,   321,   331,   351,   371,   434,   498,   493,   431,\n",
       "          398,   459,   382,   278],\n",
       "       [  313,   280,   311,   353,   355,   427,   477,   499,   427,\n",
       "          356,   274,   279,   217],\n",
       "       [  336,   323,   367,   405,   393,   413,   486,   493,   434,\n",
       "          248,   193,   205,   157],\n",
       "       [  350,   320,   438,   411,   378,   415,   439,   425,   337,\n",
       "          163,   127,   130,   105],\n",
       "       [  351,   394,   494,   436,   374,   380,   390,   325,   260,\n",
       "          145,    38,    70,   131],\n",
       "       [  381,   445,   507,   439,   368,   356,   306,   236,   262,\n",
       "           86, 65473,    86,   132],\n",
       "       [  454,   461,   522,   431,   348,   295,   186,   205,   230,\n",
       "           25, 65428,    64,    41],\n",
       "       [  454,   464,   505,   465,   327,   221,   131,   129,   143,\n",
       "        65473, 65440, 65455, 65434],\n",
       "       [  436,   425,   503,   474,   288,   139,   100,    55,     8,\n",
       "        65433, 65331, 65260, 65273],\n",
       "       [  442,   413,   451,   473,   243,   109,    22, 65508, 65458,\n",
       "        65320, 65198, 65119, 65206],\n",
       "       [  442,   384,   384,   428,   208,    38, 65472, 65315, 65341,\n",
       "        65289, 65108, 65022, 65150],\n",
       "       [  498,   376,   329,   325,   171,    28, 65375, 65168, 65202,\n",
       "        65101, 65017, 64967, 65106],\n",
       "       [  583,   441,   259,   150,   195,    16, 65266, 65036, 65017,\n",
       "        65060, 64997, 64953, 65105],\n",
       "       [  607,   474,   200,   135,   101, 65506, 65218, 64948, 64914,\n",
       "        65013, 65021, 65002, 65112]], dtype=uint16)"
      ]
     },
     "execution_count": 347,
     "metadata": {},
     "output_type": "execute_result"
    }
   ],
   "source": [
    "diff = allsplice[5][5] - allsplice[1][5]\n",
    "diff"
   ]
  },
  {
   "cell_type": "markdown",
   "metadata": {},
   "source": [
    "### "
   ]
  },
  {
   "cell_type": "code",
   "execution_count": null,
   "metadata": {},
   "outputs": [],
   "source": []
  },
  {
   "cell_type": "code",
   "execution_count": null,
   "metadata": {},
   "outputs": [],
   "source": []
  },
  {
   "cell_type": "markdown",
   "metadata": {},
   "source": [
    "### Soft: User modiciations\n",
    "While we are using the 96 well plates for this experiment, there are many different sizes of well plates that will need to be accounted for. This will change the tiling and the sizes of the tiles in order to accomodate the change in wells. Our specific robot is designed with 96 well plates in mind although custom containers can be added with different specificiations. \n",
    "\n",
    "#### Common well plate specifications\n",
    "* 96 well plate (2:3 rectangular mix - 8x12)\n",
    "* 384 well plate (2:3 rectanguar mix - 16x24)\n",
    "* 24 well plate (3x6)\n"
   ]
  },
  {
   "cell_type": "code",
   "execution_count": null,
   "metadata": {},
   "outputs": [],
   "source": []
  }
 ],
 "metadata": {
  "kernelspec": {
   "display_name": "Python 3",
   "language": "python",
   "name": "python3"
  },
  "language_info": {
   "codemirror_mode": {
    "name": "ipython",
    "version": 3
   },
   "file_extension": ".py",
   "mimetype": "text/x-python",
   "name": "python",
   "nbconvert_exporter": "python",
   "pygments_lexer": "ipython3",
   "version": "3.6.8"
  }
 },
 "nbformat": 4,
 "nbformat_minor": 2
}
