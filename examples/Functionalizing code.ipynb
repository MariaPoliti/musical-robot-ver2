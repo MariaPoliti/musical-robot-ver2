{
 "cells": [
  {
   "cell_type": "code",
   "execution_count": 16,
   "metadata": {},
   "outputs": [],
   "source": [
    "import pandas as pd\n",
    "import numpy as np\n",
    "import sys\n",
    "import matplotlib.pyplot as plt\n",
    "from skimage import io\n",
    "from scipy import ndimage as ndi\n",
    "from skimage import feature\n",
    "from skimage.filters import gaussian\n",
    "from skimage.filters import sobel\n",
    "from skimage.exposure import equalize_hist\n",
    "from skimage.exposure import equalize_adapthist\n",
    "from skimage.exposure import rescale_intensity\n",
    "from skimage.feature import canny\n",
    "from scipy.ndimage.morphology import binary_fill_holes\n",
    "from skimage.measure import label\n",
    "from skimage.measure import regionprops\n",
    "from skimage.morphology import remove_small_objects  \n"
   ]
  },
  {
   "cell_type": "markdown",
   "metadata": {},
   "source": [
    "### Function to load the input file"
   ]
  },
  {
   "cell_type": "code",
   "execution_count": 7,
   "metadata": {},
   "outputs": [],
   "source": [
    "def input_file(file_name):\n",
    "    ''' To load the imput file as an array.\n",
    "    Args:\n",
    "        file_name (string) : Name of the file to be loaded as it is \n",
    "        saved on the disk. Provide file path if it is not in\n",
    "        the same directory as the jupyter notebook.\n",
    "    Returns:\n",
    "        In case of a video, returns an array for each frame\n",
    "        in the video.\n",
    "        In case of an image, return an array.    \n",
    "    '''\n",
    "    frames = io.imread(file_name)\n",
    "    return frames"
   ]
  },
  {
   "cell_type": "code",
   "execution_count": 8,
   "metadata": {},
   "outputs": [],
   "source": [
    "frames = input_file('../doc/PPA_Melting_6_14_19.tiff')"
   ]
  },
  {
   "cell_type": "markdown",
   "metadata": {},
   "source": [
    "### Function to flip the frames horizontally and vertically to correct for the mirroring during recording"
   ]
  },
  {
   "cell_type": "code",
   "execution_count": 13,
   "metadata": {},
   "outputs": [],
   "source": [
    "def flip_frame(frames):\n",
    "    ''' To flip all the loaded frames horizontally and vertically\n",
    "        to correct for the mirroring during recording.\n",
    "        Args:\n",
    "        frames(Array): An array containing an array for each frame\n",
    "        in the video or just a single array in case of an image.\n",
    "        Returns:\n",
    "        Flipped frames that can be processed to get temperature data.\n",
    "    '''\n",
    "    flip_frames = []\n",
    "    for frame in frames:\n",
    "        f_frame = np.fliplr(frame)\n",
    "        flip_frames.append(np.flipud(f_frame))\n",
    "    return flip_frames"
   ]
  },
  {
   "cell_type": "code",
   "execution_count": 14,
   "metadata": {},
   "outputs": [],
   "source": [
    "flip_frames = flip_frame(frames)"
   ]
  },
  {
   "cell_type": "code",
   "execution_count": 15,
   "metadata": {},
   "outputs": [
    {
     "data": {
      "text/plain": [
       "1619"
      ]
     },
     "execution_count": 15,
     "metadata": {},
     "output_type": "execute_result"
    }
   ],
   "source": [
    "len(flip_frames)"
   ]
  },
  {
   "cell_type": "markdown",
   "metadata": {},
   "source": [
    "### Function to detect edges, fill and label the holes."
   ]
  },
  {
   "cell_type": "code",
   "execution_count": 20,
   "metadata": {},
   "outputs": [],
   "source": [
    "def edge_detection(flip_frames):\n",
    "    ''' To detect the edges of the wells, fill and label them to\n",
    "    determine their centroids.\n",
    "    Args:\n",
    "    flip_frames: The frames to be processed and determine the\n",
    "    sample temperature from.\n",
    "    Returns:\n",
    "    \n",
    "    '''\n",
    "    \n",
    "    edges = feature.canny(flip_frames[0]/1500)\n",
    "    filled_wells = binary_fill_holes(edges)\n",
    "    cl_wells = remove_small_objects(filled_wells,min_size = 20)\n",
    "    labeled_wells = label(cl_wells)\n",
    "    return labeled_wells"
   ]
  },
  {
   "cell_type": "code",
   "execution_count": 21,
   "metadata": {},
   "outputs": [],
   "source": [
    "labeled_wells = edge_detection(flip_frames)"
   ]
  },
  {
   "cell_type": "code",
   "execution_count": 22,
   "metadata": {},
   "outputs": [
    {
     "data": {
      "text/plain": [
       "<matplotlib.image.AxesImage at 0x11e1718d0>"
      ]
     },
     "execution_count": 22,
     "metadata": {},
     "output_type": "execute_result"
    },
    {
     "data": {
      "image/png": "[encoded data removed]",
      "text/plain": [
       "<Figure size 432x288 with 1 Axes>"
      ]
     },
     "metadata": {
      "needs_background": "light"
     },
     "output_type": "display_data"
    }
   ],
   "source": [
    "plt.imshow(labeled_wells)"
   ]
  },
  {
   "cell_type": "markdown",
   "metadata": {},
   "source": [
    "### Function to determine centroids of all the samples"
   ]
  },
  {
   "cell_type": "code",
   "execution_count": 107,
   "metadata": {},
   "outputs": [],
   "source": [
    "def regprop(labeled_wells,flip_frames):\n",
    "    ''' Determines the area and centroid of all samples.\n",
    "        Args:\n",
    "        labeled_wells(array): An array with labeled samples.\n",
    "        flip_frames (array) : Original intensity image to determine\n",
    "        the intensity at sample centroids.\n",
    "        Returns:\n",
    "        A dataframe with information about samples.\n",
    "    '''\n",
    "    regprops = {} \n",
    "    for i in range(len(flip_frames)):\n",
    "        props = regionprops(labeled_wells, intensity_image=flip_frames[i])\n",
    "        x = np.zeros(len(props)).astype(int)\n",
    "        y = np.zeros(len(props)).astype(int)\n",
    "        area = np.zeros(len(props))\n",
    "        perim = np.zeros(len(props))\n",
    "        intensity = np.zeros(len(props),dtype=np.float64)\n",
    "        plate = np.zeros(len(props),dtype=np.float64)\n",
    "        plate_coord = np.zeros(len(props))\n",
    "       \n",
    "        c = 0\n",
    "        for prop in props:\n",
    "            x[c] = int(prop.centroid[0])\n",
    "            y[c] = int(prop.centroid[1])\n",
    "            #print(y[c])\n",
    "            area[c] = prop.area\n",
    "            perim[c] = prop.perimeter\n",
    "            intensity[c] = flip_frames[i][x[c]][y[c]]\n",
    "            plate[c] = flip_frames[i][x[c]][y[c]+10]\n",
    "            plate_coord[c] = y[c]+10\n",
    "            c = c + 1\n",
    "            \n",
    "        regprops[i] = pd.DataFrame({'X': x, 'Y': y,'Plate':plate,'Plate_coord':plate_coord ,'Area': area,\n",
    "                                'Perim': perim, 'Mean Intensity': intensity},dtype=np.float64)\n",
    "    return regprops"
   ]
  },
  {
   "cell_type": "code",
   "execution_count": null,
   "metadata": {},
   "outputs": [],
   "source": []
  },
  {
   "cell_type": "code",
   "execution_count": 108,
   "metadata": {},
   "outputs": [],
   "source": [
    "regprops = regprop(labeled_wells,flip_frames)"
   ]
  },
  {
   "cell_type": "code",
   "execution_count": 109,
   "metadata": {},
   "outputs": [
    {
     "data": {
      "text/html": [
       "<div>\n",
       "<style scoped>\n",
       "    .dataframe tbody tr th:only-of-type {\n",
       "        vertical-align: middle;\n",
       "    }\n",
       "\n",
       "    .dataframe tbody tr th {\n",
       "        vertical-align: top;\n",
       "    }\n",
       "\n",
       "    .dataframe thead th {\n",
       "        text-align: right;\n",
       "    }\n",
       "</style>\n",
       "<table border=\"1\" class=\"dataframe\">\n",
       "  <thead>\n",
       "    <tr style=\"text-align: right;\">\n",
       "      <th></th>\n",
       "      <th>X</th>\n",
       "      <th>Y</th>\n",
       "      <th>Plate</th>\n",
       "      <th>Plate_coord</th>\n",
       "      <th>Area</th>\n",
       "      <th>Perim</th>\n",
       "      <th>Mean Intensity</th>\n",
       "    </tr>\n",
       "  </thead>\n",
       "  <tbody>\n",
       "    <tr>\n",
       "      <th>0</th>\n",
       "      <td>8.0</td>\n",
       "      <td>88.0</td>\n",
       "      <td>29673.0</td>\n",
       "      <td>98.0</td>\n",
       "      <td>26.0</td>\n",
       "      <td>21.414214</td>\n",
       "      <td>29654.0</td>\n",
       "    </tr>\n",
       "    <tr>\n",
       "      <th>1</th>\n",
       "      <td>6.0</td>\n",
       "      <td>82.0</td>\n",
       "      <td>29572.0</td>\n",
       "      <td>92.0</td>\n",
       "      <td>24.0</td>\n",
       "      <td>16.242641</td>\n",
       "      <td>29814.0</td>\n",
       "    </tr>\n",
       "    <tr>\n",
       "      <th>2</th>\n",
       "      <td>7.0</td>\n",
       "      <td>95.0</td>\n",
       "      <td>29553.0</td>\n",
       "      <td>105.0</td>\n",
       "      <td>22.0</td>\n",
       "      <td>14.828427</td>\n",
       "      <td>29780.0</td>\n",
       "    </tr>\n",
       "    <tr>\n",
       "      <th>3</th>\n",
       "      <td>22.0</td>\n",
       "      <td>89.0</td>\n",
       "      <td>29489.0</td>\n",
       "      <td>99.0</td>\n",
       "      <td>31.0</td>\n",
       "      <td>19.035534</td>\n",
       "      <td>29641.0</td>\n",
       "    </tr>\n",
       "    <tr>\n",
       "      <th>4</th>\n",
       "      <td>48.0</td>\n",
       "      <td>55.0</td>\n",
       "      <td>29476.0</td>\n",
       "      <td>65.0</td>\n",
       "      <td>25.0</td>\n",
       "      <td>16.828427</td>\n",
       "      <td>29332.0</td>\n",
       "    </tr>\n",
       "    <tr>\n",
       "      <th>5</th>\n",
       "      <td>51.0</td>\n",
       "      <td>32.0</td>\n",
       "      <td>29465.0</td>\n",
       "      <td>42.0</td>\n",
       "      <td>23.0</td>\n",
       "      <td>15.071068</td>\n",
       "      <td>29308.0</td>\n",
       "    </tr>\n",
       "    <tr>\n",
       "      <th>6</th>\n",
       "      <td>53.0</td>\n",
       "      <td>75.0</td>\n",
       "      <td>29534.0</td>\n",
       "      <td>85.0</td>\n",
       "      <td>38.0</td>\n",
       "      <td>21.485281</td>\n",
       "      <td>29329.0</td>\n",
       "    </tr>\n",
       "    <tr>\n",
       "      <th>7</th>\n",
       "      <td>52.0</td>\n",
       "      <td>96.0</td>\n",
       "      <td>29472.0</td>\n",
       "      <td>106.0</td>\n",
       "      <td>54.0</td>\n",
       "      <td>25.071068</td>\n",
       "      <td>29303.0</td>\n",
       "    </tr>\n",
       "    <tr>\n",
       "      <th>8</th>\n",
       "      <td>52.0</td>\n",
       "      <td>116.0</td>\n",
       "      <td>29513.0</td>\n",
       "      <td>126.0</td>\n",
       "      <td>32.0</td>\n",
       "      <td>18.242641</td>\n",
       "      <td>29336.0</td>\n",
       "    </tr>\n",
       "  </tbody>\n",
       "</table>\n",
       "</div>"
      ],
      "text/plain": [
       "      X      Y    Plate  Plate_coord  Area      Perim  Mean Intensity\n",
       "0   8.0   88.0  29673.0         98.0  26.0  21.414214         29654.0\n",
       "1   6.0   82.0  29572.0         92.0  24.0  16.242641         29814.0\n",
       "2   7.0   95.0  29553.0        105.0  22.0  14.828427         29780.0\n",
       "3  22.0   89.0  29489.0         99.0  31.0  19.035534         29641.0\n",
       "4  48.0   55.0  29476.0         65.0  25.0  16.828427         29332.0\n",
       "5  51.0   32.0  29465.0         42.0  23.0  15.071068         29308.0\n",
       "6  53.0   75.0  29534.0         85.0  38.0  21.485281         29329.0\n",
       "7  52.0   96.0  29472.0        106.0  54.0  25.071068         29303.0\n",
       "8  52.0  116.0  29513.0        126.0  32.0  18.242641         29336.0"
      ]
     },
     "execution_count": 109,
     "metadata": {},
     "output_type": "execute_result"
    }
   ],
   "source": [
    "regprops[0]"
   ]
  },
  {
   "cell_type": "code",
   "execution_count": 110,
   "metadata": {},
   "outputs": [
    {
     "data": {
      "text/plain": [
       "<matplotlib.collections.PathCollection at 0x11e41f588>"
      ]
     },
     "execution_count": 110,
     "metadata": {},
     "output_type": "execute_result"
    },
    {
     "data": {
      "image/png": "[encoded data removed]",
      "text/plain": [
       "<Figure size 432x288 with 1 Axes>"
      ]
     },
     "metadata": {
      "needs_background": "light"
     },
     "output_type": "display_data"
    }
   ],
   "source": [
    "plt.imshow(flip_frames[0])\n",
    "plt.scatter(regprops[0]['Plate_coord'],regprops[0]['X'])"
   ]
  },
  {
   "cell_type": "code",
   "execution_count": 46,
   "metadata": {},
   "outputs": [],
   "source": [
    "for i in range(len(flip_frames)):\n",
    "    if len(regprops[i]) != 9:\n",
    "        print('Wrong number of samples')\n",
    "        print(i)"
   ]
  },
  {
   "cell_type": "markdown",
   "metadata": {},
   "source": [
    "### Function to obtain temperature of samples and plate temp"
   ]
  },
  {
   "cell_type": "code",
   "execution_count": 121,
   "metadata": {},
   "outputs": [],
   "source": [
    "def sample_temp(regprops,flip_frames):\n",
    "    temp = []\n",
    "    plate_temp = []\n",
    "    for j in range(len(regprops[1])):\n",
    "        temp_well = []\n",
    "        plate_well_temp = []\n",
    "        for i in range(len(flip_frames)):\n",
    "            temp_well.append(regprops[i]['Mean Intensity'][j])\n",
    "            plate_well_temp.append(regprops[i]['Plate'][j])\n",
    "        temp.append(temp_well)\n",
    "        plate_temp.append(plate_well_temp)\n",
    "    return temp,plate_temp"
   ]
  },
  {
   "cell_type": "code",
   "execution_count": 117,
   "metadata": {},
   "outputs": [],
   "source": [
    "temp, plate_temp = sample_temp(regprops,flip_frames)"
   ]
  },
  {
   "cell_type": "code",
   "execution_count": null,
   "metadata": {},
   "outputs": [],
   "source": []
  }
 ],
 "metadata": {
  "kernelspec": {
   "display_name": "Python 3",
   "language": "python",
   "name": "python3"
  },
  "language_info": {
   "codemirror_mode": {
    "name": "ipython",
    "version": 3
   },
   "file_extension": ".py",
   "mimetype": "text/x-python",
   "name": "python",
   "nbconvert_exporter": "python",
   "pygments_lexer": "ipython3",
   "version": "3.6.8"
  }
 },
 "nbformat": 4,
 "nbformat_minor": 2
}
